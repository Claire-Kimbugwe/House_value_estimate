{
 "cells": [
  {
   "cell_type": "code",
   "execution_count": null,
   "metadata": {},
   "outputs": [],
   "source": []
  },
  {
   "cell_type": "code",
   "execution_count": 1,
   "metadata": {},
   "outputs": [],
   "source": [
    "import pandas as pd\n",
    "import numpy as np\n",
    "from pandas import Series, DataFrame\n",
    "\n",
    "from datetime import datetime\n",
    "import statistics as stat\n",
    "from scipy.stats.stats import pearsonr\n",
    "\n",
    "import seaborn as sb\n",
    "import matplotlib.pyplot as plt\n",
    "from matplotlib import rcParams\n",
    "\n",
    "from sklearn.linear_model import LinearRegression\n",
    "from sklearn.model_selection import train_test_split\n",
    "%matplotlib inline\n",
    "\n",
    "rcParams['figure.figsize'] = 6, 4\n",
    "sb.set_style('whitegrid')\n"
   ]
  },
  {
   "cell_type": "code",
   "execution_count": 2,
   "metadata": {},
   "outputs": [],
   "source": [
    "data = pd.read_csv('best_five_zipcodes.csv')"
   ]
  },
  {
   "cell_type": "markdown",
   "metadata": {},
   "source": [
    "## Initial data exploration"
   ]
  },
  {
   "cell_type": "code",
   "execution_count": 3,
   "metadata": {},
   "outputs": [
    {
     "data": {
      "text/plain": [
       "Index(['Unnamed: 0', 'year_built', 'stories', 'num_bedrooms', 'full_bathrooms',\n",
       "       'half_bathrooms', 'livable_sqft', 'total_sqft', 'garage_type',\n",
       "       'garage_sqft', 'carport_sqft', 'has_fireplace', 'has_pool',\n",
       "       'has_central_heating', 'has_central_cooling', 'house_number',\n",
       "       'street_name', 'unit_number', 'city', 'zip_code', 'sale_price',\n",
       "       'Year_levels'],\n",
       "      dtype='object')"
      ]
     },
     "execution_count": 3,
     "metadata": {},
     "output_type": "execute_result"
    }
   ],
   "source": [
    "data.columns"
   ]
  },
  {
   "cell_type": "code",
   "execution_count": 4,
   "metadata": {},
   "outputs": [
    {
     "data": {
      "text/html": [
       "<div>\n",
       "<style scoped>\n",
       "    .dataframe tbody tr th:only-of-type {\n",
       "        vertical-align: middle;\n",
       "    }\n",
       "\n",
       "    .dataframe tbody tr th {\n",
       "        vertical-align: top;\n",
       "    }\n",
       "\n",
       "    .dataframe thead th {\n",
       "        text-align: right;\n",
       "    }\n",
       "</style>\n",
       "<table border=\"1\" class=\"dataframe\">\n",
       "  <thead>\n",
       "    <tr style=\"text-align: right;\">\n",
       "      <th></th>\n",
       "      <th>Unnamed: 0</th>\n",
       "      <th>year_built</th>\n",
       "      <th>stories</th>\n",
       "      <th>num_bedrooms</th>\n",
       "      <th>full_bathrooms</th>\n",
       "      <th>half_bathrooms</th>\n",
       "      <th>livable_sqft</th>\n",
       "      <th>total_sqft</th>\n",
       "      <th>garage_sqft</th>\n",
       "      <th>carport_sqft</th>\n",
       "      <th>house_number</th>\n",
       "      <th>unit_number</th>\n",
       "      <th>zip_code</th>\n",
       "      <th>sale_price</th>\n",
       "    </tr>\n",
       "  </thead>\n",
       "  <tbody>\n",
       "    <tr>\n",
       "      <th>count</th>\n",
       "      <td>8099.000000</td>\n",
       "      <td>8099.000000</td>\n",
       "      <td>8099.000000</td>\n",
       "      <td>8099.000000</td>\n",
       "      <td>8099.000000</td>\n",
       "      <td>8099.000000</td>\n",
       "      <td>8099.000000</td>\n",
       "      <td>8099.000000</td>\n",
       "      <td>8099.000000</td>\n",
       "      <td>8099.000000</td>\n",
       "      <td>8099.000000</td>\n",
       "      <td>284.000000</td>\n",
       "      <td>8099.000000</td>\n",
       "      <td>8.099000e+03</td>\n",
       "    </tr>\n",
       "    <tr>\n",
       "      <th>mean</th>\n",
       "      <td>21648.850846</td>\n",
       "      <td>2000.751698</td>\n",
       "      <td>1.502531</td>\n",
       "      <td>3.448821</td>\n",
       "      <td>2.195209</td>\n",
       "      <td>0.525003</td>\n",
       "      <td>2288.066058</td>\n",
       "      <td>2418.102852</td>\n",
       "      <td>526.712434</td>\n",
       "      <td>15.287319</td>\n",
       "      <td>18052.676874</td>\n",
       "      <td>2066.683099</td>\n",
       "      <td>11097.757131</td>\n",
       "      <td>4.863520e+05</td>\n",
       "    </tr>\n",
       "    <tr>\n",
       "      <th>std</th>\n",
       "      <td>12402.321901</td>\n",
       "      <td>12.607344</td>\n",
       "      <td>0.530462</td>\n",
       "      <td>0.998612</td>\n",
       "      <td>0.686494</td>\n",
       "      <td>0.499405</td>\n",
       "      <td>845.970620</td>\n",
       "      <td>939.084904</td>\n",
       "      <td>203.546001</td>\n",
       "      <td>112.998747</td>\n",
       "      <td>27373.001512</td>\n",
       "      <td>1205.128648</td>\n",
       "      <td>588.225833</td>\n",
       "      <td>3.270866e+05</td>\n",
       "    </tr>\n",
       "    <tr>\n",
       "      <th>min</th>\n",
       "      <td>24.000000</td>\n",
       "      <td>1906.000000</td>\n",
       "      <td>0.000000</td>\n",
       "      <td>1.000000</td>\n",
       "      <td>0.000000</td>\n",
       "      <td>0.000000</td>\n",
       "      <td>-2.000000</td>\n",
       "      <td>6.000000</td>\n",
       "      <td>-4.000000</td>\n",
       "      <td>0.000000</td>\n",
       "      <td>0.000000</td>\n",
       "      <td>8.000000</td>\n",
       "      <td>10250.000000</td>\n",
       "      <td>1.264000e+03</td>\n",
       "    </tr>\n",
       "    <tr>\n",
       "      <th>25%</th>\n",
       "      <td>10325.500000</td>\n",
       "      <td>1994.000000</td>\n",
       "      <td>1.000000</td>\n",
       "      <td>3.000000</td>\n",
       "      <td>2.000000</td>\n",
       "      <td>0.000000</td>\n",
       "      <td>1648.000000</td>\n",
       "      <td>1733.000000</td>\n",
       "      <td>434.000000</td>\n",
       "      <td>0.000000</td>\n",
       "      <td>662.000000</td>\n",
       "      <td>950.000000</td>\n",
       "      <td>10748.000000</td>\n",
       "      <td>3.528000e+05</td>\n",
       "    </tr>\n",
       "    <tr>\n",
       "      <th>50%</th>\n",
       "      <td>21514.000000</td>\n",
       "      <td>2003.000000</td>\n",
       "      <td>1.000000</td>\n",
       "      <td>3.000000</td>\n",
       "      <td>2.000000</td>\n",
       "      <td>1.000000</td>\n",
       "      <td>2149.000000</td>\n",
       "      <td>2271.000000</td>\n",
       "      <td>500.000000</td>\n",
       "      <td>0.000000</td>\n",
       "      <td>4471.000000</td>\n",
       "      <td>2429.500000</td>\n",
       "      <td>11295.000000</td>\n",
       "      <td>4.284010e+05</td>\n",
       "    </tr>\n",
       "    <tr>\n",
       "      <th>75%</th>\n",
       "      <td>31803.500000</td>\n",
       "      <td>2009.000000</td>\n",
       "      <td>2.000000</td>\n",
       "      <td>4.000000</td>\n",
       "      <td>2.000000</td>\n",
       "      <td>1.000000</td>\n",
       "      <td>2812.000000</td>\n",
       "      <td>2956.000000</td>\n",
       "      <td>632.000000</td>\n",
       "      <td>0.000000</td>\n",
       "      <td>24299.500000</td>\n",
       "      <td>2795.000000</td>\n",
       "      <td>11510.000000</td>\n",
       "      <td>5.165970e+05</td>\n",
       "    </tr>\n",
       "    <tr>\n",
       "      <th>max</th>\n",
       "      <td>42353.000000</td>\n",
       "      <td>2017.000000</td>\n",
       "      <td>4.000000</td>\n",
       "      <td>11.000000</td>\n",
       "      <td>8.000000</td>\n",
       "      <td>1.000000</td>\n",
       "      <td>9101.000000</td>\n",
       "      <td>11302.000000</td>\n",
       "      <td>4512.000000</td>\n",
       "      <td>1876.000000</td>\n",
       "      <td>99888.000000</td>\n",
       "      <td>3995.000000</td>\n",
       "      <td>11911.000000</td>\n",
       "      <td>5.670002e+06</td>\n",
       "    </tr>\n",
       "  </tbody>\n",
       "</table>\n",
       "</div>"
      ],
      "text/plain": [
       "         Unnamed: 0   year_built      stories  num_bedrooms  full_bathrooms  \\\n",
       "count   8099.000000  8099.000000  8099.000000   8099.000000     8099.000000   \n",
       "mean   21648.850846  2000.751698     1.502531      3.448821        2.195209   \n",
       "std    12402.321901    12.607344     0.530462      0.998612        0.686494   \n",
       "min       24.000000  1906.000000     0.000000      1.000000        0.000000   \n",
       "25%    10325.500000  1994.000000     1.000000      3.000000        2.000000   \n",
       "50%    21514.000000  2003.000000     1.000000      3.000000        2.000000   \n",
       "75%    31803.500000  2009.000000     2.000000      4.000000        2.000000   \n",
       "max    42353.000000  2017.000000     4.000000     11.000000        8.000000   \n",
       "\n",
       "       half_bathrooms  livable_sqft    total_sqft  garage_sqft  carport_sqft  \\\n",
       "count     8099.000000   8099.000000   8099.000000  8099.000000   8099.000000   \n",
       "mean         0.525003   2288.066058   2418.102852   526.712434     15.287319   \n",
       "std          0.499405    845.970620    939.084904   203.546001    112.998747   \n",
       "min          0.000000     -2.000000      6.000000    -4.000000      0.000000   \n",
       "25%          0.000000   1648.000000   1733.000000   434.000000      0.000000   \n",
       "50%          1.000000   2149.000000   2271.000000   500.000000      0.000000   \n",
       "75%          1.000000   2812.000000   2956.000000   632.000000      0.000000   \n",
       "max          1.000000   9101.000000  11302.000000  4512.000000   1876.000000   \n",
       "\n",
       "       house_number  unit_number      zip_code    sale_price  \n",
       "count   8099.000000   284.000000   8099.000000  8.099000e+03  \n",
       "mean   18052.676874  2066.683099  11097.757131  4.863520e+05  \n",
       "std    27373.001512  1205.128648    588.225833  3.270866e+05  \n",
       "min        0.000000     8.000000  10250.000000  1.264000e+03  \n",
       "25%      662.000000   950.000000  10748.000000  3.528000e+05  \n",
       "50%     4471.000000  2429.500000  11295.000000  4.284010e+05  \n",
       "75%    24299.500000  2795.000000  11510.000000  5.165970e+05  \n",
       "max    99888.000000  3995.000000  11911.000000  5.670002e+06  "
      ]
     },
     "execution_count": 4,
     "metadata": {},
     "output_type": "execute_result"
    }
   ],
   "source": [
    "data.describe()"
   ]
  },
  {
   "cell_type": "code",
   "execution_count": 5,
   "metadata": {},
   "outputs": [
    {
     "name": "stdout",
     "output_type": "stream",
     "text": [
      "<class 'pandas.core.frame.DataFrame'>\n",
      "RangeIndex: 8099 entries, 0 to 8098\n",
      "Data columns (total 22 columns):\n",
      "Unnamed: 0             8099 non-null int64\n",
      "year_built             8099 non-null int64\n",
      "stories                8099 non-null int64\n",
      "num_bedrooms           8099 non-null int64\n",
      "full_bathrooms         8099 non-null int64\n",
      "half_bathrooms         8099 non-null int64\n",
      "livable_sqft           8099 non-null int64\n",
      "total_sqft             8099 non-null int64\n",
      "garage_type            8099 non-null object\n",
      "garage_sqft            8099 non-null int64\n",
      "carport_sqft           8099 non-null int64\n",
      "has_fireplace          8099 non-null bool\n",
      "has_pool               8099 non-null bool\n",
      "has_central_heating    8099 non-null bool\n",
      "has_central_cooling    8099 non-null bool\n",
      "house_number           8099 non-null int64\n",
      "street_name            8099 non-null object\n",
      "unit_number            284 non-null float64\n",
      "city                   8099 non-null object\n",
      "zip_code               8099 non-null int64\n",
      "sale_price             8099 non-null float64\n",
      "Year_levels            8099 non-null object\n",
      "dtypes: bool(4), float64(2), int64(12), object(4)\n",
      "memory usage: 1.1+ MB\n"
     ]
    }
   ],
   "source": [
    "data.info()"
   ]
  },
  {
   "cell_type": "markdown",
   "metadata": {},
   "source": [
    "## Number of houses built over time binned into categorical valuables"
   ]
  },
  {
   "cell_type": "code",
   "execution_count": 6,
   "metadata": {},
   "outputs": [
    {
     "data": {
      "text/plain": [
       "(Year_levels\n",
       " 1850- 1866       0\n",
       " 1867-1883        0\n",
       " 1884-1900        0\n",
       " 1901-1917        8\n",
       " 1918-1934       15\n",
       " 1935-1950       41\n",
       " 1951-1967       88\n",
       " 1968-1984      503\n",
       " 1985-2001     2616\n",
       " 2002-2018     4828\n",
       " dtype: int64,\n",
       " array([1850. , 1866.8, 1883.6, 1900.4, 1917.2, 1934. , 1950.8, 1967.6,\n",
       "        1984.4, 2001.2, 2018. ]))"
      ]
     },
     "execution_count": 6,
     "metadata": {},
     "output_type": "execute_result"
    }
   ],
   "source": [
    "bins = np.linspace(1850,2018, num =11)  #create bins => np.linspace(min,max,numberOfBins)\n",
    "data[\"Year_levels\"] = pd.cut(data['year_built'],bins,labels= ['1850- 1866','1867-1883','1884-1900','1901-1917','1918-1934',\n",
    "                                                              '1935-1950','1951-1967','1968-1984','1985-2001','2002-2018'])#divide dataset\n",
    "data.groupby(\"Year_levels\").size(), bins #show bin sises and bins"
   ]
  },
  {
   "cell_type": "code",
   "execution_count": 7,
   "metadata": {},
   "outputs": [
    {
     "data": {
      "text/plain": [
       "<seaborn.axisgrid.FacetGrid at 0x106ee69e8>"
      ]
     },
     "execution_count": 7,
     "metadata": {},
     "output_type": "execute_result"
    },
    {
     "data": {
      "image/png": "[encoded data removed]",
      "text/plain": [
       "<Figure size 576x288 with 1 Axes>"
      ]
     },
     "metadata": {
      "needs_background": "light"
     },
     "output_type": "display_data"
    }
   ],
   "source": [
    "sb.catplot('Year_levels', order=['1850- 1866','1867-1883','1884-1900','1901-1917','1918-1934',\n",
    "                            '1935-1950','1951-1967','1968-1984','1985-2001','2002-2018'], data= data, kind='count',\n",
    "          height = 4, aspect =2)"
   ]
  },
  {
   "cell_type": "markdown",
   "metadata": {},
   "source": [
    "## popularity of houses based on number of bedrooms"
   ]
  },
  {
   "cell_type": "code",
   "execution_count": 8,
   "metadata": {},
   "outputs": [
    {
     "data": {
      "text/plain": [
       "<function seaborn.utils.despine(fig=None, ax=None, top=True, right=True, left=False, bottom=False, offset=None, trim=False)>"
      ]
     },
     "execution_count": 8,
     "metadata": {},
     "output_type": "execute_result"
    },
    {
     "data": {
      "image/png": "[encoded data removed]",
      "text/plain": [
       "<Figure size 432x288 with 1 Axes>"
      ]
     },
     "metadata": {
      "needs_background": "light"
     },
     "output_type": "display_data"
    }
   ],
   "source": [
    "data['num_bedrooms'].value_counts().plot(kind = 'bar')\n",
    "plt.title('Popularity of Number of bed rooms')\n",
    "plt.xlabel(\"No of benrooms in a house\")\n",
    "plt.ylabel('Count of Houses')\n",
    "sb.despine"
   ]
  },
  {
   "cell_type": "markdown",
   "metadata": {},
   "source": [
    "## popularity of cities based on number of houses"
   ]
  },
  {
   "cell_type": "code",
   "execution_count": 9,
   "metadata": {},
   "outputs": [
    {
     "data": {
      "text/plain": [
       "<function seaborn.utils.despine(fig=None, ax=None, top=True, right=True, left=False, bottom=False, offset=None, trim=False)>"
      ]
     },
     "execution_count": 9,
     "metadata": {},
     "output_type": "execute_result"
    },
    {
     "data": {
      "image/png": "[encoded data removed]",
      "text/plain": [
       "<Figure size 432x288 with 1 Axes>"
      ]
     },
     "metadata": {
      "needs_background": "light"
     },
     "output_type": "display_data"
    }
   ],
   "source": [
    "data['city'].value_counts().plot(kind = 'bar')\n",
    "plt.title('Popularity of Cities based on Number of houses')\n",
    "plt.xlabel(\"No of House\")\n",
    "plt.ylabel('Cities')\n",
    "sb.despine"
   ]
  },
  {
   "cell_type": "markdown",
   "metadata": {},
   "source": [
    "## How are other variables affecting the price. (Correlation between  sell price and other variables)."
   ]
  },
  {
   "cell_type": "code",
   "execution_count": 10,
   "metadata": {},
   "outputs": [
    {
     "data": {
      "text/plain": [
       "0.17065795853464372"
      ]
     },
     "execution_count": 10,
     "metadata": {},
     "output_type": "execute_result"
    }
   ],
   "source": [
    "#correlation btwn year bilt and house\n",
    "data['year_built'].corr(data['sale_price'])"
   ]
  },
  {
   "cell_type": "code",
   "execution_count": 11,
   "metadata": {},
   "outputs": [
    {
     "data": {
      "text/plain": [
       "Text(0, 0.5, 'YEAR BUILT')"
      ]
     },
     "execution_count": 11,
     "metadata": {},
     "output_type": "execute_result"
    },
    {
     "data": {
      "image/png": "[encoded data removed]",
      "text/plain": [
       "<Figure size 432x288 with 1 Axes>"
      ]
     },
     "metadata": {
      "needs_background": "light"
     },
     "output_type": "display_data"
    }
   ],
   "source": [
    "plt.scatter(data.sale_price,data.year_built)\n",
    "plt.title('Year_built vs Price')\n",
    "plt.xlabel('PRICE')\n",
    "plt.ylabel('YEAR BUILT')"
   ]
  },
  {
   "cell_type": "code",
   "execution_count": 12,
   "metadata": {},
   "outputs": [
    {
     "data": {
      "text/plain": [
       "(0.43390683163268345, 0, 8)"
      ]
     },
     "execution_count": 12,
     "metadata": {},
     "output_type": "execute_result"
    }
   ],
   "source": [
    "data['full_bathrooms'].corr(data['sale_price']) , min(data['full_bathrooms']), max(data['full_bathrooms'])"
   ]
  },
  {
   "cell_type": "code",
   "execution_count": 13,
   "metadata": {},
   "outputs": [
    {
     "data": {
      "text/plain": [
       "Text(0, 0.5, 'BATH ROOMs')"
      ]
     },
     "execution_count": 13,
     "metadata": {},
     "output_type": "execute_result"
    },
    {
     "data": {
      "image/png": "[encoded data removed]",
      "text/plain": [
       "<Figure size 432x288 with 1 Axes>"
      ]
     },
     "metadata": {
      "needs_background": "light"
     },
     "output_type": "display_data"
    }
   ],
   "source": [
    "plt.scatter(data.sale_price,data.full_bathrooms)\n",
    "plt.title('full_bathrooms vs Price')\n",
    "plt.xlabel('PRICE')\n",
    "plt.ylabel('BATH ROOMs')"
   ]
  },
  {
   "cell_type": "code",
   "execution_count": 14,
   "metadata": {},
   "outputs": [
    {
     "data": {
      "text/plain": [
       "(0.6802481303277698, 6, 11302)"
      ]
     },
     "execution_count": 14,
     "metadata": {},
     "output_type": "execute_result"
    }
   ],
   "source": [
    "data['total_sqft'].corr(data['sale_price']) , min(data['total_sqft']), max(data['total_sqft'])"
   ]
  },
  {
   "cell_type": "code",
   "execution_count": 15,
   "metadata": {},
   "outputs": [
    {
     "data": {
      "text/plain": [
       "Text(0, 0.5, 'TOTAl SQRFT')"
      ]
     },
     "execution_count": 15,
     "metadata": {},
     "output_type": "execute_result"
    },
    {
     "data": {
      "image/png": "[encoded data removed]",
      "text/plain": [
       "<Figure size 432x288 with 1 Axes>"
      ]
     },
     "metadata": {
      "needs_background": "light"
     },
     "output_type": "display_data"
    }
   ],
   "source": [
    "plt.scatter(data.sale_price,data.total_sqft)\n",
    "plt.title('total_sqfts vs Price')\n",
    "plt.xlabel('PRICE')\n",
    "plt.ylabel('TOTAl SQRFT')"
   ]
  },
  {
   "cell_type": "code",
   "execution_count": 16,
   "metadata": {},
   "outputs": [
    {
     "data": {
      "text/plain": [
       "Text(0, 0.5, 'ZIPCODE')"
      ]
     },
     "execution_count": 16,
     "metadata": {},
     "output_type": "execute_result"
    },
    {
     "data": {
      "image/png": "[encoded data removed]",
      "text/plain": [
       "<Figure size 432x288 with 1 Axes>"
      ]
     },
     "metadata": {
      "needs_background": "light"
     },
     "output_type": "display_data"
    }
   ],
   "source": [
    "plt.scatter(data.sale_price,data.zip_code)\n",
    "plt.title('Zipcode vs Price')\n",
    "plt.xlabel('PRICE')\n",
    "plt.ylabel('ZIPCODE')"
   ]
  },
  {
   "cell_type": "code",
   "execution_count": 17,
   "metadata": {},
   "outputs": [
    {
     "data": {
      "text/plain": [
       "(0.06656969169838696, 0, 1)"
      ]
     },
     "execution_count": 17,
     "metadata": {},
     "output_type": "execute_result"
    }
   ],
   "source": [
    "data['half_bathrooms'].corr(data['sale_price']) , min(data['half_bathrooms']), max(data['half_bathrooms'])"
   ]
  },
  {
   "cell_type": "code",
   "execution_count": 18,
   "metadata": {},
   "outputs": [
    {
     "data": {
      "text/plain": [
       "(0.23632974544474322, 1, 11)"
      ]
     },
     "execution_count": 18,
     "metadata": {},
     "output_type": "execute_result"
    }
   ],
   "source": [
    "data['num_bedrooms'].corr(data['sale_price']) , min(data['num_bedrooms']), max(data['num_bedrooms'])"
   ]
  },
  {
   "cell_type": "code",
   "execution_count": 19,
   "metadata": {},
   "outputs": [
    {
     "data": {
      "text/plain": [
       "Text(0, 0.5, 'num_bedrooms')"
      ]
     },
     "execution_count": 19,
     "metadata": {},
     "output_type": "execute_result"
    },
    {
     "data": {
      "image/png": "[encoded data removed]",
      "text/plain": [
       "<Figure size 432x288 with 1 Axes>"
      ]
     },
     "metadata": {
      "needs_background": "light"
     },
     "output_type": "display_data"
    }
   ],
   "source": [
    "plt.scatter(data.sale_price,data.num_bedrooms)\n",
    "plt.title('num_bedrooms vs Price')\n",
    "plt.xlabel('PRICE')\n",
    "plt.ylabel('num_bedrooms')"
   ]
  },
  {
   "cell_type": "code",
   "execution_count": 20,
   "metadata": {},
   "outputs": [
    {
     "data": {
      "text/plain": [
       "(-0.11301220517892567, 0, 1876)"
      ]
     },
     "execution_count": 20,
     "metadata": {},
     "output_type": "execute_result"
    }
   ],
   "source": [
    "data['carport_sqft'].corr(data['sale_price']) , min(data['carport_sqft']), max(data['carport_sqft'])"
   ]
  },
  {
   "cell_type": "code",
   "execution_count": 21,
   "metadata": {},
   "outputs": [
    {
     "data": {
      "text/plain": [
       "Text(0, 0.5, 'carport_sqft')"
      ]
     },
     "execution_count": 21,
     "metadata": {},
     "output_type": "execute_result"
    },
    {
     "data": {
      "image/png": "[encoded data removed]",
      "text/plain": [
       "<Figure size 432x288 with 1 Axes>"
      ]
     },
     "metadata": {
      "needs_background": "light"
     },
     "output_type": "display_data"
    }
   ],
   "source": [
    "plt.scatter(data.sale_price,data.has_fireplace)\n",
    "plt.title('hcarport_sqft vs Price')\n",
    "plt.xlabel('PRICE')\n",
    "plt.ylabel('carport_sqft')"
   ]
  },
  {
   "cell_type": "code",
   "execution_count": 22,
   "metadata": {},
   "outputs": [
    {
     "data": {
      "text/plain": [
       "(0.18468349587160324, False, True)"
      ]
     },
     "execution_count": 22,
     "metadata": {},
     "output_type": "execute_result"
    }
   ],
   "source": [
    "data['has_fireplace'].corr(data['sale_price']) , min(data['has_fireplace']), max(data['has_fireplace'])"
   ]
  },
  {
   "cell_type": "code",
   "execution_count": 23,
   "metadata": {},
   "outputs": [
    {
     "data": {
      "text/plain": [
       "Text(0, 0.5, 'has_fireplace')"
      ]
     },
     "execution_count": 23,
     "metadata": {},
     "output_type": "execute_result"
    },
    {
     "data": {
      "image/png": "[encoded data removed]",
      "text/plain": [
       "<Figure size 432x288 with 1 Axes>"
      ]
     },
     "metadata": {
      "needs_background": "light"
     },
     "output_type": "display_data"
    }
   ],
   "source": [
    "plt.scatter(data.sale_price,data.has_fireplace)\n",
    "plt.title('has_fireplace vs Price')\n",
    "plt.xlabel('PRICE')\n",
    "plt.ylabel('has_fireplace')"
   ]
  },
  {
   "cell_type": "code",
   "execution_count": 24,
   "metadata": {},
   "outputs": [
    {
     "data": {
      "text/plain": [
       "(0.4042950606735119, False, True)"
      ]
     },
     "execution_count": 24,
     "metadata": {},
     "output_type": "execute_result"
    }
   ],
   "source": [
    "data['has_pool'].corr(data['sale_price']) , min(data['has_pool']), max(data['has_pool'])"
   ]
  },
  {
   "cell_type": "code",
   "execution_count": 25,
   "metadata": {},
   "outputs": [
    {
     "data": {
      "text/plain": [
       "Text(0, 0.5, 'has_pool')"
      ]
     },
     "execution_count": 25,
     "metadata": {},
     "output_type": "execute_result"
    },
    {
     "data": {
      "image/png": "[encoded data removed]",
      "text/plain": [
       "<Figure size 432x288 with 1 Axes>"
      ]
     },
     "metadata": {
      "needs_background": "light"
     },
     "output_type": "display_data"
    }
   ],
   "source": [
    "plt.scatter(data.sale_price,data.has_pool)\n",
    "plt.title('has_pool vs Price')\n",
    "plt.xlabel('PRICE')\n",
    "plt.ylabel('has_pool')"
   ]
  },
  {
   "cell_type": "code",
   "execution_count": 27,
   "metadata": {},
   "outputs": [
    {
     "data": {
      "text/plain": [
       "(0.07715063672491612, False, True)"
      ]
     },
     "execution_count": 27,
     "metadata": {},
     "output_type": "execute_result"
    }
   ],
   "source": [
    "data['has_central_heating'].corr(data['sale_price']) , min(data['has_central_heating']), max(data['has_central_heating'])"
   ]
  },
  {
   "cell_type": "code",
   "execution_count": 28,
   "metadata": {},
   "outputs": [
    {
     "data": {
      "text/plain": [
       "(0.09204502073570685, False, True)"
      ]
     },
     "execution_count": 28,
     "metadata": {},
     "output_type": "execute_result"
    }
   ],
   "source": [
    "data['has_central_cooling'].corr(data['sale_price']) , min(data['has_central_cooling']), max(data['has_central_cooling'])"
   ]
  },
  {
   "cell_type": "markdown",
   "metadata": {},
   "source": [
    "## Mnnnnn I got some negative values "
   ]
  },
  {
   "cell_type": "code",
   "execution_count": 29,
   "metadata": {},
   "outputs": [
    {
     "data": {
      "text/plain": [
       "(0.4586926695291964, -4, 4512)"
      ]
     },
     "execution_count": 29,
     "metadata": {},
     "output_type": "execute_result"
    }
   ],
   "source": [
    "data['garage_sqft'].corr(data['sale_price']) , min(data['garage_sqft']), max(data['garage_sqft'])"
   ]
  },
  {
   "cell_type": "code",
   "execution_count": 30,
   "metadata": {},
   "outputs": [
    {
     "data": {
      "text/plain": [
       "Text(0, 0.5, 'garage_sqft')"
      ]
     },
     "execution_count": 30,
     "metadata": {},
     "output_type": "execute_result"
    },
    {
     "data": {
      "image/png": "[encoded data removed]",
      "text/plain": [
       "<Figure size 432x288 with 1 Axes>"
      ]
     },
     "metadata": {
      "needs_background": "light"
     },
     "output_type": "display_data"
    }
   ],
   "source": [
    "plt.scatter(data.sale_price,data.garage_sqft)\n",
    "plt.title('garage_sqft vs Price')\n",
    "plt.xlabel('PRICE')\n",
    "plt.ylabel('garage_sqft')"
   ]
  },
  {
   "cell_type": "code",
   "execution_count": 31,
   "metadata": {},
   "outputs": [
    {
     "data": {
      "text/plain": [
       "(0.6151302650075271, -2, 9101)"
      ]
     },
     "execution_count": 31,
     "metadata": {},
     "output_type": "execute_result"
    }
   ],
   "source": [
    "data['livable_sqft'].corr(data['sale_price']) , min(data['livable_sqft']), max(data['livable_sqft'])"
   ]
  },
  {
   "cell_type": "code",
   "execution_count": 32,
   "metadata": {},
   "outputs": [
    {
     "data": {
      "text/plain": [
       "Text(0, 0.5, 'livable_sqft')"
      ]
     },
     "execution_count": 32,
     "metadata": {},
     "output_type": "execute_result"
    },
    {
     "data": {
      "image/png": "[encoded data removed]",
      "text/plain": [
       "<Figure size 432x288 with 1 Axes>"
      ]
     },
     "metadata": {
      "needs_background": "light"
     },
     "output_type": "display_data"
    }
   ],
   "source": [
    "plt.scatter(data.sale_price,data.livable_sqft)\n",
    "plt.title('livable_sqft vs Price')\n",
    "plt.xlabel('PRICE')\n",
    "plt.ylabel('livable_sqft')"
   ]
  },
  {
   "cell_type": "code",
   "execution_count": 33,
   "metadata": {},
   "outputs": [
    {
     "data": {
      "text/plain": [
       "15"
      ]
     },
     "execution_count": 33,
     "metadata": {},
     "output_type": "execute_result"
    }
   ],
   "source": [
    "len(data[data['garage_sqft']< 0]) # negative values "
   ]
  },
  {
   "cell_type": "code",
   "execution_count": 34,
   "metadata": {},
   "outputs": [
    {
     "data": {
      "text/html": [
       "<div>\n",
       "<style scoped>\n",
       "    .dataframe tbody tr th:only-of-type {\n",
       "        vertical-align: middle;\n",
       "    }\n",
       "\n",
       "    .dataframe tbody tr th {\n",
       "        vertical-align: top;\n",
       "    }\n",
       "\n",
       "    .dataframe thead th {\n",
       "        text-align: right;\n",
       "    }\n",
       "</style>\n",
       "<table border=\"1\" class=\"dataframe\">\n",
       "  <thead>\n",
       "    <tr style=\"text-align: right;\">\n",
       "      <th></th>\n",
       "      <th>Unnamed: 0</th>\n",
       "      <th>year_built</th>\n",
       "      <th>stories</th>\n",
       "      <th>num_bedrooms</th>\n",
       "      <th>full_bathrooms</th>\n",
       "      <th>half_bathrooms</th>\n",
       "      <th>livable_sqft</th>\n",
       "      <th>total_sqft</th>\n",
       "      <th>garage_type</th>\n",
       "      <th>garage_sqft</th>\n",
       "      <th>...</th>\n",
       "      <th>has_pool</th>\n",
       "      <th>has_central_heating</th>\n",
       "      <th>has_central_cooling</th>\n",
       "      <th>house_number</th>\n",
       "      <th>street_name</th>\n",
       "      <th>unit_number</th>\n",
       "      <th>city</th>\n",
       "      <th>zip_code</th>\n",
       "      <th>sale_price</th>\n",
       "      <th>Year_levels</th>\n",
       "    </tr>\n",
       "  </thead>\n",
       "  <tbody>\n",
       "    <tr>\n",
       "      <th>6669</th>\n",
       "      <td>34817</td>\n",
       "      <td>1977</td>\n",
       "      <td>1</td>\n",
       "      <td>2</td>\n",
       "      <td>1</td>\n",
       "      <td>1</td>\n",
       "      <td>-2</td>\n",
       "      <td>6</td>\n",
       "      <td>attached</td>\n",
       "      <td>-3</td>\n",
       "      <td>...</td>\n",
       "      <td>False</td>\n",
       "      <td>True</td>\n",
       "      <td>True</td>\n",
       "      <td>399</td>\n",
       "      <td>Holland Valleys</td>\n",
       "      <td>NaN</td>\n",
       "      <td>Port Jonathanborough</td>\n",
       "      <td>10250</td>\n",
       "      <td>505261.0</td>\n",
       "      <td>1968-1984</td>\n",
       "    </tr>\n",
       "  </tbody>\n",
       "</table>\n",
       "<p>1 rows × 22 columns</p>\n",
       "</div>"
      ],
      "text/plain": [
       "      Unnamed: 0  year_built  stories  num_bedrooms  full_bathrooms  \\\n",
       "6669       34817        1977        1             2               1   \n",
       "\n",
       "      half_bathrooms  livable_sqft  total_sqft garage_type  garage_sqft  \\\n",
       "6669               1            -2           6    attached           -3   \n",
       "\n",
       "         ...       has_pool  has_central_heating  has_central_cooling  \\\n",
       "6669     ...          False                 True                 True   \n",
       "\n",
       "      house_number      street_name  unit_number                  city  \\\n",
       "6669           399  Holland Valleys          NaN  Port Jonathanborough   \n",
       "\n",
       "      zip_code sale_price  Year_levels  \n",
       "6669     10250   505261.0    1968-1984  \n",
       "\n",
       "[1 rows x 22 columns]"
      ]
     },
     "execution_count": 34,
     "metadata": {},
     "output_type": "execute_result"
    }
   ],
   "source": [
    "data[data['livable_sqft']< 0]"
   ]
  },
  {
   "cell_type": "code",
   "execution_count": 35,
   "metadata": {},
   "outputs": [
    {
     "data": {
      "text/plain": [
       "year_built\n",
       "1989    211\n",
       "1988    192\n",
       "1999    173\n",
       "1990    170\n",
       "1991    140\n",
       "dtype: int64"
      ]
     },
     "execution_count": 35,
     "metadata": {},
     "output_type": "execute_result"
    }
   ],
   "source": [
    "oldyear = data[data['year_built'] < 2000].groupby('year_built').size()\n",
    "oldyear.sort_values(ascending = False).head()"
   ]
  },
  {
   "cell_type": "code",
   "execution_count": 36,
   "metadata": {},
   "outputs": [
    {
     "data": {
      "text/plain": [
       "year_built\n",
       "2000    248\n",
       "2001    334\n",
       "2002    401\n",
       "2003    481\n",
       "2004    513\n",
       "dtype: int64"
      ]
     },
     "execution_count": 36,
     "metadata": {},
     "output_type": "execute_result"
    }
   ],
   "source": [
    "year = data[data['year_built'] >= 2000].groupby('year_built').size()\n",
    "year.head()"
   ]
  },
  {
   "cell_type": "code",
   "execution_count": 37,
   "metadata": {},
   "outputs": [
    {
     "data": {
      "text/plain": [
       "city\n",
       "Port Andrealand         1796\n",
       "North Erinville         1616\n",
       "West Ann                1397\n",
       "East Lucas              1359\n",
       "Port Jonathanborough    1344\n",
       "dtype: int64"
      ]
     },
     "execution_count": 37,
     "metadata": {},
     "output_type": "execute_result"
    }
   ],
   "source": [
    "data.groupby('city').size().sort_values(ascending = False).head()"
   ]
  },
  {
   "cell_type": "code",
   "execution_count": null,
   "metadata": {},
   "outputs": [],
   "source": []
  },
  {
   "cell_type": "markdown",
   "metadata": {},
   "source": [
    "## Data Wrangling\n",
    "change garage type to \n",
    "### Replace categorical data with one-hot encoded data\n",
    "data = pd.get_dummies(data, columns=['garage_type', 'city']\n"
   ]
  },
  {
   "cell_type": "code",
   "execution_count": 38,
   "metadata": {},
   "outputs": [
    {
     "data": {
      "text/plain": [
       "Index(['Unnamed: 0', 'year_built', 'stories', 'num_bedrooms', 'full_bathrooms',\n",
       "       'half_bathrooms', 'livable_sqft', 'total_sqft', 'garage_sqft',\n",
       "       'carport_sqft', 'has_fireplace', 'has_pool', 'has_central_heating',\n",
       "       'has_central_cooling', 'house_number', 'street_name', 'unit_number',\n",
       "       'zip_code', 'sale_price', 'Year_levels', 'garage_type_attached',\n",
       "       'garage_type_detached', 'garage_type_none', 'city_East Lucas',\n",
       "       'city_North Erinville', 'city_Port Andrealand',\n",
       "       'city_Port Jonathanborough', 'city_Wendybury', 'city_West Ann'],\n",
       "      dtype='object')"
      ]
     },
     "execution_count": 38,
     "metadata": {},
     "output_type": "execute_result"
    }
   ],
   "source": [
    "d = pd.get_dummies(data, columns=['garage_type', 'city'])\n",
    "d.columns                      "
   ]
  },
  {
   "cell_type": "code",
   "execution_count": 39,
   "metadata": {},
   "outputs": [
    {
     "data": {
      "text/html": [
       "<div>\n",
       "<style scoped>\n",
       "    .dataframe tbody tr th:only-of-type {\n",
       "        vertical-align: middle;\n",
       "    }\n",
       "\n",
       "    .dataframe tbody tr th {\n",
       "        vertical-align: top;\n",
       "    }\n",
       "\n",
       "    .dataframe thead th {\n",
       "        text-align: right;\n",
       "    }\n",
       "</style>\n",
       "<table border=\"1\" class=\"dataframe\">\n",
       "  <thead>\n",
       "    <tr style=\"text-align: right;\">\n",
       "      <th></th>\n",
       "      <th>Unnamed: 0</th>\n",
       "      <th>year_built</th>\n",
       "      <th>stories</th>\n",
       "      <th>num_bedrooms</th>\n",
       "      <th>full_bathrooms</th>\n",
       "      <th>half_bathrooms</th>\n",
       "      <th>livable_sqft</th>\n",
       "      <th>total_sqft</th>\n",
       "      <th>garage_sqft</th>\n",
       "      <th>carport_sqft</th>\n",
       "      <th>...</th>\n",
       "      <th>Year_levels</th>\n",
       "      <th>garage_type_attached</th>\n",
       "      <th>garage_type_detached</th>\n",
       "      <th>garage_type_none</th>\n",
       "      <th>city_East Lucas</th>\n",
       "      <th>city_North Erinville</th>\n",
       "      <th>city_Port Andrealand</th>\n",
       "      <th>city_Port Jonathanborough</th>\n",
       "      <th>city_Wendybury</th>\n",
       "      <th>city_West Ann</th>\n",
       "    </tr>\n",
       "  </thead>\n",
       "  <tbody>\n",
       "    <tr>\n",
       "      <th>0</th>\n",
       "      <td>24</td>\n",
       "      <td>2007</td>\n",
       "      <td>1</td>\n",
       "      <td>2</td>\n",
       "      <td>2</td>\n",
       "      <td>0</td>\n",
       "      <td>1311</td>\n",
       "      <td>1694</td>\n",
       "      <td>206</td>\n",
       "      <td>0</td>\n",
       "      <td>...</td>\n",
       "      <td>2002-2018</td>\n",
       "      <td>0</td>\n",
       "      <td>1</td>\n",
       "      <td>0</td>\n",
       "      <td>0</td>\n",
       "      <td>0</td>\n",
       "      <td>0</td>\n",
       "      <td>0</td>\n",
       "      <td>0</td>\n",
       "      <td>1</td>\n",
       "    </tr>\n",
       "    <tr>\n",
       "      <th>1</th>\n",
       "      <td>25</td>\n",
       "      <td>2005</td>\n",
       "      <td>1</td>\n",
       "      <td>3</td>\n",
       "      <td>3</td>\n",
       "      <td>0</td>\n",
       "      <td>1703</td>\n",
       "      <td>2111</td>\n",
       "      <td>0</td>\n",
       "      <td>0</td>\n",
       "      <td>...</td>\n",
       "      <td>2002-2018</td>\n",
       "      <td>0</td>\n",
       "      <td>0</td>\n",
       "      <td>1</td>\n",
       "      <td>0</td>\n",
       "      <td>0</td>\n",
       "      <td>0</td>\n",
       "      <td>0</td>\n",
       "      <td>0</td>\n",
       "      <td>1</td>\n",
       "    </tr>\n",
       "    <tr>\n",
       "      <th>2</th>\n",
       "      <td>26</td>\n",
       "      <td>2000</td>\n",
       "      <td>2</td>\n",
       "      <td>2</td>\n",
       "      <td>3</td>\n",
       "      <td>0</td>\n",
       "      <td>1670</td>\n",
       "      <td>1830</td>\n",
       "      <td>0</td>\n",
       "      <td>0</td>\n",
       "      <td>...</td>\n",
       "      <td>1985-2001</td>\n",
       "      <td>0</td>\n",
       "      <td>0</td>\n",
       "      <td>1</td>\n",
       "      <td>0</td>\n",
       "      <td>0</td>\n",
       "      <td>0</td>\n",
       "      <td>0</td>\n",
       "      <td>0</td>\n",
       "      <td>1</td>\n",
       "    </tr>\n",
       "    <tr>\n",
       "      <th>3</th>\n",
       "      <td>28</td>\n",
       "      <td>2003</td>\n",
       "      <td>1</td>\n",
       "      <td>3</td>\n",
       "      <td>2</td>\n",
       "      <td>1</td>\n",
       "      <td>4078</td>\n",
       "      <td>5034</td>\n",
       "      <td>925</td>\n",
       "      <td>0</td>\n",
       "      <td>...</td>\n",
       "      <td>2002-2018</td>\n",
       "      <td>0</td>\n",
       "      <td>1</td>\n",
       "      <td>0</td>\n",
       "      <td>0</td>\n",
       "      <td>0</td>\n",
       "      <td>0</td>\n",
       "      <td>0</td>\n",
       "      <td>0</td>\n",
       "      <td>1</td>\n",
       "    </tr>\n",
       "    <tr>\n",
       "      <th>4</th>\n",
       "      <td>29</td>\n",
       "      <td>1986</td>\n",
       "      <td>1</td>\n",
       "      <td>2</td>\n",
       "      <td>2</td>\n",
       "      <td>0</td>\n",
       "      <td>1390</td>\n",
       "      <td>1642</td>\n",
       "      <td>466</td>\n",
       "      <td>0</td>\n",
       "      <td>...</td>\n",
       "      <td>1985-2001</td>\n",
       "      <td>0</td>\n",
       "      <td>1</td>\n",
       "      <td>0</td>\n",
       "      <td>0</td>\n",
       "      <td>0</td>\n",
       "      <td>0</td>\n",
       "      <td>0</td>\n",
       "      <td>0</td>\n",
       "      <td>1</td>\n",
       "    </tr>\n",
       "  </tbody>\n",
       "</table>\n",
       "<p>5 rows × 29 columns</p>\n",
       "</div>"
      ],
      "text/plain": [
       "   Unnamed: 0  year_built  stories  num_bedrooms  full_bathrooms  \\\n",
       "0          24        2007        1             2               2   \n",
       "1          25        2005        1             3               3   \n",
       "2          26        2000        2             2               3   \n",
       "3          28        2003        1             3               2   \n",
       "4          29        1986        1             2               2   \n",
       "\n",
       "   half_bathrooms  livable_sqft  total_sqft  garage_sqft  carport_sqft  \\\n",
       "0               0          1311        1694          206             0   \n",
       "1               0          1703        2111            0             0   \n",
       "2               0          1670        1830            0             0   \n",
       "3               1          4078        5034          925             0   \n",
       "4               0          1390        1642          466             0   \n",
       "\n",
       "       ...       Year_levels  garage_type_attached  garage_type_detached  \\\n",
       "0      ...         2002-2018                     0                     1   \n",
       "1      ...         2002-2018                     0                     0   \n",
       "2      ...         1985-2001                     0                     0   \n",
       "3      ...         2002-2018                     0                     1   \n",
       "4      ...         1985-2001                     0                     1   \n",
       "\n",
       "   garage_type_none  city_East Lucas city_North Erinville  \\\n",
       "0                 0                0                    0   \n",
       "1                 1                0                    0   \n",
       "2                 1                0                    0   \n",
       "3                 0                0                    0   \n",
       "4                 0                0                    0   \n",
       "\n",
       "   city_Port Andrealand  city_Port Jonathanborough  city_Wendybury  \\\n",
       "0                     0                          0               0   \n",
       "1                     0                          0               0   \n",
       "2                     0                          0               0   \n",
       "3                     0                          0               0   \n",
       "4                     0                          0               0   \n",
       "\n",
       "  city_West Ann  \n",
       "0             1  \n",
       "1             1  \n",
       "2             1  \n",
       "3             1  \n",
       "4             1  \n",
       "\n",
       "[5 rows x 29 columns]"
      ]
     },
     "execution_count": 39,
     "metadata": {},
     "output_type": "execute_result"
    }
   ],
   "source": [
    "d.head()"
   ]
  },
  {
   "cell_type": "code",
   "execution_count": 40,
   "metadata": {},
   "outputs": [
    {
     "data": {
      "text/plain": [
       "zip_code\n",
       "10250    1931\n",
       "11295    1796\n",
       "11510    1616\n",
       "10748    1397\n",
       "11911    1359\n",
       "dtype: int64"
      ]
     },
     "execution_count": 40,
     "metadata": {},
     "output_type": "execute_result"
    }
   ],
   "source": [
    "data.groupby('zip_code').size().sort_values(ascending = False).head()"
   ]
  },
  {
   "cell_type": "code",
   "execution_count": 41,
   "metadata": {},
   "outputs": [
    {
     "data": {
      "text/plain": [
       "(8099, 22)"
      ]
     },
     "execution_count": 41,
     "metadata": {},
     "output_type": "execute_result"
    }
   ],
   "source": [
    "selected_zip_codes = data[data['zip_code'].isin ([10250,11295 ,11510,10748,11911])]\n",
    "selected_zip_codes.shape"
   ]
  },
  {
   "cell_type": "code",
   "execution_count": 42,
   "metadata": {},
   "outputs": [
    {
     "data": {
      "text/html": [
       "<div>\n",
       "<style scoped>\n",
       "    .dataframe tbody tr th:only-of-type {\n",
       "        vertical-align: middle;\n",
       "    }\n",
       "\n",
       "    .dataframe tbody tr th {\n",
       "        vertical-align: top;\n",
       "    }\n",
       "\n",
       "    .dataframe thead th {\n",
       "        text-align: right;\n",
       "    }\n",
       "</style>\n",
       "<table border=\"1\" class=\"dataframe\">\n",
       "  <thead>\n",
       "    <tr style=\"text-align: right;\">\n",
       "      <th></th>\n",
       "      <th>Unnamed: 0</th>\n",
       "      <th>year_built</th>\n",
       "      <th>stories</th>\n",
       "      <th>num_bedrooms</th>\n",
       "      <th>full_bathrooms</th>\n",
       "      <th>half_bathrooms</th>\n",
       "      <th>livable_sqft</th>\n",
       "      <th>total_sqft</th>\n",
       "      <th>garage_type</th>\n",
       "      <th>garage_sqft</th>\n",
       "      <th>...</th>\n",
       "      <th>has_pool</th>\n",
       "      <th>has_central_heating</th>\n",
       "      <th>has_central_cooling</th>\n",
       "      <th>house_number</th>\n",
       "      <th>street_name</th>\n",
       "      <th>unit_number</th>\n",
       "      <th>city</th>\n",
       "      <th>zip_code</th>\n",
       "      <th>sale_price</th>\n",
       "      <th>Year_levels</th>\n",
       "    </tr>\n",
       "  </thead>\n",
       "  <tbody>\n",
       "    <tr>\n",
       "      <th>0</th>\n",
       "      <td>24</td>\n",
       "      <td>2007</td>\n",
       "      <td>1</td>\n",
       "      <td>2</td>\n",
       "      <td>2</td>\n",
       "      <td>0</td>\n",
       "      <td>1311</td>\n",
       "      <td>1694</td>\n",
       "      <td>detached</td>\n",
       "      <td>206</td>\n",
       "      <td>...</td>\n",
       "      <td>False</td>\n",
       "      <td>True</td>\n",
       "      <td>True</td>\n",
       "      <td>397</td>\n",
       "      <td>Cox Way</td>\n",
       "      <td>NaN</td>\n",
       "      <td>West Ann</td>\n",
       "      <td>10748</td>\n",
       "      <td>311217.0</td>\n",
       "      <td>2002-2018</td>\n",
       "    </tr>\n",
       "    <tr>\n",
       "      <th>1</th>\n",
       "      <td>25</td>\n",
       "      <td>2005</td>\n",
       "      <td>1</td>\n",
       "      <td>3</td>\n",
       "      <td>3</td>\n",
       "      <td>0</td>\n",
       "      <td>1703</td>\n",
       "      <td>2111</td>\n",
       "      <td>none</td>\n",
       "      <td>0</td>\n",
       "      <td>...</td>\n",
       "      <td>False</td>\n",
       "      <td>True</td>\n",
       "      <td>True</td>\n",
       "      <td>819</td>\n",
       "      <td>Chapman Crescent</td>\n",
       "      <td>NaN</td>\n",
       "      <td>West Ann</td>\n",
       "      <td>10748</td>\n",
       "      <td>434697.0</td>\n",
       "      <td>2002-2018</td>\n",
       "    </tr>\n",
       "    <tr>\n",
       "      <th>2</th>\n",
       "      <td>26</td>\n",
       "      <td>2000</td>\n",
       "      <td>2</td>\n",
       "      <td>2</td>\n",
       "      <td>3</td>\n",
       "      <td>0</td>\n",
       "      <td>1670</td>\n",
       "      <td>1830</td>\n",
       "      <td>none</td>\n",
       "      <td>0</td>\n",
       "      <td>...</td>\n",
       "      <td>False</td>\n",
       "      <td>True</td>\n",
       "      <td>True</td>\n",
       "      <td>313</td>\n",
       "      <td>Jacob Spring</td>\n",
       "      <td>NaN</td>\n",
       "      <td>West Ann</td>\n",
       "      <td>10748</td>\n",
       "      <td>1140298.0</td>\n",
       "      <td>1985-2001</td>\n",
       "    </tr>\n",
       "    <tr>\n",
       "      <th>3</th>\n",
       "      <td>28</td>\n",
       "      <td>2003</td>\n",
       "      <td>1</td>\n",
       "      <td>3</td>\n",
       "      <td>2</td>\n",
       "      <td>1</td>\n",
       "      <td>4078</td>\n",
       "      <td>5034</td>\n",
       "      <td>detached</td>\n",
       "      <td>925</td>\n",
       "      <td>...</td>\n",
       "      <td>True</td>\n",
       "      <td>True</td>\n",
       "      <td>True</td>\n",
       "      <td>967</td>\n",
       "      <td>Anthony Crest</td>\n",
       "      <td>NaN</td>\n",
       "      <td>West Ann</td>\n",
       "      <td>10748</td>\n",
       "      <td>1354501.0</td>\n",
       "      <td>2002-2018</td>\n",
       "    </tr>\n",
       "    <tr>\n",
       "      <th>4</th>\n",
       "      <td>29</td>\n",
       "      <td>1986</td>\n",
       "      <td>1</td>\n",
       "      <td>2</td>\n",
       "      <td>2</td>\n",
       "      <td>0</td>\n",
       "      <td>1390</td>\n",
       "      <td>1642</td>\n",
       "      <td>detached</td>\n",
       "      <td>466</td>\n",
       "      <td>...</td>\n",
       "      <td>False</td>\n",
       "      <td>True</td>\n",
       "      <td>True</td>\n",
       "      <td>155</td>\n",
       "      <td>Robin Passage</td>\n",
       "      <td>NaN</td>\n",
       "      <td>West Ann</td>\n",
       "      <td>10748</td>\n",
       "      <td>491401.0</td>\n",
       "      <td>1985-2001</td>\n",
       "    </tr>\n",
       "  </tbody>\n",
       "</table>\n",
       "<p>5 rows × 22 columns</p>\n",
       "</div>"
      ],
      "text/plain": [
       "   Unnamed: 0  year_built  stories  num_bedrooms  full_bathrooms  \\\n",
       "0          24        2007        1             2               2   \n",
       "1          25        2005        1             3               3   \n",
       "2          26        2000        2             2               3   \n",
       "3          28        2003        1             3               2   \n",
       "4          29        1986        1             2               2   \n",
       "\n",
       "   half_bathrooms  livable_sqft  total_sqft garage_type  garage_sqft  \\\n",
       "0               0          1311        1694    detached          206   \n",
       "1               0          1703        2111        none            0   \n",
       "2               0          1670        1830        none            0   \n",
       "3               1          4078        5034    detached          925   \n",
       "4               0          1390        1642    detached          466   \n",
       "\n",
       "      ...       has_pool  has_central_heating  has_central_cooling  \\\n",
       "0     ...          False                 True                 True   \n",
       "1     ...          False                 True                 True   \n",
       "2     ...          False                 True                 True   \n",
       "3     ...           True                 True                 True   \n",
       "4     ...          False                 True                 True   \n",
       "\n",
       "   house_number       street_name  unit_number      city  zip_code sale_price  \\\n",
       "0           397           Cox Way          NaN  West Ann     10748   311217.0   \n",
       "1           819  Chapman Crescent          NaN  West Ann     10748   434697.0   \n",
       "2           313      Jacob Spring          NaN  West Ann     10748  1140298.0   \n",
       "3           967     Anthony Crest          NaN  West Ann     10748  1354501.0   \n",
       "4           155     Robin Passage          NaN  West Ann     10748   491401.0   \n",
       "\n",
       "   Year_levels  \n",
       "0    2002-2018  \n",
       "1    2002-2018  \n",
       "2    1985-2001  \n",
       "3    2002-2018  \n",
       "4    1985-2001  \n",
       "\n",
       "[5 rows x 22 columns]"
      ]
     },
     "execution_count": 42,
     "metadata": {},
     "output_type": "execute_result"
    }
   ],
   "source": [
    "selected_zip_codes.to_csv('best_five_zipcodes.csv')\n",
    "selected_zip_codes.head()"
   ]
  },
  {
   "cell_type": "code",
   "execution_count": 43,
   "metadata": {},
   "outputs": [],
   "source": [
    "#drop cols not needed\n",
    "d_new = d.drop(columns=['house_number','street_name','unit_number','Year_levels'])"
   ]
  },
  {
   "cell_type": "code",
   "execution_count": 44,
   "metadata": {},
   "outputs": [
    {
     "data": {
      "text/plain": [
       "(8099, 25)"
      ]
     },
     "execution_count": 44,
     "metadata": {},
     "output_type": "execute_result"
    }
   ],
   "source": [
    "d_new.shape"
   ]
  },
  {
   "cell_type": "code",
   "execution_count": 45,
   "metadata": {},
   "outputs": [],
   "source": [
    "one = d_new.loc[1]#gettting first row to try out the dot method(Patrick Idea)\n",
    "scores= d_new.dot(one)"
   ]
  },
  {
   "cell_type": "markdown",
   "metadata": {},
   "source": [
    "## THE ML MODEL"
   ]
  },
  {
   "cell_type": "code",
   "execution_count": 46,
   "metadata": {},
   "outputs": [],
   "source": [
    "#call the regresson function and save in variable called reg\n",
    "reg= LinearRegression()\n",
    "#create x and y arrays\n",
    "X = d_new.drop('sale_price',axis =1)\n",
    "Y = d_new['sale_price']"
   ]
  },
  {
   "cell_type": "code",
   "execution_count": 47,
   "metadata": {},
   "outputs": [
    {
     "data": {
      "text/plain": [
       "(array([ 311217.,  434697., 1140298., ...,  767337.,  585902.,  817736.]),\n",
       " array([[24, 2007, 1, ..., 0, 0, 1],\n",
       "        [25, 2005, 1, ..., 0, 0, 1],\n",
       "        [26, 2000, 2, ..., 0, 0, 1],\n",
       "        ...,\n",
       "        [42327, 1997, 1, ..., 0, 0, 1],\n",
       "        [42328, 1989, 1, ..., 0, 0, 1],\n",
       "        [42353, 2003, 1, ..., 0, 0, 1]], dtype=object))"
      ]
     },
     "execution_count": 47,
     "metadata": {},
     "output_type": "execute_result"
    }
   ],
   "source": [
    "#create Arrays for x and y\n",
    "x = X.values\n",
    "y = Y.values\n",
    "y,x"
   ]
  },
  {
   "cell_type": "code",
   "execution_count": 48,
   "metadata": {},
   "outputs": [],
   "source": [
    "#split the data\n",
    "X_train, X_test, y_train, y_test = train_test_split(x,y, test_size =.2, random_state = 0)"
   ]
  },
  {
   "cell_type": "code",
   "execution_count": 49,
   "metadata": {},
   "outputs": [
    {
     "data": {
      "text/plain": [
       "LinearRegression(copy_X=True, fit_intercept=True, n_jobs=None,\n",
       "         normalize=False)"
      ]
     },
     "execution_count": 49,
     "metadata": {},
     "output_type": "execute_result"
    }
   ],
   "source": [
    "reg.fit(X_train,y_train)"
   ]
  },
  {
   "cell_type": "code",
   "execution_count": 50,
   "metadata": {},
   "outputs": [
    {
     "data": {
      "text/plain": [
       "0.5804027493246189"
      ]
     },
     "execution_count": 50,
     "metadata": {},
     "output_type": "execute_result"
    }
   ],
   "source": [
    "reg.score(X_test,y_test)"
   ]
  },
  {
   "cell_type": "markdown",
   "metadata": {},
   "source": [
    "## MY model pridiction is very low so i have to use gradient Boasting"
   ]
  },
  {
   "cell_type": "code",
   "execution_count": 51,
   "metadata": {},
   "outputs": [],
   "source": [
    "from sklearn import ensemble\n",
    "from sklearn.metrics import mean_absolute_error\n",
    "from sklearn.externals import joblib"
   ]
  },
  {
   "cell_type": "code",
   "execution_count": 52,
   "metadata": {},
   "outputs": [],
   "source": [
    "model2 = ensemble.GradientBoostingRegressor(\n",
    "    n_estimators=400,\n",
    "    learning_rate=0.1,\n",
    "    max_depth=5,\n",
    "    min_samples_leaf=2,\n",
    "    loss='ls'\n",
    ")"
   ]
  },
  {
   "cell_type": "code",
   "execution_count": 53,
   "metadata": {},
   "outputs": [],
   "source": [
    "model = ensemble.GradientBoostingRegressor(\n",
    "    n_estimators=1000,\n",
    "    learning_rate=0.1,\n",
    "    max_depth=6,\n",
    "    min_samples_leaf=9,\n",
    "    max_features=0.1,\n",
    "    loss='huber'\n",
    ")"
   ]
  },
  {
   "cell_type": "code",
   "execution_count": 54,
   "metadata": {},
   "outputs": [
    {
     "data": {
      "text/plain": [
       "GradientBoostingRegressor(alpha=0.9, criterion='friedman_mse', init=None,\n",
       "             learning_rate=0.1, loss='huber', max_depth=6,\n",
       "             max_features=0.1, max_leaf_nodes=None,\n",
       "             min_impurity_decrease=0.0, min_impurity_split=None,\n",
       "             min_samples_leaf=9, min_samples_split=2,\n",
       "             min_weight_fraction_leaf=0.0, n_estimators=1000,\n",
       "             n_iter_no_change=None, presort='auto', random_state=None,\n",
       "             subsample=1.0, tol=0.0001, validation_fraction=0.1, verbose=0,\n",
       "             warm_start=False)"
      ]
     },
     "execution_count": 54,
     "metadata": {},
     "output_type": "execute_result"
    }
   ],
   "source": [
    "model.fit(X_train, y_train)"
   ]
  },
  {
   "cell_type": "code",
   "execution_count": 55,
   "metadata": {},
   "outputs": [
    {
     "data": {
      "text/plain": [
       "GradientBoostingRegressor(alpha=0.9, criterion='friedman_mse', init=None,\n",
       "             learning_rate=0.1, loss='ls', max_depth=5, max_features=None,\n",
       "             max_leaf_nodes=None, min_impurity_decrease=0.0,\n",
       "             min_impurity_split=None, min_samples_leaf=2,\n",
       "             min_samples_split=2, min_weight_fraction_leaf=0.0,\n",
       "             n_estimators=400, n_iter_no_change=None, presort='auto',\n",
       "             random_state=None, subsample=1.0, tol=0.0001,\n",
       "             validation_fraction=0.1, verbose=0, warm_start=False)"
      ]
     },
     "execution_count": 55,
     "metadata": {},
     "output_type": "execute_result"
    }
   ],
   "source": [
    "model2.fit(X_train, y_train)"
   ]
  },
  {
   "cell_type": "code",
   "execution_count": 56,
   "metadata": {},
   "outputs": [
    {
     "data": {
      "text/plain": [
       "0.7563016459289831"
      ]
     },
     "execution_count": 56,
     "metadata": {},
     "output_type": "execute_result"
    }
   ],
   "source": [
    "model.score(X_test ,y_test)"
   ]
  },
  {
   "cell_type": "code",
   "execution_count": 57,
   "metadata": {},
   "outputs": [
    {
     "data": {
      "text/plain": [
       "0.7390088189899608"
      ]
     },
     "execution_count": 57,
     "metadata": {},
     "output_type": "execute_result"
    }
   ],
   "source": [
    "model2.score(X_test ,y_test)"
   ]
  },
  {
   "cell_type": "code",
   "execution_count": 58,
   "metadata": {},
   "outputs": [
    {
     "name": "stdout",
     "output_type": "stream",
     "text": [
      "Training Set Mean Absolute Error: 34427.6600\n",
      "Test Set Mean Absolute Error: 55964.2078\n"
     ]
    }
   ],
   "source": [
    "# Save the trained model to a file so we can use it in other programs\n",
    "joblib.dump(model, 'trained_house_classifier_model.pkl')\n",
    "\n",
    "# Find the error rate on the training set\n",
    "mse = mean_absolute_error(y_train, model.predict(X_train))\n",
    "print(\"Training Set Mean Absolute Error: %.4f\" % mse)\n",
    "\n",
    "# Find the error rate on the test set\n",
    "mse = mean_absolute_error(y_test, model.predict(X_test))\n",
    "print(\"Test Set Mean Absolute Error: %.4f\" % mse)"
   ]
  },
  {
   "cell_type": "code",
   "execution_count": null,
   "metadata": {},
   "outputs": [],
   "source": []
  }
 ],
 "metadata": {
  "kernelspec": {
   "display_name": "Python 3",
   "language": "python",
   "name": "python3"
  },
  "language_info": {
   "codemirror_mode": {
    "name": "ipython",
    "version": 3
   },
   "file_extension": ".py",
   "mimetype": "text/x-python",
   "name": "python",
   "nbconvert_exporter": "python",
   "pygments_lexer": "ipython3",
   "version": "3.7.1"
  }
 },
 "nbformat": 4,
 "nbformat_minor": 2
}
