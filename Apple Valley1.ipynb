{
 "cells": [
  {
   "cell_type": "code",
   "execution_count": 1,
   "metadata": {},
   "outputs": [],
   "source": [
    "import pandas as pd\n",
    "import numpy as np"
   ]
  },
  {
   "cell_type": "code",
   "execution_count": 2,
   "metadata": {},
   "outputs": [
    {
     "data": {
      "text/html": [
       "<div>\n",
       "<style scoped>\n",
       "    .dataframe tbody tr th:only-of-type {\n",
       "        vertical-align: middle;\n",
       "    }\n",
       "\n",
       "    .dataframe tbody tr th {\n",
       "        vertical-align: top;\n",
       "    }\n",
       "\n",
       "    .dataframe thead th {\n",
       "        text-align: right;\n",
       "    }\n",
       "</style>\n",
       "<table border=\"1\" class=\"dataframe\">\n",
       "  <thead>\n",
       "    <tr style=\"text-align: right;\">\n",
       "      <th></th>\n",
       "      <th>Address</th>\n",
       "      <th>City</th>\n",
       "      <th>Lot Size</th>\n",
       "      <th>Listing Price</th>\n",
       "      <th>Square Feet</th>\n",
       "      <th>Baths</th>\n",
       "      <th>Beds</th>\n",
       "      <th>Square Feet.1</th>\n",
       "      <th>Year Built</th>\n",
       "      <th>$/Square Feet</th>\n",
       "    </tr>\n",
       "  </thead>\n",
       "  <tbody>\n",
       "    <tr>\n",
       "      <th>0</th>\n",
       "      <td>8485 133rd St W</td>\n",
       "      <td>Apple Valley</td>\n",
       "      <td>135166.0</td>\n",
       "      <td>380000</td>\n",
       "      <td>NaN</td>\n",
       "      <td>4.0</td>\n",
       "      <td>4</td>\n",
       "      <td>NaN</td>\n",
       "      <td>1978.0</td>\n",
       "      <td>81.0</td>\n",
       "    </tr>\n",
       "    <tr>\n",
       "      <th>1</th>\n",
       "      <td>13637 Duluth Cir</td>\n",
       "      <td>Apple Valley</td>\n",
       "      <td>94873.0</td>\n",
       "      <td>825000</td>\n",
       "      <td>5200.0</td>\n",
       "      <td>4.0</td>\n",
       "      <td>5</td>\n",
       "      <td>5200.0</td>\n",
       "      <td>1987.0</td>\n",
       "      <td>159.0</td>\n",
       "    </tr>\n",
       "    <tr>\n",
       "      <th>2</th>\n",
       "      <td>8477 133rd St Ct</td>\n",
       "      <td>Apple Valley</td>\n",
       "      <td>82086.0</td>\n",
       "      <td>585000</td>\n",
       "      <td>5055.0</td>\n",
       "      <td>4.0</td>\n",
       "      <td>5</td>\n",
       "      <td>5055.0</td>\n",
       "      <td>1977.0</td>\n",
       "      <td>116.0</td>\n",
       "    </tr>\n",
       "    <tr>\n",
       "      <th>3</th>\n",
       "      <td>5260 132nd St W</td>\n",
       "      <td>Apple Valley</td>\n",
       "      <td>69260.0</td>\n",
       "      <td>689000</td>\n",
       "      <td>NaN</td>\n",
       "      <td>4.0</td>\n",
       "      <td>4</td>\n",
       "      <td>NaN</td>\n",
       "      <td>1960.0</td>\n",
       "      <td>114.0</td>\n",
       "    </tr>\n",
       "    <tr>\n",
       "      <th>4</th>\n",
       "      <td>12790 Dory Ave</td>\n",
       "      <td>Apple Valley</td>\n",
       "      <td>57194.0</td>\n",
       "      <td>425000</td>\n",
       "      <td>3480.0</td>\n",
       "      <td>3.0</td>\n",
       "      <td>3</td>\n",
       "      <td>3480.0</td>\n",
       "      <td>1972.0</td>\n",
       "      <td>122.0</td>\n",
       "    </tr>\n",
       "  </tbody>\n",
       "</table>\n",
       "</div>"
      ],
      "text/plain": [
       "            Address          City  Lot Size  Listing Price  Square Feet  \\\n",
       "0   8485 133rd St W  Apple Valley  135166.0         380000          NaN   \n",
       "1  13637 Duluth Cir  Apple Valley   94873.0         825000       5200.0   \n",
       "2  8477 133rd St Ct  Apple Valley   82086.0         585000       5055.0   \n",
       "3   5260 132nd St W  Apple Valley   69260.0         689000          NaN   \n",
       "4    12790 Dory Ave  Apple Valley   57194.0         425000       3480.0   \n",
       "\n",
       "   Baths  Beds  Square Feet.1  Year Built  $/Square Feet  \n",
       "0    4.0     4            NaN      1978.0           81.0  \n",
       "1    4.0     5         5200.0      1987.0          159.0  \n",
       "2    4.0     5         5055.0      1977.0          116.0  \n",
       "3    4.0     4            NaN      1960.0          114.0  \n",
       "4    3.0     3         3480.0      1972.0          122.0  "
      ]
     },
     "execution_count": 2,
     "metadata": {},
     "output_type": "execute_result"
    }
   ],
   "source": [
    "data = pd.read_excel('Alldata.xlsx')\n",
    "data.head()"
   ]
  },
  {
   "cell_type": "code",
   "execution_count": 4,
   "metadata": {},
   "outputs": [
    {
     "name": "stdout",
     "output_type": "stream",
     "text": [
      "<class 'pandas.core.frame.DataFrame'>\n",
      "RangeIndex: 199 entries, 0 to 198\n",
      "Data columns (total 10 columns):\n",
      "Address          199 non-null object\n",
      "City             199 non-null object\n",
      "Lot Size         199 non-null float64\n",
      "Listing Price    199 non-null int64\n",
      "Square Feet      82 non-null float64\n",
      "Baths            199 non-null float64\n",
      "Beds             199 non-null int64\n",
      "Square Feet.1    82 non-null float64\n",
      "Year Built       198 non-null float64\n",
      "$/Square Feet    197 non-null float64\n",
      "dtypes: float64(6), int64(2), object(2)\n",
      "memory usage: 15.6+ KB\n"
     ]
    }
   ],
   "source": [
    "data.info()"
   ]
  },
  {
   "cell_type": "code",
   "execution_count": 5,
   "metadata": {},
   "outputs": [
    {
     "data": {
      "text/plain": [
       "Index(['Address', 'City', 'Lot Size', 'Listing Price', 'Square Feet', 'Baths',\n",
       "       'Beds', 'Square Feet.1', 'Year Built', '$/Square Feet'],\n",
       "      dtype='object')"
      ]
     },
     "execution_count": 5,
     "metadata": {},
     "output_type": "execute_result"
    }
   ],
   "source": [
    "data.columns"
   ]
  },
  {
   "cell_type": "code",
   "execution_count": 3,
   "metadata": {},
   "outputs": [
    {
     "data": {
      "text/html": [
       "<div>\n",
       "<style scoped>\n",
       "    .dataframe tbody tr th:only-of-type {\n",
       "        vertical-align: middle;\n",
       "    }\n",
       "\n",
       "    .dataframe tbody tr th {\n",
       "        vertical-align: top;\n",
       "    }\n",
       "\n",
       "    .dataframe thead th {\n",
       "        text-align: right;\n",
       "    }\n",
       "</style>\n",
       "<table border=\"1\" class=\"dataframe\">\n",
       "  <thead>\n",
       "    <tr style=\"text-align: right;\">\n",
       "      <th></th>\n",
       "      <th>Lot Size</th>\n",
       "      <th>Listing Price</th>\n",
       "      <th>Square Feet</th>\n",
       "      <th>Baths</th>\n",
       "      <th>Beds</th>\n",
       "      <th>Square Feet.1</th>\n",
       "      <th>Year Built</th>\n",
       "      <th>$/Square Feet</th>\n",
       "    </tr>\n",
       "  </thead>\n",
       "  <tbody>\n",
       "    <tr>\n",
       "      <th>count</th>\n",
       "      <td>199.000000</td>\n",
       "      <td>199.000000</td>\n",
       "      <td>82.000000</td>\n",
       "      <td>199.000000</td>\n",
       "      <td>199.000000</td>\n",
       "      <td>82.000000</td>\n",
       "      <td>198.000000</td>\n",
       "      <td>197.000000</td>\n",
       "    </tr>\n",
       "    <tr>\n",
       "      <th>mean</th>\n",
       "      <td>16188.766332</td>\n",
       "      <td>357048.085427</td>\n",
       "      <td>2837.634146</td>\n",
       "      <td>2.891960</td>\n",
       "      <td>3.949749</td>\n",
       "      <td>2837.634146</td>\n",
       "      <td>1988.848485</td>\n",
       "      <td>136.167513</td>\n",
       "    </tr>\n",
       "    <tr>\n",
       "      <th>std</th>\n",
       "      <td>13846.380868</td>\n",
       "      <td>103910.811190</td>\n",
       "      <td>887.601478</td>\n",
       "      <td>0.890259</td>\n",
       "      <td>0.827243</td>\n",
       "      <td>887.601478</td>\n",
       "      <td>16.366900</td>\n",
       "      <td>23.243550</td>\n",
       "    </tr>\n",
       "    <tr>\n",
       "      <th>min</th>\n",
       "      <td>2918.000000</td>\n",
       "      <td>130000.000000</td>\n",
       "      <td>1260.000000</td>\n",
       "      <td>1.000000</td>\n",
       "      <td>2.000000</td>\n",
       "      <td>1260.000000</td>\n",
       "      <td>1960.000000</td>\n",
       "      <td>58.000000</td>\n",
       "    </tr>\n",
       "    <tr>\n",
       "      <th>25%</th>\n",
       "      <td>11064.000000</td>\n",
       "      <td>278000.000000</td>\n",
       "      <td>2095.500000</td>\n",
       "      <td>2.000000</td>\n",
       "      <td>3.000000</td>\n",
       "      <td>2095.500000</td>\n",
       "      <td>1977.000000</td>\n",
       "      <td>118.000000</td>\n",
       "    </tr>\n",
       "    <tr>\n",
       "      <th>50%</th>\n",
       "      <td>13068.000000</td>\n",
       "      <td>338730.000000</td>\n",
       "      <td>2764.000000</td>\n",
       "      <td>3.000000</td>\n",
       "      <td>4.000000</td>\n",
       "      <td>2764.000000</td>\n",
       "      <td>1986.500000</td>\n",
       "      <td>135.000000</td>\n",
       "    </tr>\n",
       "    <tr>\n",
       "      <th>75%</th>\n",
       "      <td>16552.000000</td>\n",
       "      <td>425000.000000</td>\n",
       "      <td>3337.250000</td>\n",
       "      <td>4.000000</td>\n",
       "      <td>4.500000</td>\n",
       "      <td>3337.250000</td>\n",
       "      <td>1998.000000</td>\n",
       "      <td>152.000000</td>\n",
       "    </tr>\n",
       "    <tr>\n",
       "      <th>max</th>\n",
       "      <td>135166.000000</td>\n",
       "      <td>825000.000000</td>\n",
       "      <td>5423.000000</td>\n",
       "      <td>6.000000</td>\n",
       "      <td>6.000000</td>\n",
       "      <td>5423.000000</td>\n",
       "      <td>2018.000000</td>\n",
       "      <td>205.000000</td>\n",
       "    </tr>\n",
       "  </tbody>\n",
       "</table>\n",
       "</div>"
      ],
      "text/plain": [
       "            Lot Size  Listing Price  Square Feet       Baths        Beds  \\\n",
       "count     199.000000     199.000000    82.000000  199.000000  199.000000   \n",
       "mean    16188.766332  357048.085427  2837.634146    2.891960    3.949749   \n",
       "std     13846.380868  103910.811190   887.601478    0.890259    0.827243   \n",
       "min      2918.000000  130000.000000  1260.000000    1.000000    2.000000   \n",
       "25%     11064.000000  278000.000000  2095.500000    2.000000    3.000000   \n",
       "50%     13068.000000  338730.000000  2764.000000    3.000000    4.000000   \n",
       "75%     16552.000000  425000.000000  3337.250000    4.000000    4.500000   \n",
       "max    135166.000000  825000.000000  5423.000000    6.000000    6.000000   \n",
       "\n",
       "       Square Feet.1   Year Built  $/Square Feet  \n",
       "count      82.000000   198.000000     197.000000  \n",
       "mean     2837.634146  1988.848485     136.167513  \n",
       "std       887.601478    16.366900      23.243550  \n",
       "min      1260.000000  1960.000000      58.000000  \n",
       "25%      2095.500000  1977.000000     118.000000  \n",
       "50%      2764.000000  1986.500000     135.000000  \n",
       "75%      3337.250000  1998.000000     152.000000  \n",
       "max      5423.000000  2018.000000     205.000000  "
      ]
     },
     "execution_count": 3,
     "metadata": {},
     "output_type": "execute_result"
    }
   ],
   "source": [
    "data.describe()"
   ]
  },
  {
   "cell_type": "markdown",
   "metadata": {},
   "source": [
    "## Dropping unwanted columns"
   ]
  },
  {
   "cell_type": "code",
   "execution_count": 6,
   "metadata": {},
   "outputs": [
    {
     "data": {
      "text/plain": [
       "(199, 6)"
      ]
     },
     "execution_count": 6,
     "metadata": {},
     "output_type": "execute_result"
    }
   ],
   "source": [
    "data = data.drop(columns = ['Address', 'Square Feet','Square Feet.1', '$/Square Feet'])\n",
    "data.shape"
   ]
  },
  {
   "cell_type": "code",
   "execution_count": 7,
   "metadata": {},
   "outputs": [
    {
     "data": {
      "text/html": [
       "<div>\n",
       "<style scoped>\n",
       "    .dataframe tbody tr th:only-of-type {\n",
       "        vertical-align: middle;\n",
       "    }\n",
       "\n",
       "    .dataframe tbody tr th {\n",
       "        vertical-align: top;\n",
       "    }\n",
       "\n",
       "    .dataframe thead th {\n",
       "        text-align: right;\n",
       "    }\n",
       "</style>\n",
       "<table border=\"1\" class=\"dataframe\">\n",
       "  <thead>\n",
       "    <tr style=\"text-align: right;\">\n",
       "      <th></th>\n",
       "      <th>City</th>\n",
       "      <th>Lot Size</th>\n",
       "      <th>Listing Price</th>\n",
       "      <th>Baths</th>\n",
       "      <th>Beds</th>\n",
       "      <th>Year Built</th>\n",
       "    </tr>\n",
       "  </thead>\n",
       "  <tbody>\n",
       "    <tr>\n",
       "      <th>0</th>\n",
       "      <td>Apple Valley</td>\n",
       "      <td>135166.0</td>\n",
       "      <td>380000</td>\n",
       "      <td>4.0</td>\n",
       "      <td>4</td>\n",
       "      <td>1978.0</td>\n",
       "    </tr>\n",
       "    <tr>\n",
       "      <th>1</th>\n",
       "      <td>Apple Valley</td>\n",
       "      <td>94873.0</td>\n",
       "      <td>825000</td>\n",
       "      <td>4.0</td>\n",
       "      <td>5</td>\n",
       "      <td>1987.0</td>\n",
       "    </tr>\n",
       "    <tr>\n",
       "      <th>2</th>\n",
       "      <td>Apple Valley</td>\n",
       "      <td>82086.0</td>\n",
       "      <td>585000</td>\n",
       "      <td>4.0</td>\n",
       "      <td>5</td>\n",
       "      <td>1977.0</td>\n",
       "    </tr>\n",
       "    <tr>\n",
       "      <th>3</th>\n",
       "      <td>Apple Valley</td>\n",
       "      <td>69260.0</td>\n",
       "      <td>689000</td>\n",
       "      <td>4.0</td>\n",
       "      <td>4</td>\n",
       "      <td>1960.0</td>\n",
       "    </tr>\n",
       "    <tr>\n",
       "      <th>4</th>\n",
       "      <td>Apple Valley</td>\n",
       "      <td>57194.0</td>\n",
       "      <td>425000</td>\n",
       "      <td>3.0</td>\n",
       "      <td>3</td>\n",
       "      <td>1972.0</td>\n",
       "    </tr>\n",
       "  </tbody>\n",
       "</table>\n",
       "</div>"
      ],
      "text/plain": [
       "           City  Lot Size  Listing Price  Baths  Beds  Year Built\n",
       "0  Apple Valley  135166.0         380000    4.0     4      1978.0\n",
       "1  Apple Valley   94873.0         825000    4.0     5      1987.0\n",
       "2  Apple Valley   82086.0         585000    4.0     5      1977.0\n",
       "3  Apple Valley   69260.0         689000    4.0     4      1960.0\n",
       "4  Apple Valley   57194.0         425000    3.0     3      1972.0"
      ]
     },
     "execution_count": 7,
     "metadata": {},
     "output_type": "execute_result"
    }
   ],
   "source": [
    "data.head()"
   ]
  },
  {
   "cell_type": "code",
   "execution_count": 8,
   "metadata": {},
   "outputs": [
    {
     "name": "stdout",
     "output_type": "stream",
     "text": [
      "<class 'pandas.core.frame.DataFrame'>\n",
      "RangeIndex: 199 entries, 0 to 198\n",
      "Data columns (total 6 columns):\n",
      "City             199 non-null object\n",
      "Lot Size         199 non-null float64\n",
      "Listing Price    199 non-null int64\n",
      "Baths            199 non-null float64\n",
      "Beds             199 non-null int64\n",
      "Year Built       198 non-null float64\n",
      "dtypes: float64(3), int64(2), object(1)\n",
      "memory usage: 9.4+ KB\n"
     ]
    }
   ],
   "source": [
    "#Missing records \n",
    "data.info()"
   ]
  },
  {
   "cell_type": "code",
   "execution_count": 10,
   "metadata": {},
   "outputs": [
    {
     "data": {
      "text/html": [
       "<div>\n",
       "<style scoped>\n",
       "    .dataframe tbody tr th:only-of-type {\n",
       "        vertical-align: middle;\n",
       "    }\n",
       "\n",
       "    .dataframe tbody tr th {\n",
       "        vertical-align: top;\n",
       "    }\n",
       "\n",
       "    .dataframe thead th {\n",
       "        text-align: right;\n",
       "    }\n",
       "</style>\n",
       "<table border=\"1\" class=\"dataframe\">\n",
       "  <thead>\n",
       "    <tr style=\"text-align: right;\">\n",
       "      <th></th>\n",
       "      <th>City</th>\n",
       "      <th>Lot Size</th>\n",
       "      <th>Listing Price</th>\n",
       "      <th>Baths</th>\n",
       "      <th>Beds</th>\n",
       "      <th>Year Built</th>\n",
       "    </tr>\n",
       "  </thead>\n",
       "  <tbody>\n",
       "    <tr>\n",
       "      <th>102</th>\n",
       "      <td>Apple Valley</td>\n",
       "      <td>12893.0</td>\n",
       "      <td>369630</td>\n",
       "      <td>3.0</td>\n",
       "      <td>4</td>\n",
       "      <td>NaN</td>\n",
       "    </tr>\n",
       "  </tbody>\n",
       "</table>\n",
       "</div>"
      ],
      "text/plain": [
       "             City  Lot Size  Listing Price  Baths  Beds  Year Built\n",
       "102  Apple Valley   12893.0         369630    3.0     4         NaN"
      ]
     },
     "execution_count": 10,
     "metadata": {},
     "output_type": "execute_result"
    }
   ],
   "source": [
    "data[data['Year Built'].isnull()]"
   ]
  },
  {
   "cell_type": "code",
   "execution_count": 13,
   "metadata": {},
   "outputs": [
    {
     "data": {
      "text/plain": [
       "(198, 6)"
      ]
     },
     "execution_count": 13,
     "metadata": {},
     "output_type": "execute_result"
    }
   ],
   "source": [
    "# drop rwo at index 102\n",
    "data = data.drop(102)\n",
    "data.shape"
   ]
  },
  {
   "cell_type": "code",
   "execution_count": 14,
   "metadata": {},
   "outputs": [
    {
     "name": "stdout",
     "output_type": "stream",
     "text": [
      "<class 'pandas.core.frame.DataFrame'>\n",
      "Int64Index: 198 entries, 0 to 198\n",
      "Data columns (total 6 columns):\n",
      "City             198 non-null object\n",
      "Lot Size         198 non-null float64\n",
      "Listing Price    198 non-null int64\n",
      "Baths            198 non-null float64\n",
      "Beds             198 non-null int64\n",
      "Year Built       198 non-null float64\n",
      "dtypes: float64(3), int64(2), object(1)\n",
      "memory usage: 10.8+ KB\n"
     ]
    }
   ],
   "source": [
    "data.info()"
   ]
  },
  {
   "cell_type": "code",
   "execution_count": 15,
   "metadata": {},
   "outputs": [],
   "source": [
    "data.to_csv('appleData1.csv') # create a csv file from the clean data"
   ]
  },
  {
   "cell_type": "code",
   "execution_count": null,
   "metadata": {},
   "outputs": [],
   "source": []
  }
 ],
 "metadata": {
  "kernelspec": {
   "display_name": "Python 3",
   "language": "python",
   "name": "python3"
  },
  "language_info": {
   "codemirror_mode": {
    "name": "ipython",
    "version": 3
   },
   "file_extension": ".py",
   "mimetype": "text/x-python",
   "name": "python",
   "nbconvert_exporter": "python",
   "pygments_lexer": "ipython3",
   "version": "3.7.1"
  }
 },
 "nbformat": 4,
 "nbformat_minor": 2
}
