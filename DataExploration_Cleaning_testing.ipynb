{
 "cells": [
  {
   "cell_type": "code",
   "execution_count": null,
   "metadata": {},
   "outputs": [],
   "source": []
  },
  {
   "cell_type": "code",
   "execution_count": 409,
   "metadata": {},
   "outputs": [],
   "source": [
    "import pandas as pd\n",
    "import numpy as np\n",
    "from pandas import Series, DataFrame\n",
    "\n",
    "from datetime import datetime\n",
    "import statistics as stat\n",
    "from scipy.stats.stats import pearsonr\n",
    "\n",
    "import seaborn as sb\n",
    "import matplotlib.pyplot as plt\n",
    "from matplotlib import rcParams\n",
    "\n",
    "from sklearn.linear_model import LinearRegression\n",
    "from sklearn.model_selection import train_test_split\n",
    "%matplotlib inline\n",
    "\n",
    "from sklearn import ensemble\n",
    "from sklearn.metrics import mean_absolute_error\n",
    "from sklearn.externals import joblib\n",
    "\n",
    "rcParams['figure.figsize'] = 6, 4\n",
    "sb.set_style('whitegrid')\n"
   ]
  },
  {
   "cell_type": "code",
   "execution_count": 410,
   "metadata": {},
   "outputs": [],
   "source": [
    "data = pd.read_csv('ml_house_data_set.csv')"
   ]
  },
  {
   "cell_type": "markdown",
   "metadata": {},
   "source": [
    "## Initial data exploration"
   ]
  },
  {
   "cell_type": "code",
   "execution_count": 411,
   "metadata": {},
   "outputs": [
    {
     "data": {
      "text/plain": [
       "Index(['year_built', 'stories', 'num_bedrooms', 'full_bathrooms',\n",
       "       'half_bathrooms', 'livable_sqft', 'total_sqft', 'garage_type',\n",
       "       'garage_sqft', 'carport_sqft', 'has_fireplace', 'has_pool',\n",
       "       'has_central_heating', 'has_central_cooling', 'house_number',\n",
       "       'street_name', 'unit_number', 'city', 'zip_code', 'sale_price'],\n",
       "      dtype='object')"
      ]
     },
     "execution_count": 411,
     "metadata": {},
     "output_type": "execute_result"
    }
   ],
   "source": [
    "data.columns"
   ]
  },
  {
   "cell_type": "code",
   "execution_count": 412,
   "metadata": {},
   "outputs": [
    {
     "data": {
      "text/html": [
       "<div>\n",
       "<style scoped>\n",
       "    .dataframe tbody tr th:only-of-type {\n",
       "        vertical-align: middle;\n",
       "    }\n",
       "\n",
       "    .dataframe tbody tr th {\n",
       "        vertical-align: top;\n",
       "    }\n",
       "\n",
       "    .dataframe thead th {\n",
       "        text-align: right;\n",
       "    }\n",
       "</style>\n",
       "<table border=\"1\" class=\"dataframe\">\n",
       "  <thead>\n",
       "    <tr style=\"text-align: right;\">\n",
       "      <th></th>\n",
       "      <th>year_built</th>\n",
       "      <th>stories</th>\n",
       "      <th>num_bedrooms</th>\n",
       "      <th>full_bathrooms</th>\n",
       "      <th>half_bathrooms</th>\n",
       "      <th>livable_sqft</th>\n",
       "      <th>total_sqft</th>\n",
       "      <th>garage_sqft</th>\n",
       "      <th>carport_sqft</th>\n",
       "      <th>house_number</th>\n",
       "      <th>unit_number</th>\n",
       "      <th>zip_code</th>\n",
       "      <th>sale_price</th>\n",
       "    </tr>\n",
       "  </thead>\n",
       "  <tbody>\n",
       "    <tr>\n",
       "      <th>count</th>\n",
       "      <td>42703.000000</td>\n",
       "      <td>42703.000000</td>\n",
       "      <td>42703.000000</td>\n",
       "      <td>42703.000000</td>\n",
       "      <td>42703.000000</td>\n",
       "      <td>42703.000000</td>\n",
       "      <td>42703.000000</td>\n",
       "      <td>42703.000000</td>\n",
       "      <td>42703.000000</td>\n",
       "      <td>42703.000000</td>\n",
       "      <td>3088.000000</td>\n",
       "      <td>42703.000000</td>\n",
       "      <td>4.270300e+04</td>\n",
       "    </tr>\n",
       "    <tr>\n",
       "      <th>mean</th>\n",
       "      <td>1990.993209</td>\n",
       "      <td>1.365759</td>\n",
       "      <td>3.209283</td>\n",
       "      <td>1.923659</td>\n",
       "      <td>0.527153</td>\n",
       "      <td>1987.758986</td>\n",
       "      <td>2127.155446</td>\n",
       "      <td>455.849800</td>\n",
       "      <td>41.656324</td>\n",
       "      <td>18211.767347</td>\n",
       "      <td>2027.395402</td>\n",
       "      <td>11030.991476</td>\n",
       "      <td>4.135071e+05</td>\n",
       "    </tr>\n",
       "    <tr>\n",
       "      <th>std</th>\n",
       "      <td>19.199987</td>\n",
       "      <td>0.513602</td>\n",
       "      <td>1.043396</td>\n",
       "      <td>0.759699</td>\n",
       "      <td>0.499268</td>\n",
       "      <td>846.766270</td>\n",
       "      <td>922.807342</td>\n",
       "      <td>243.453463</td>\n",
       "      <td>168.715867</td>\n",
       "      <td>27457.109993</td>\n",
       "      <td>1141.383770</td>\n",
       "      <td>573.576228</td>\n",
       "      <td>3.185497e+05</td>\n",
       "    </tr>\n",
       "    <tr>\n",
       "      <th>min</th>\n",
       "      <td>1852.000000</td>\n",
       "      <td>0.000000</td>\n",
       "      <td>0.000000</td>\n",
       "      <td>0.000000</td>\n",
       "      <td>0.000000</td>\n",
       "      <td>-3.000000</td>\n",
       "      <td>5.000000</td>\n",
       "      <td>-4.000000</td>\n",
       "      <td>0.000000</td>\n",
       "      <td>0.000000</td>\n",
       "      <td>3.000000</td>\n",
       "      <td>10004.000000</td>\n",
       "      <td>6.260000e+02</td>\n",
       "    </tr>\n",
       "    <tr>\n",
       "      <th>25%</th>\n",
       "      <td>1980.000000</td>\n",
       "      <td>1.000000</td>\n",
       "      <td>3.000000</td>\n",
       "      <td>1.000000</td>\n",
       "      <td>0.000000</td>\n",
       "      <td>1380.000000</td>\n",
       "      <td>1466.000000</td>\n",
       "      <td>412.000000</td>\n",
       "      <td>0.000000</td>\n",
       "      <td>674.000000</td>\n",
       "      <td>1063.000000</td>\n",
       "      <td>10537.000000</td>\n",
       "      <td>2.708990e+05</td>\n",
       "    </tr>\n",
       "    <tr>\n",
       "      <th>50%</th>\n",
       "      <td>1994.000000</td>\n",
       "      <td>1.000000</td>\n",
       "      <td>3.000000</td>\n",
       "      <td>2.000000</td>\n",
       "      <td>1.000000</td>\n",
       "      <td>1808.000000</td>\n",
       "      <td>1937.000000</td>\n",
       "      <td>464.000000</td>\n",
       "      <td>0.000000</td>\n",
       "      <td>4530.000000</td>\n",
       "      <td>2033.000000</td>\n",
       "      <td>11071.000000</td>\n",
       "      <td>3.780010e+05</td>\n",
       "    </tr>\n",
       "    <tr>\n",
       "      <th>75%</th>\n",
       "      <td>2005.000000</td>\n",
       "      <td>2.000000</td>\n",
       "      <td>4.000000</td>\n",
       "      <td>2.000000</td>\n",
       "      <td>1.000000</td>\n",
       "      <td>2486.000000</td>\n",
       "      <td>2640.000000</td>\n",
       "      <td>606.000000</td>\n",
       "      <td>0.000000</td>\n",
       "      <td>24844.500000</td>\n",
       "      <td>2921.000000</td>\n",
       "      <td>11510.000000</td>\n",
       "      <td>4.976970e+05</td>\n",
       "    </tr>\n",
       "    <tr>\n",
       "      <th>max</th>\n",
       "      <td>2017.000000</td>\n",
       "      <td>4.000000</td>\n",
       "      <td>31.000000</td>\n",
       "      <td>8.000000</td>\n",
       "      <td>1.000000</td>\n",
       "      <td>12406.000000</td>\n",
       "      <td>15449.000000</td>\n",
       "      <td>8318.000000</td>\n",
       "      <td>9200.000000</td>\n",
       "      <td>99971.000000</td>\n",
       "      <td>3998.000000</td>\n",
       "      <td>11989.000000</td>\n",
       "      <td>2.104200e+07</td>\n",
       "    </tr>\n",
       "  </tbody>\n",
       "</table>\n",
       "</div>"
      ],
      "text/plain": [
       "         year_built       stories  num_bedrooms  full_bathrooms  \\\n",
       "count  42703.000000  42703.000000  42703.000000    42703.000000   \n",
       "mean    1990.993209      1.365759      3.209283        1.923659   \n",
       "std       19.199987      0.513602      1.043396        0.759699   \n",
       "min     1852.000000      0.000000      0.000000        0.000000   \n",
       "25%     1980.000000      1.000000      3.000000        1.000000   \n",
       "50%     1994.000000      1.000000      3.000000        2.000000   \n",
       "75%     2005.000000      2.000000      4.000000        2.000000   \n",
       "max     2017.000000      4.000000     31.000000        8.000000   \n",
       "\n",
       "       half_bathrooms  livable_sqft    total_sqft   garage_sqft  carport_sqft  \\\n",
       "count    42703.000000  42703.000000  42703.000000  42703.000000  42703.000000   \n",
       "mean         0.527153   1987.758986   2127.155446    455.849800     41.656324   \n",
       "std          0.499268    846.766270    922.807342    243.453463    168.715867   \n",
       "min          0.000000     -3.000000      5.000000     -4.000000      0.000000   \n",
       "25%          0.000000   1380.000000   1466.000000    412.000000      0.000000   \n",
       "50%          1.000000   1808.000000   1937.000000    464.000000      0.000000   \n",
       "75%          1.000000   2486.000000   2640.000000    606.000000      0.000000   \n",
       "max          1.000000  12406.000000  15449.000000   8318.000000   9200.000000   \n",
       "\n",
       "       house_number  unit_number      zip_code    sale_price  \n",
       "count  42703.000000  3088.000000  42703.000000  4.270300e+04  \n",
       "mean   18211.767347  2027.395402  11030.991476  4.135071e+05  \n",
       "std    27457.109993  1141.383770    573.576228  3.185497e+05  \n",
       "min        0.000000     3.000000  10004.000000  6.260000e+02  \n",
       "25%      674.000000  1063.000000  10537.000000  2.708990e+05  \n",
       "50%     4530.000000  2033.000000  11071.000000  3.780010e+05  \n",
       "75%    24844.500000  2921.000000  11510.000000  4.976970e+05  \n",
       "max    99971.000000  3998.000000  11989.000000  2.104200e+07  "
      ]
     },
     "execution_count": 412,
     "metadata": {},
     "output_type": "execute_result"
    }
   ],
   "source": [
    "data.describe()"
   ]
  },
  {
   "cell_type": "code",
   "execution_count": 413,
   "metadata": {},
   "outputs": [
    {
     "name": "stdout",
     "output_type": "stream",
     "text": [
      "<class 'pandas.core.frame.DataFrame'>\n",
      "RangeIndex: 42703 entries, 0 to 42702\n",
      "Data columns (total 20 columns):\n",
      "year_built             42703 non-null int64\n",
      "stories                42703 non-null int64\n",
      "num_bedrooms           42703 non-null int64\n",
      "full_bathrooms         42703 non-null int64\n",
      "half_bathrooms         42703 non-null int64\n",
      "livable_sqft           42703 non-null int64\n",
      "total_sqft             42703 non-null int64\n",
      "garage_type            42703 non-null object\n",
      "garage_sqft            42703 non-null int64\n",
      "carport_sqft           42703 non-null int64\n",
      "has_fireplace          42703 non-null bool\n",
      "has_pool               42703 non-null bool\n",
      "has_central_heating    42703 non-null bool\n",
      "has_central_cooling    42703 non-null bool\n",
      "house_number           42703 non-null int64\n",
      "street_name            42703 non-null object\n",
      "unit_number            3088 non-null float64\n",
      "city                   42703 non-null object\n",
      "zip_code               42703 non-null int64\n",
      "sale_price             42703 non-null float64\n",
      "dtypes: bool(4), float64(2), int64(11), object(3)\n",
      "memory usage: 5.4+ MB\n"
     ]
    }
   ],
   "source": [
    "data.info()"
   ]
  },
  {
   "cell_type": "markdown",
   "metadata": {},
   "source": [
    "## Number of houses built over time binned into categorical valuables"
   ]
  },
  {
   "cell_type": "code",
   "execution_count": 414,
   "metadata": {},
   "outputs": [
    {
     "data": {
      "text/plain": [
       "(Year_levels\n",
       " 1850- 1866        1\n",
       " 1867-1883         0\n",
       " 1884-1900        18\n",
       " 1901-1917       146\n",
       " 1918-1934       358\n",
       " 1935-1950       875\n",
       " 1951-1967      3905\n",
       " 1968-1984      7808\n",
       " 1985-2001     12871\n",
       " 2002-2018     16721\n",
       " dtype: int64,\n",
       " array([1850. , 1866.8, 1883.6, 1900.4, 1917.2, 1934. , 1950.8, 1967.6,\n",
       "        1984.4, 2001.2, 2018. ]))"
      ]
     },
     "execution_count": 414,
     "metadata": {},
     "output_type": "execute_result"
    }
   ],
   "source": [
    "bins = np.linspace(1850,2018, num =11)  #create bins => np.linspace(min,max,numberOfBins)\n",
    "data[\"Year_levels\"] = pd.cut(data['year_built'],bins,labels= ['1850- 1866','1867-1883','1884-1900','1901-1917','1918-1934',\n",
    "                                                              '1935-1950','1951-1967','1968-1984','1985-2001','2002-2018'])#divide dataset\n",
    "data.groupby(\"Year_levels\").size(), bins #show bin sises and bins"
   ]
  },
  {
   "cell_type": "code",
   "execution_count": 415,
   "metadata": {},
   "outputs": [
    {
     "data": {
      "text/plain": [
       "<seaborn.axisgrid.FacetGrid at 0x1a1eb8dd68>"
      ]
     },
     "execution_count": 415,
     "metadata": {},
     "output_type": "execute_result"
    },
    {
     "data": {
      "image/png": "[encoded data removed]",
      "text/plain": [
       "<Figure size 576x288 with 1 Axes>"
      ]
     },
     "metadata": {},
     "output_type": "display_data"
    }
   ],
   "source": [
    "sb.catplot('Year_levels', order=['1850- 1866','1867-1883','1884-1900','1901-1917','1918-1934',\n",
    "                            '1935-1950','1951-1967','1968-1984','1985-2001','2002-2018'], data= data, kind='count',\n",
    "          height = 4, aspect =2)"
   ]
  },
  {
   "cell_type": "markdown",
   "metadata": {},
   "source": [
    "## popularity of houses based on number of bedrooms"
   ]
  },
  {
   "cell_type": "code",
   "execution_count": 416,
   "metadata": {},
   "outputs": [
    {
     "data": {
      "text/plain": [
       "<function seaborn.utils.despine(fig=None, ax=None, top=True, right=True, left=False, bottom=False, offset=None, trim=False)>"
      ]
     },
     "execution_count": 416,
     "metadata": {},
     "output_type": "execute_result"
    },
    {
     "data": {
      "image/png": "[encoded data removed]",
      "text/plain": [
       "<Figure size 432x288 with 1 Axes>"
      ]
     },
     "metadata": {},
     "output_type": "display_data"
    }
   ],
   "source": [
    "data['num_bedrooms'].value_counts().plot(kind = 'bar')\n",
    "plt.title('Popularity of Number of bed rooms')\n",
    "plt.xlabel(\"No of benrooms in a house\")\n",
    "plt.ylabel('Count of Houses')\n",
    "sb.despine"
   ]
  },
  {
   "cell_type": "markdown",
   "metadata": {},
   "source": [
    "## popularity of cities based on number of houses"
   ]
  },
  {
   "cell_type": "code",
   "execution_count": 417,
   "metadata": {},
   "outputs": [
    {
     "data": {
      "text/plain": [
       "<function seaborn.utils.despine(fig=None, ax=None, top=True, right=True, left=False, bottom=False, offset=None, trim=False)>"
      ]
     },
     "execution_count": 417,
     "metadata": {},
     "output_type": "execute_result"
    },
    {
     "data": {
      "image/png": "[encoded data removed]",
      "text/plain": [
       "<Figure size 432x288 with 1 Axes>"
      ]
     },
     "metadata": {},
     "output_type": "display_data"
    }
   ],
   "source": [
    "data['city'].value_counts().plot(kind = 'bar')\n",
    "plt.title('Popularity of Cities based on Number of houses')\n",
    "plt.xlabel(\"No of House\")\n",
    "plt.ylabel('Cities')\n",
    "sb.despine"
   ]
  },
  {
   "cell_type": "markdown",
   "metadata": {},
   "source": [
    "## How are other variables affecting the price. (Correlation between  sell price and other variables)."
   ]
  },
  {
   "cell_type": "code",
   "execution_count": 418,
   "metadata": {},
   "outputs": [
    {
     "data": {
      "text/plain": [
       "0.22794759081530824"
      ]
     },
     "execution_count": 418,
     "metadata": {},
     "output_type": "execute_result"
    }
   ],
   "source": [
    "#correlation btwn year bilt and house\n",
    "data['year_built'].corr(data['sale_price'])"
   ]
  },
  {
   "cell_type": "code",
   "execution_count": 419,
   "metadata": {},
   "outputs": [
    {
     "data": {
      "text/plain": [
       "Text(0, 0.5, 'YEAR BUILT')"
      ]
     },
     "execution_count": 419,
     "metadata": {},
     "output_type": "execute_result"
    },
    {
     "data": {
      "image/png": "[encoded data removed]",
      "text/plain": [
       "<Figure size 432x288 with 1 Axes>"
      ]
     },
     "metadata": {},
     "output_type": "display_data"
    }
   ],
   "source": [
    "plt.scatter(data.sale_price,data.year_built)\n",
    "plt.title('Year_built vs Price')\n",
    "plt.xlabel('PRICE')\n",
    "plt.ylabel('YEAR BUILT')"
   ]
  },
  {
   "cell_type": "code",
   "execution_count": 420,
   "metadata": {},
   "outputs": [
    {
     "data": {
      "text/plain": [
       "(0.4299470838750249, 0, 8)"
      ]
     },
     "execution_count": 420,
     "metadata": {},
     "output_type": "execute_result"
    }
   ],
   "source": [
    "data['full_bathrooms'].corr(data['sale_price']) , min(data['full_bathrooms']), max(data['full_bathrooms'])"
   ]
  },
  {
   "cell_type": "code",
   "execution_count": 421,
   "metadata": {},
   "outputs": [
    {
     "data": {
      "text/plain": [
       "Text(0, 0.5, 'BATH ROOMs')"
      ]
     },
     "execution_count": 421,
     "metadata": {},
     "output_type": "execute_result"
    },
    {
     "data": {
      "image/png": "[encoded data removed]",
      "text/plain": [
       "<Figure size 432x288 with 1 Axes>"
      ]
     },
     "metadata": {},
     "output_type": "display_data"
    }
   ],
   "source": [
    "plt.scatter(data.sale_price,data.full_bathrooms)\n",
    "plt.title('full_bathrooms vs Price')\n",
    "plt.xlabel('PRICE')\n",
    "plt.ylabel('BATH ROOMs')"
   ]
  },
  {
   "cell_type": "code",
   "execution_count": 422,
   "metadata": {},
   "outputs": [
    {
     "data": {
      "text/plain": [
       "(0.660714360656457, 5, 15449)"
      ]
     },
     "execution_count": 422,
     "metadata": {},
     "output_type": "execute_result"
    }
   ],
   "source": [
    "data['total_sqft'].corr(data['sale_price']) , min(data['total_sqft']), max(data['total_sqft'])"
   ]
  },
  {
   "cell_type": "code",
   "execution_count": 423,
   "metadata": {},
   "outputs": [
    {
     "data": {
      "text/plain": [
       "Text(0, 0.5, 'TOTAl SQRFT')"
      ]
     },
     "execution_count": 423,
     "metadata": {},
     "output_type": "execute_result"
    },
    {
     "data": {
      "image/png": "[encoded data removed]",
      "text/plain": [
       "<Figure size 432x288 with 1 Axes>"
      ]
     },
     "metadata": {},
     "output_type": "display_data"
    }
   ],
   "source": [
    "plt.scatter(data.sale_price,data.total_sqft)\n",
    "plt.title('total_sqfts vs Price')\n",
    "plt.xlabel('PRICE')\n",
    "plt.ylabel('TOTAl SQRFT')"
   ]
  },
  {
   "cell_type": "code",
   "execution_count": 424,
   "metadata": {},
   "outputs": [
    {
     "data": {
      "text/plain": [
       "Text(0, 0.5, 'ZIPCODE')"
      ]
     },
     "execution_count": 424,
     "metadata": {},
     "output_type": "execute_result"
    },
    {
     "data": {
      "image/png": "[encoded data removed]",
      "text/plain": [
       "<Figure size 432x288 with 1 Axes>"
      ]
     },
     "metadata": {},
     "output_type": "display_data"
    }
   ],
   "source": [
    "plt.scatter(data.sale_price,data.zip_code)\n",
    "plt.title('Zipcode vs Price')\n",
    "plt.xlabel('PRICE')\n",
    "plt.ylabel('ZIPCODE')"
   ]
  },
  {
   "cell_type": "code",
   "execution_count": 425,
   "metadata": {},
   "outputs": [
    {
     "data": {
      "text/plain": [
       "(0.09427955265331577, 0, 1)"
      ]
     },
     "execution_count": 425,
     "metadata": {},
     "output_type": "execute_result"
    }
   ],
   "source": [
    "data['half_bathrooms'].corr(data['sale_price']) , min(data['half_bathrooms']), max(data['half_bathrooms'])"
   ]
  },
  {
   "cell_type": "code",
   "execution_count": 426,
   "metadata": {},
   "outputs": [
    {
     "data": {
      "text/plain": [
       "(0.31676780949485217, 0, 31)"
      ]
     },
     "execution_count": 426,
     "metadata": {},
     "output_type": "execute_result"
    }
   ],
   "source": [
    "data['num_bedrooms'].corr(data['sale_price']) , min(data['num_bedrooms']), max(data['num_bedrooms'])"
   ]
  },
  {
   "cell_type": "code",
   "execution_count": 427,
   "metadata": {},
   "outputs": [
    {
     "data": {
      "text/plain": [
       "Text(0, 0.5, 'num_bedrooms')"
      ]
     },
     "execution_count": 427,
     "metadata": {},
     "output_type": "execute_result"
    },
    {
     "data": {
      "image/png": "[encoded data removed]",
      "text/plain": [
       "<Figure size 432x288 with 1 Axes>"
      ]
     },
     "metadata": {},
     "output_type": "display_data"
    }
   ],
   "source": [
    "plt.scatter(data.sale_price,data.num_bedrooms)\n",
    "plt.title('num_bedrooms vs Price')\n",
    "plt.xlabel('PRICE')\n",
    "plt.ylabel('num_bedrooms')"
   ]
  },
  {
   "cell_type": "code",
   "execution_count": 428,
   "metadata": {},
   "outputs": [
    {
     "data": {
      "text/plain": [
       "(-0.19738418764808885, 0, 9200)"
      ]
     },
     "execution_count": 428,
     "metadata": {},
     "output_type": "execute_result"
    }
   ],
   "source": [
    "data['carport_sqft'].corr(data['sale_price']) , min(data['carport_sqft']), max(data['carport_sqft'])"
   ]
  },
  {
   "cell_type": "code",
   "execution_count": 429,
   "metadata": {},
   "outputs": [
    {
     "data": {
      "text/plain": [
       "Text(0, 0.5, 'carport_sqft')"
      ]
     },
     "execution_count": 429,
     "metadata": {},
     "output_type": "execute_result"
    },
    {
     "data": {
      "image/png": "[encoded data removed]",
      "text/plain": [
       "<Figure size 432x288 with 1 Axes>"
      ]
     },
     "metadata": {},
     "output_type": "display_data"
    }
   ],
   "source": [
    "plt.scatter(data.sale_price,data.has_fireplace)\n",
    "plt.title('hcarport_sqft vs Price')\n",
    "plt.xlabel('PRICE')\n",
    "plt.ylabel('carport_sqft')"
   ]
  },
  {
   "cell_type": "code",
   "execution_count": 430,
   "metadata": {},
   "outputs": [
    {
     "data": {
      "text/plain": [
       "(0.2758127291498356, False, True)"
      ]
     },
     "execution_count": 430,
     "metadata": {},
     "output_type": "execute_result"
    }
   ],
   "source": [
    "data['has_fireplace'].corr(data['sale_price']) , min(data['has_fireplace']), max(data['has_fireplace'])"
   ]
  },
  {
   "cell_type": "code",
   "execution_count": 431,
   "metadata": {},
   "outputs": [
    {
     "data": {
      "text/plain": [
       "Text(0, 0.5, 'has_fireplace')"
      ]
     },
     "execution_count": 431,
     "metadata": {},
     "output_type": "execute_result"
    },
    {
     "data": {
      "image/png": "[encoded data removed]",
      "text/plain": [
       "<Figure size 432x288 with 1 Axes>"
      ]
     },
     "metadata": {},
     "output_type": "display_data"
    }
   ],
   "source": [
    "plt.scatter(data.sale_price,data.has_fireplace)\n",
    "plt.title('has_fireplace vs Price')\n",
    "plt.xlabel('PRICE')\n",
    "plt.ylabel('has_fireplace')"
   ]
  },
  {
   "cell_type": "code",
   "execution_count": 432,
   "metadata": {},
   "outputs": [
    {
     "data": {
      "text/plain": [
       "(0.35507253394823324, False, True)"
      ]
     },
     "execution_count": 432,
     "metadata": {},
     "output_type": "execute_result"
    }
   ],
   "source": [
    "data['has_pool'].corr(data['sale_price']) , min(data['has_pool']), max(data['has_pool'])"
   ]
  },
  {
   "cell_type": "code",
   "execution_count": 433,
   "metadata": {},
   "outputs": [
    {
     "data": {
      "text/plain": [
       "Text(0, 0.5, 'has_pool')"
      ]
     },
     "execution_count": 433,
     "metadata": {},
     "output_type": "execute_result"
    },
    {
     "data": {
      "image/png": "[encoded data removed]",
      "text/plain": [
       "<Figure size 432x288 with 1 Axes>"
      ]
     },
     "metadata": {},
     "output_type": "display_data"
    }
   ],
   "source": [
    "plt.scatter(data.sale_price,data.has_pool)\n",
    "plt.title('has_pool vs Price')\n",
    "plt.xlabel('PRICE')\n",
    "plt.ylabel('has_pool')"
   ]
  },
  {
   "cell_type": "code",
   "execution_count": 434,
   "metadata": {},
   "outputs": [
    {
     "data": {
      "text/plain": [
       "Text(0, 0.5, 'has_pool')"
      ]
     },
     "execution_count": 434,
     "metadata": {},
     "output_type": "execute_result"
    },
    {
     "data": {
      "image/png": "[encoded data removed]",
      "text/plain": [
       "<Figure size 432x288 with 1 Axes>"
      ]
     },
     "metadata": {},
     "output_type": "display_data"
    }
   ],
   "source": [
    "plt.scatter(data.sale_price,data.has_pool)\n",
    "plt.title('has_pool vs Price')\n",
    "plt.xlabel('PRICE')\n",
    "plt.ylabel('has_pool')"
   ]
  },
  {
   "cell_type": "code",
   "execution_count": 435,
   "metadata": {},
   "outputs": [
    {
     "data": {
      "text/plain": [
       "(0.11565834626498067, False, True)"
      ]
     },
     "execution_count": 435,
     "metadata": {},
     "output_type": "execute_result"
    }
   ],
   "source": [
    "data['has_central_heating'].corr(data['sale_price']) , min(data['has_central_heating']), max(data['has_central_heating'])"
   ]
  },
  {
   "cell_type": "code",
   "execution_count": 436,
   "metadata": {},
   "outputs": [
    {
     "data": {
      "text/plain": [
       "(0.14212108008314198, False, True)"
      ]
     },
     "execution_count": 436,
     "metadata": {},
     "output_type": "execute_result"
    }
   ],
   "source": [
    "data['has_central_cooling'].corr(data['sale_price']) , min(data['has_central_cooling']), max(data['has_central_cooling'])"
   ]
  },
  {
   "cell_type": "markdown",
   "metadata": {},
   "source": [
    "## Mnnnnn I got some negative values "
   ]
  },
  {
   "cell_type": "code",
   "execution_count": 437,
   "metadata": {},
   "outputs": [
    {
     "data": {
      "text/plain": [
       "(0.4489279955885494, -4, 8318)"
      ]
     },
     "execution_count": 437,
     "metadata": {},
     "output_type": "execute_result"
    }
   ],
   "source": [
    "data['garage_sqft'].corr(data['sale_price']) , min(data['garage_sqft']), max(data['garage_sqft'])"
   ]
  },
  {
   "cell_type": "code",
   "execution_count": 438,
   "metadata": {},
   "outputs": [
    {
     "data": {
      "text/plain": [
       "Text(0, 0.5, 'garage_sqft')"
      ]
     },
     "execution_count": 438,
     "metadata": {},
     "output_type": "execute_result"
    },
    {
     "data": {
      "image/png": "[encoded data removed]",
      "text/plain": [
       "<Figure size 432x288 with 1 Axes>"
      ]
     },
     "metadata": {},
     "output_type": "display_data"
    }
   ],
   "source": [
    "plt.scatter(data.sale_price,data.garage_sqft)\n",
    "plt.title('garage_sqft vs Price')\n",
    "plt.xlabel('PRICE')\n",
    "plt.ylabel('garage_sqft')"
   ]
  },
  {
   "cell_type": "code",
   "execution_count": 439,
   "metadata": {},
   "outputs": [
    {
     "data": {
      "text/plain": [
       "(0.6275083635084517, -3, 12406)"
      ]
     },
     "execution_count": 439,
     "metadata": {},
     "output_type": "execute_result"
    }
   ],
   "source": [
    "data['livable_sqft'].corr(data['sale_price']) , min(data['livable_sqft']), max(data['livable_sqft'])"
   ]
  },
  {
   "cell_type": "code",
   "execution_count": 440,
   "metadata": {},
   "outputs": [
    {
     "data": {
      "text/plain": [
       "Text(0, 0.5, 'livable_sqft')"
      ]
     },
     "execution_count": 440,
     "metadata": {},
     "output_type": "execute_result"
    },
    {
     "data": {
      "image/png": "[encoded data removed]",
      "text/plain": [
       "<Figure size 432x288 with 1 Axes>"
      ]
     },
     "metadata": {},
     "output_type": "display_data"
    }
   ],
   "source": [
    "plt.scatter(data.sale_price,data.livable_sqft)\n",
    "plt.title('livable_sqft vs Price')\n",
    "plt.xlabel('PRICE')\n",
    "plt.ylabel('livable_sqft')"
   ]
  },
  {
   "cell_type": "code",
   "execution_count": 441,
   "metadata": {},
   "outputs": [
    {
     "data": {
      "text/plain": [
       "52"
      ]
     },
     "execution_count": 441,
     "metadata": {},
     "output_type": "execute_result"
    }
   ],
   "source": [
    "len(data[data['garage_sqft']< 0]) # negative values "
   ]
  },
  {
   "cell_type": "code",
   "execution_count": 442,
   "metadata": {},
   "outputs": [
    {
     "data": {
      "text/html": [
       "<div>\n",
       "<style scoped>\n",
       "    .dataframe tbody tr th:only-of-type {\n",
       "        vertical-align: middle;\n",
       "    }\n",
       "\n",
       "    .dataframe tbody tr th {\n",
       "        vertical-align: top;\n",
       "    }\n",
       "\n",
       "    .dataframe thead th {\n",
       "        text-align: right;\n",
       "    }\n",
       "</style>\n",
       "<table border=\"1\" class=\"dataframe\">\n",
       "  <thead>\n",
       "    <tr style=\"text-align: right;\">\n",
       "      <th></th>\n",
       "      <th>year_built</th>\n",
       "      <th>stories</th>\n",
       "      <th>num_bedrooms</th>\n",
       "      <th>full_bathrooms</th>\n",
       "      <th>half_bathrooms</th>\n",
       "      <th>livable_sqft</th>\n",
       "      <th>total_sqft</th>\n",
       "      <th>garage_type</th>\n",
       "      <th>garage_sqft</th>\n",
       "      <th>carport_sqft</th>\n",
       "      <th>...</th>\n",
       "      <th>has_pool</th>\n",
       "      <th>has_central_heating</th>\n",
       "      <th>has_central_cooling</th>\n",
       "      <th>house_number</th>\n",
       "      <th>street_name</th>\n",
       "      <th>unit_number</th>\n",
       "      <th>city</th>\n",
       "      <th>zip_code</th>\n",
       "      <th>sale_price</th>\n",
       "      <th>Year_levels</th>\n",
       "    </tr>\n",
       "  </thead>\n",
       "  <tbody>\n",
       "    <tr>\n",
       "      <th>19780</th>\n",
       "      <td>2003</td>\n",
       "      <td>1</td>\n",
       "      <td>2</td>\n",
       "      <td>2</td>\n",
       "      <td>0</td>\n",
       "      <td>-2</td>\n",
       "      <td>269</td>\n",
       "      <td>none</td>\n",
       "      <td>0</td>\n",
       "      <td>0</td>\n",
       "      <td>...</td>\n",
       "      <td>False</td>\n",
       "      <td>True</td>\n",
       "      <td>False</td>\n",
       "      <td>6186</td>\n",
       "      <td>Schmidt Forge</td>\n",
       "      <td>3340.0</td>\n",
       "      <td>Jeffreyhaven</td>\n",
       "      <td>10346</td>\n",
       "      <td>71824.0</td>\n",
       "      <td>2002-2018</td>\n",
       "    </tr>\n",
       "    <tr>\n",
       "      <th>33192</th>\n",
       "      <td>1971</td>\n",
       "      <td>1</td>\n",
       "      <td>1</td>\n",
       "      <td>1</td>\n",
       "      <td>0</td>\n",
       "      <td>-3</td>\n",
       "      <td>5</td>\n",
       "      <td>none</td>\n",
       "      <td>0</td>\n",
       "      <td>0</td>\n",
       "      <td>...</td>\n",
       "      <td>False</td>\n",
       "      <td>True</td>\n",
       "      <td>False</td>\n",
       "      <td>1493</td>\n",
       "      <td>Johnson Ville</td>\n",
       "      <td>3581.0</td>\n",
       "      <td>Jeffreyhaven</td>\n",
       "      <td>10346</td>\n",
       "      <td>628.0</td>\n",
       "      <td>1968-1984</td>\n",
       "    </tr>\n",
       "    <tr>\n",
       "      <th>34817</th>\n",
       "      <td>1977</td>\n",
       "      <td>1</td>\n",
       "      <td>2</td>\n",
       "      <td>1</td>\n",
       "      <td>1</td>\n",
       "      <td>-2</td>\n",
       "      <td>6</td>\n",
       "      <td>attached</td>\n",
       "      <td>-3</td>\n",
       "      <td>0</td>\n",
       "      <td>...</td>\n",
       "      <td>False</td>\n",
       "      <td>True</td>\n",
       "      <td>True</td>\n",
       "      <td>399</td>\n",
       "      <td>Holland Valleys</td>\n",
       "      <td>NaN</td>\n",
       "      <td>Port Jonathanborough</td>\n",
       "      <td>10250</td>\n",
       "      <td>505261.0</td>\n",
       "      <td>1968-1984</td>\n",
       "    </tr>\n",
       "  </tbody>\n",
       "</table>\n",
       "<p>3 rows × 21 columns</p>\n",
       "</div>"
      ],
      "text/plain": [
       "       year_built  stories  num_bedrooms  full_bathrooms  half_bathrooms  \\\n",
       "19780        2003        1             2               2               0   \n",
       "33192        1971        1             1               1               0   \n",
       "34817        1977        1             2               1               1   \n",
       "\n",
       "       livable_sqft  total_sqft garage_type  garage_sqft  carport_sqft  \\\n",
       "19780            -2         269        none            0             0   \n",
       "33192            -3           5        none            0             0   \n",
       "34817            -2           6    attached           -3             0   \n",
       "\n",
       "          ...       has_pool  has_central_heating  has_central_cooling  \\\n",
       "19780     ...          False                 True                False   \n",
       "33192     ...          False                 True                False   \n",
       "34817     ...          False                 True                 True   \n",
       "\n",
       "       house_number      street_name unit_number                  city  \\\n",
       "19780          6186    Schmidt Forge      3340.0          Jeffreyhaven   \n",
       "33192          1493    Johnson Ville      3581.0          Jeffreyhaven   \n",
       "34817           399  Holland Valleys         NaN  Port Jonathanborough   \n",
       "\n",
       "      zip_code  sale_price  Year_levels  \n",
       "19780    10346     71824.0    2002-2018  \n",
       "33192    10346       628.0    1968-1984  \n",
       "34817    10250    505261.0    1968-1984  \n",
       "\n",
       "[3 rows x 21 columns]"
      ]
     },
     "execution_count": 442,
     "metadata": {},
     "output_type": "execute_result"
    }
   ],
   "source": [
    "data[data['livable_sqft']< 0]"
   ]
  },
  {
   "cell_type": "code",
   "execution_count": 443,
   "metadata": {},
   "outputs": [
    {
     "data": {
      "text/plain": [
       "year_built\n",
       "1989    1324\n",
       "1988    1307\n",
       "1990    1038\n",
       "1987     947\n",
       "1986     834\n",
       "dtype: int64"
      ]
     },
     "execution_count": 443,
     "metadata": {},
     "output_type": "execute_result"
    }
   ],
   "source": [
    "oldyear = data[data['year_built'] < 2000].groupby('year_built').size()\n",
    "oldyear.sort_values(ascending = False).head()"
   ]
  },
  {
   "cell_type": "code",
   "execution_count": 444,
   "metadata": {},
   "outputs": [
    {
     "data": {
      "text/plain": [
       "year_built\n",
       "2000     859\n",
       "2001    1017\n",
       "2002    1233\n",
       "2003    1589\n",
       "2004    1914\n",
       "dtype: int64"
      ]
     },
     "execution_count": 444,
     "metadata": {},
     "output_type": "execute_result"
    }
   ],
   "source": [
    "year = data[data['year_built'] >= 2000].groupby('year_built').size()\n",
    "year.head()"
   ]
  },
  {
   "cell_type": "code",
   "execution_count": 445,
   "metadata": {},
   "outputs": [
    {
     "data": {
      "text/plain": [
       "city\n",
       "Chadstad           4962\n",
       "Coletown           3739\n",
       "Jeffreyhaven       2981\n",
       "North Erinville    2868\n",
       "Port Andrealand    2669\n",
       "dtype: int64"
      ]
     },
     "execution_count": 445,
     "metadata": {},
     "output_type": "execute_result"
    }
   ],
   "source": [
    "data.groupby('city').size().sort_values(ascending = False).head()"
   ]
  },
  {
   "cell_type": "code",
   "execution_count": null,
   "metadata": {},
   "outputs": [],
   "source": []
  },
  {
   "cell_type": "markdown",
   "metadata": {},
   "source": [
    "## Data Wrangling\n",
    "change garage type to \n",
    "### Replace categorical data with one-hot encoded data\n",
    "data = pd.get_dummies(data, columns=['garage_type', 'city']\n"
   ]
  },
  {
   "cell_type": "code",
   "execution_count": 446,
   "metadata": {},
   "outputs": [
    {
     "data": {
      "text/plain": [
       "Index(['year_built', 'stories', 'num_bedrooms', 'full_bathrooms',\n",
       "       'half_bathrooms', 'livable_sqft', 'total_sqft', 'garage_sqft',\n",
       "       'carport_sqft', 'has_fireplace', 'has_pool', 'has_central_heating',\n",
       "       'has_central_cooling', 'house_number', 'street_name', 'unit_number',\n",
       "       'zip_code', 'sale_price', 'Year_levels', 'garage_type_attached',\n",
       "       'garage_type_detached', 'garage_type_none', 'city_Amystad',\n",
       "       'city_Brownport', 'city_Chadstad', 'city_Clarkberg', 'city_Coletown',\n",
       "       'city_Davidfort', 'city_Davidtown', 'city_East Amychester',\n",
       "       'city_East Janiceville', 'city_East Justin', 'city_East Lucas',\n",
       "       'city_Fosterberg', 'city_Hallfort', 'city_Jeffreyhaven',\n",
       "       'city_Jenniferberg', 'city_Joshuafurt', 'city_Julieberg',\n",
       "       'city_Justinport', 'city_Lake Carolyn', 'city_Lake Christinaport',\n",
       "       'city_Lake Dariusborough', 'city_Lake Jack', 'city_Lake Jennifer',\n",
       "       'city_Leahview', 'city_Lewishaven', 'city_Martinezfort',\n",
       "       'city_Morrisport', 'city_New Michele', 'city_New Robinton',\n",
       "       'city_North Erinville', 'city_Port Adamtown', 'city_Port Andrealand',\n",
       "       'city_Port Daniel', 'city_Port Jonathanborough', 'city_Richardport',\n",
       "       'city_Rickytown', 'city_Scottberg', 'city_South Anthony',\n",
       "       'city_South Stevenfurt', 'city_Toddshire', 'city_Wendybury',\n",
       "       'city_West Ann', 'city_West Brittanyview', 'city_West Gerald',\n",
       "       'city_West Gregoryview', 'city_West Lydia', 'city_West Terrence'],\n",
       "      dtype='object')"
      ]
     },
     "execution_count": 446,
     "metadata": {},
     "output_type": "execute_result"
    }
   ],
   "source": [
    "d = pd.get_dummies(data, columns=['garage_type', 'city'])\n",
    "d.columns                      "
   ]
  },
  {
   "cell_type": "code",
   "execution_count": 447,
   "metadata": {},
   "outputs": [
    {
     "data": {
      "text/html": [
       "<div>\n",
       "<style scoped>\n",
       "    .dataframe tbody tr th:only-of-type {\n",
       "        vertical-align: middle;\n",
       "    }\n",
       "\n",
       "    .dataframe tbody tr th {\n",
       "        vertical-align: top;\n",
       "    }\n",
       "\n",
       "    .dataframe thead th {\n",
       "        text-align: right;\n",
       "    }\n",
       "</style>\n",
       "<table border=\"1\" class=\"dataframe\">\n",
       "  <thead>\n",
       "    <tr style=\"text-align: right;\">\n",
       "      <th></th>\n",
       "      <th>year_built</th>\n",
       "      <th>stories</th>\n",
       "      <th>num_bedrooms</th>\n",
       "      <th>full_bathrooms</th>\n",
       "      <th>half_bathrooms</th>\n",
       "      <th>livable_sqft</th>\n",
       "      <th>total_sqft</th>\n",
       "      <th>garage_sqft</th>\n",
       "      <th>carport_sqft</th>\n",
       "      <th>has_fireplace</th>\n",
       "      <th>...</th>\n",
       "      <th>city_South Anthony</th>\n",
       "      <th>city_South Stevenfurt</th>\n",
       "      <th>city_Toddshire</th>\n",
       "      <th>city_Wendybury</th>\n",
       "      <th>city_West Ann</th>\n",
       "      <th>city_West Brittanyview</th>\n",
       "      <th>city_West Gerald</th>\n",
       "      <th>city_West Gregoryview</th>\n",
       "      <th>city_West Lydia</th>\n",
       "      <th>city_West Terrence</th>\n",
       "    </tr>\n",
       "  </thead>\n",
       "  <tbody>\n",
       "    <tr>\n",
       "      <th>0</th>\n",
       "      <td>1978</td>\n",
       "      <td>1</td>\n",
       "      <td>4</td>\n",
       "      <td>1</td>\n",
       "      <td>1</td>\n",
       "      <td>1689</td>\n",
       "      <td>1859</td>\n",
       "      <td>508</td>\n",
       "      <td>0</td>\n",
       "      <td>True</td>\n",
       "      <td>...</td>\n",
       "      <td>0</td>\n",
       "      <td>0</td>\n",
       "      <td>0</td>\n",
       "      <td>0</td>\n",
       "      <td>0</td>\n",
       "      <td>0</td>\n",
       "      <td>0</td>\n",
       "      <td>0</td>\n",
       "      <td>0</td>\n",
       "      <td>0</td>\n",
       "    </tr>\n",
       "    <tr>\n",
       "      <th>1</th>\n",
       "      <td>1958</td>\n",
       "      <td>1</td>\n",
       "      <td>3</td>\n",
       "      <td>1</td>\n",
       "      <td>1</td>\n",
       "      <td>1984</td>\n",
       "      <td>2002</td>\n",
       "      <td>462</td>\n",
       "      <td>0</td>\n",
       "      <td>True</td>\n",
       "      <td>...</td>\n",
       "      <td>0</td>\n",
       "      <td>0</td>\n",
       "      <td>0</td>\n",
       "      <td>0</td>\n",
       "      <td>0</td>\n",
       "      <td>0</td>\n",
       "      <td>0</td>\n",
       "      <td>0</td>\n",
       "      <td>0</td>\n",
       "      <td>0</td>\n",
       "    </tr>\n",
       "    <tr>\n",
       "      <th>2</th>\n",
       "      <td>2002</td>\n",
       "      <td>1</td>\n",
       "      <td>3</td>\n",
       "      <td>2</td>\n",
       "      <td>0</td>\n",
       "      <td>1581</td>\n",
       "      <td>1578</td>\n",
       "      <td>0</td>\n",
       "      <td>625</td>\n",
       "      <td>False</td>\n",
       "      <td>...</td>\n",
       "      <td>0</td>\n",
       "      <td>0</td>\n",
       "      <td>0</td>\n",
       "      <td>0</td>\n",
       "      <td>0</td>\n",
       "      <td>0</td>\n",
       "      <td>0</td>\n",
       "      <td>0</td>\n",
       "      <td>0</td>\n",
       "      <td>0</td>\n",
       "    </tr>\n",
       "    <tr>\n",
       "      <th>3</th>\n",
       "      <td>2004</td>\n",
       "      <td>1</td>\n",
       "      <td>4</td>\n",
       "      <td>2</td>\n",
       "      <td>0</td>\n",
       "      <td>1829</td>\n",
       "      <td>2277</td>\n",
       "      <td>479</td>\n",
       "      <td>0</td>\n",
       "      <td>True</td>\n",
       "      <td>...</td>\n",
       "      <td>0</td>\n",
       "      <td>0</td>\n",
       "      <td>0</td>\n",
       "      <td>0</td>\n",
       "      <td>0</td>\n",
       "      <td>0</td>\n",
       "      <td>0</td>\n",
       "      <td>0</td>\n",
       "      <td>0</td>\n",
       "      <td>0</td>\n",
       "    </tr>\n",
       "    <tr>\n",
       "      <th>4</th>\n",
       "      <td>2006</td>\n",
       "      <td>1</td>\n",
       "      <td>4</td>\n",
       "      <td>2</td>\n",
       "      <td>0</td>\n",
       "      <td>1580</td>\n",
       "      <td>1749</td>\n",
       "      <td>430</td>\n",
       "      <td>0</td>\n",
       "      <td>True</td>\n",
       "      <td>...</td>\n",
       "      <td>0</td>\n",
       "      <td>0</td>\n",
       "      <td>0</td>\n",
       "      <td>0</td>\n",
       "      <td>0</td>\n",
       "      <td>0</td>\n",
       "      <td>0</td>\n",
       "      <td>0</td>\n",
       "      <td>0</td>\n",
       "      <td>0</td>\n",
       "    </tr>\n",
       "  </tbody>\n",
       "</table>\n",
       "<p>5 rows × 69 columns</p>\n",
       "</div>"
      ],
      "text/plain": [
       "   year_built  stories  num_bedrooms  full_bathrooms  half_bathrooms  \\\n",
       "0        1978        1             4               1               1   \n",
       "1        1958        1             3               1               1   \n",
       "2        2002        1             3               2               0   \n",
       "3        2004        1             4               2               0   \n",
       "4        2006        1             4               2               0   \n",
       "\n",
       "   livable_sqft  total_sqft  garage_sqft  carport_sqft  has_fireplace  \\\n",
       "0          1689        1859          508             0           True   \n",
       "1          1984        2002          462             0           True   \n",
       "2          1581        1578            0           625          False   \n",
       "3          1829        2277          479             0           True   \n",
       "4          1580        1749          430             0           True   \n",
       "\n",
       "          ...          city_South Anthony  city_South Stevenfurt  \\\n",
       "0         ...                           0                      0   \n",
       "1         ...                           0                      0   \n",
       "2         ...                           0                      0   \n",
       "3         ...                           0                      0   \n",
       "4         ...                           0                      0   \n",
       "\n",
       "   city_Toddshire  city_Wendybury city_West Ann  city_West Brittanyview  \\\n",
       "0               0               0             0                       0   \n",
       "1               0               0             0                       0   \n",
       "2               0               0             0                       0   \n",
       "3               0               0             0                       0   \n",
       "4               0               0             0                       0   \n",
       "\n",
       "   city_West Gerald  city_West Gregoryview city_West Lydia  city_West Terrence  \n",
       "0                 0                      0               0                   0  \n",
       "1                 0                      0               0                   0  \n",
       "2                 0                      0               0                   0  \n",
       "3                 0                      0               0                   0  \n",
       "4                 0                      0               0                   0  \n",
       "\n",
       "[5 rows x 69 columns]"
      ]
     },
     "execution_count": 447,
     "metadata": {},
     "output_type": "execute_result"
    }
   ],
   "source": [
    "d.head()"
   ]
  },
  {
   "cell_type": "code",
   "execution_count": 448,
   "metadata": {},
   "outputs": [
    {
     "data": {
      "text/plain": [
       "zip_code\n",
       "10250    1931\n",
       "11295    1796\n",
       "11510    1616\n",
       "10748    1397\n",
       "11911    1359\n",
       "dtype: int64"
      ]
     },
     "execution_count": 448,
     "metadata": {},
     "output_type": "execute_result"
    }
   ],
   "source": [
    "data.groupby('zip_code').size().sort_values(ascending = False).head()"
   ]
  },
  {
   "cell_type": "code",
   "execution_count": 449,
   "metadata": {},
   "outputs": [
    {
     "data": {
      "text/plain": [
       "(has_pool\n",
       " False    6555\n",
       " True     1544\n",
       " dtype: int64, has_fireplace\n",
       " False    2387\n",
       " True     5712\n",
       " dtype: int64)"
      ]
     },
     "execution_count": 449,
     "metadata": {},
     "output_type": "execute_result"
    }
   ],
   "source": [
    "selected_zip_codes.groupby('has_pool').size(), selected_zip_codes.groupby('has_fireplace').size()"
   ]
  },
  {
   "cell_type": "code",
   "execution_count": 450,
   "metadata": {},
   "outputs": [
    {
     "data": {
      "text/plain": [
       "(has_central_heating\n",
       " False     122\n",
       " True     7977\n",
       " dtype: int64, has_central_cooling\n",
       " False     174\n",
       " True     7925\n",
       " dtype: int64)"
      ]
     },
     "execution_count": 450,
     "metadata": {},
     "output_type": "execute_result"
    }
   ],
   "source": [
    "selected_zip_codes.groupby('has_central_heating').size(),selected_zip_codes.groupby('has_central_cooling').size()"
   ]
  },
  {
   "cell_type": "code",
   "execution_count": 451,
   "metadata": {},
   "outputs": [
    {
     "data": {
      "text/plain": [
       "stories\n",
       "0       1\n",
       "1    4152\n",
       "2    3822\n",
       "3     123\n",
       "4       1\n",
       "dtype: int64"
      ]
     },
     "execution_count": 451,
     "metadata": {},
     "output_type": "execute_result"
    }
   ],
   "source": [
    "selected_zip_codes.groupby('stories').size()"
   ]
  },
  {
   "cell_type": "code",
   "execution_count": 452,
   "metadata": {},
   "outputs": [
    {
     "name": "stdout",
     "output_type": "stream",
     "text": [
      "<class 'pandas.core.frame.DataFrame'>\n",
      "Int64Index: 8099 entries, 24 to 42353\n",
      "Data columns (total 21 columns):\n",
      "year_built             8099 non-null int64\n",
      "stories                8099 non-null int64\n",
      "num_bedrooms           8099 non-null int64\n",
      "full_bathrooms         8099 non-null int64\n",
      "half_bathrooms         8099 non-null int64\n",
      "livable_sqft           8099 non-null int64\n",
      "total_sqft             8099 non-null int64\n",
      "garage_type            8099 non-null object\n",
      "garage_sqft            8099 non-null int64\n",
      "carport_sqft           8099 non-null int64\n",
      "has_fireplace          8099 non-null bool\n",
      "has_pool               8099 non-null bool\n",
      "has_central_heating    8099 non-null bool\n",
      "has_central_cooling    8099 non-null bool\n",
      "house_number           8099 non-null int64\n",
      "street_name            8099 non-null object\n",
      "unit_number            284 non-null float64\n",
      "city                   8099 non-null object\n",
      "zip_code               8099 non-null int64\n",
      "sale_price             8099 non-null float64\n",
      "Year_levels            8099 non-null category\n",
      "dtypes: bool(4), category(1), float64(2), int64(11), object(3)\n",
      "memory usage: 1.1+ MB\n"
     ]
    }
   ],
   "source": [
    "selected_zip_codes.info()"
   ]
  },
  {
   "cell_type": "code",
   "execution_count": 453,
   "metadata": {},
   "outputs": [
    {
     "data": {
      "text/plain": [
       "year_built                     2005\n",
       "stories                           1\n",
       "num_bedrooms                      2\n",
       "full_bathrooms                    2\n",
       "half_bathrooms                    0\n",
       "livable_sqft                   1563\n",
       "total_sqft                     1810\n",
       "garage_type                attached\n",
       "garage_sqft                     235\n",
       "carport_sqft                      0\n",
       "has_fireplace                  True\n",
       "has_pool                       True\n",
       "has_central_heating            True\n",
       "has_central_cooling            True\n",
       "house_number                     59\n",
       "street_name            Lewis Avenue\n",
       "unit_number                     NaN\n",
       "city                       West Ann\n",
       "zip_code                      10748\n",
       "sale_price                   377997\n",
       "Year_levels               2002-2018\n",
       "Name: 10408, dtype: object"
      ]
     },
     "execution_count": 453,
     "metadata": {},
     "output_type": "execute_result"
    }
   ],
   "source": [
    "selected_zip_codes.iloc[2090]"
   ]
  },
  {
   "cell_type": "code",
   "execution_count": 454,
   "metadata": {},
   "outputs": [
    {
     "data": {
      "text/html": [
       "<div>\n",
       "<style scoped>\n",
       "    .dataframe tbody tr th:only-of-type {\n",
       "        vertical-align: middle;\n",
       "    }\n",
       "\n",
       "    .dataframe tbody tr th {\n",
       "        vertical-align: top;\n",
       "    }\n",
       "\n",
       "    .dataframe thead th {\n",
       "        text-align: right;\n",
       "    }\n",
       "</style>\n",
       "<table border=\"1\" class=\"dataframe\">\n",
       "  <thead>\n",
       "    <tr style=\"text-align: right;\">\n",
       "      <th></th>\n",
       "      <th>year_built</th>\n",
       "      <th>stories</th>\n",
       "      <th>num_bedrooms</th>\n",
       "      <th>full_bathrooms</th>\n",
       "      <th>half_bathrooms</th>\n",
       "      <th>livable_sqft</th>\n",
       "      <th>total_sqft</th>\n",
       "      <th>garage_type</th>\n",
       "      <th>garage_sqft</th>\n",
       "      <th>carport_sqft</th>\n",
       "      <th>...</th>\n",
       "      <th>has_pool</th>\n",
       "      <th>has_central_heating</th>\n",
       "      <th>has_central_cooling</th>\n",
       "      <th>house_number</th>\n",
       "      <th>street_name</th>\n",
       "      <th>unit_number</th>\n",
       "      <th>city</th>\n",
       "      <th>zip_code</th>\n",
       "      <th>sale_price</th>\n",
       "      <th>Year_levels</th>\n",
       "    </tr>\n",
       "  </thead>\n",
       "  <tbody>\n",
       "    <tr>\n",
       "      <th>2089</th>\n",
       "      <td>1946</td>\n",
       "      <td>1</td>\n",
       "      <td>2</td>\n",
       "      <td>1</td>\n",
       "      <td>0</td>\n",
       "      <td>833</td>\n",
       "      <td>1304</td>\n",
       "      <td>detached</td>\n",
       "      <td>865</td>\n",
       "      <td>477</td>\n",
       "      <td>...</td>\n",
       "      <td>False</td>\n",
       "      <td>False</td>\n",
       "      <td>False</td>\n",
       "      <td>77143</td>\n",
       "      <td>Hoover Ports</td>\n",
       "      <td>NaN</td>\n",
       "      <td>East Lucas</td>\n",
       "      <td>11911</td>\n",
       "      <td>212313.0</td>\n",
       "      <td>1935-1950</td>\n",
       "    </tr>\n",
       "  </tbody>\n",
       "</table>\n",
       "<p>1 rows × 21 columns</p>\n",
       "</div>"
      ],
      "text/plain": [
       "      year_built  stories  num_bedrooms  full_bathrooms  half_bathrooms  \\\n",
       "2089        1946        1             2               1               0   \n",
       "\n",
       "      livable_sqft  total_sqft garage_type  garage_sqft  carport_sqft  \\\n",
       "2089           833        1304    detached          865           477   \n",
       "\n",
       "         ...       has_pool  has_central_heating  has_central_cooling  \\\n",
       "2089     ...          False                False                False   \n",
       "\n",
       "      house_number   street_name unit_number        city zip_code  sale_price  \\\n",
       "2089         77143  Hoover Ports         NaN  East Lucas    11911    212313.0   \n",
       "\n",
       "      Year_levels  \n",
       "2089    1935-1950  \n",
       "\n",
       "[1 rows x 21 columns]"
      ]
     },
     "execution_count": 454,
     "metadata": {},
     "output_type": "execute_result"
    }
   ],
   "source": [
    "selected_zip_codes[selected_zip_codes['sale_price']== 212313.0]"
   ]
  },
  {
   "cell_type": "code",
   "execution_count": 455,
   "metadata": {},
   "outputs": [
    {
     "data": {
      "text/plain": [
       "(8099, 21)"
      ]
     },
     "execution_count": 455,
     "metadata": {},
     "output_type": "execute_result"
    }
   ],
   "source": [
    "selected_zip_codes = data[data['zip_code'].isin ([10250,11295 ,11510,10748,11911])]\n",
    "selected_zip_codes.shape"
   ]
  },
  {
   "cell_type": "markdown",
   "metadata": {},
   "source": [
    "# BEST FIVE ZIPCODES"
   ]
  },
  {
   "cell_type": "code",
   "execution_count": 456,
   "metadata": {},
   "outputs": [
    {
     "data": {
      "text/html": [
       "<div>\n",
       "<style scoped>\n",
       "    .dataframe tbody tr th:only-of-type {\n",
       "        vertical-align: middle;\n",
       "    }\n",
       "\n",
       "    .dataframe tbody tr th {\n",
       "        vertical-align: top;\n",
       "    }\n",
       "\n",
       "    .dataframe thead th {\n",
       "        text-align: right;\n",
       "    }\n",
       "</style>\n",
       "<table border=\"1\" class=\"dataframe\">\n",
       "  <thead>\n",
       "    <tr style=\"text-align: right;\">\n",
       "      <th></th>\n",
       "      <th>year_built</th>\n",
       "      <th>stories</th>\n",
       "      <th>num_bedrooms</th>\n",
       "      <th>full_bathrooms</th>\n",
       "      <th>half_bathrooms</th>\n",
       "      <th>livable_sqft</th>\n",
       "      <th>total_sqft</th>\n",
       "      <th>garage_type</th>\n",
       "      <th>garage_sqft</th>\n",
       "      <th>carport_sqft</th>\n",
       "      <th>...</th>\n",
       "      <th>has_pool</th>\n",
       "      <th>has_central_heating</th>\n",
       "      <th>has_central_cooling</th>\n",
       "      <th>house_number</th>\n",
       "      <th>street_name</th>\n",
       "      <th>unit_number</th>\n",
       "      <th>city</th>\n",
       "      <th>zip_code</th>\n",
       "      <th>sale_price</th>\n",
       "      <th>Year_levels</th>\n",
       "    </tr>\n",
       "  </thead>\n",
       "  <tbody>\n",
       "    <tr>\n",
       "      <th>24</th>\n",
       "      <td>2007</td>\n",
       "      <td>1</td>\n",
       "      <td>2</td>\n",
       "      <td>2</td>\n",
       "      <td>0</td>\n",
       "      <td>1311</td>\n",
       "      <td>1694</td>\n",
       "      <td>detached</td>\n",
       "      <td>206</td>\n",
       "      <td>0</td>\n",
       "      <td>...</td>\n",
       "      <td>False</td>\n",
       "      <td>True</td>\n",
       "      <td>True</td>\n",
       "      <td>397</td>\n",
       "      <td>Cox Way</td>\n",
       "      <td>NaN</td>\n",
       "      <td>West Ann</td>\n",
       "      <td>10748</td>\n",
       "      <td>311217.0</td>\n",
       "      <td>2002-2018</td>\n",
       "    </tr>\n",
       "    <tr>\n",
       "      <th>25</th>\n",
       "      <td>2005</td>\n",
       "      <td>1</td>\n",
       "      <td>3</td>\n",
       "      <td>3</td>\n",
       "      <td>0</td>\n",
       "      <td>1703</td>\n",
       "      <td>2111</td>\n",
       "      <td>none</td>\n",
       "      <td>0</td>\n",
       "      <td>0</td>\n",
       "      <td>...</td>\n",
       "      <td>False</td>\n",
       "      <td>True</td>\n",
       "      <td>True</td>\n",
       "      <td>819</td>\n",
       "      <td>Chapman Crescent</td>\n",
       "      <td>NaN</td>\n",
       "      <td>West Ann</td>\n",
       "      <td>10748</td>\n",
       "      <td>434697.0</td>\n",
       "      <td>2002-2018</td>\n",
       "    </tr>\n",
       "    <tr>\n",
       "      <th>26</th>\n",
       "      <td>2000</td>\n",
       "      <td>2</td>\n",
       "      <td>2</td>\n",
       "      <td>3</td>\n",
       "      <td>0</td>\n",
       "      <td>1670</td>\n",
       "      <td>1830</td>\n",
       "      <td>none</td>\n",
       "      <td>0</td>\n",
       "      <td>0</td>\n",
       "      <td>...</td>\n",
       "      <td>False</td>\n",
       "      <td>True</td>\n",
       "      <td>True</td>\n",
       "      <td>313</td>\n",
       "      <td>Jacob Spring</td>\n",
       "      <td>NaN</td>\n",
       "      <td>West Ann</td>\n",
       "      <td>10748</td>\n",
       "      <td>1140298.0</td>\n",
       "      <td>1985-2001</td>\n",
       "    </tr>\n",
       "    <tr>\n",
       "      <th>28</th>\n",
       "      <td>2003</td>\n",
       "      <td>1</td>\n",
       "      <td>3</td>\n",
       "      <td>2</td>\n",
       "      <td>1</td>\n",
       "      <td>4078</td>\n",
       "      <td>5034</td>\n",
       "      <td>detached</td>\n",
       "      <td>925</td>\n",
       "      <td>0</td>\n",
       "      <td>...</td>\n",
       "      <td>True</td>\n",
       "      <td>True</td>\n",
       "      <td>True</td>\n",
       "      <td>967</td>\n",
       "      <td>Anthony Crest</td>\n",
       "      <td>NaN</td>\n",
       "      <td>West Ann</td>\n",
       "      <td>10748</td>\n",
       "      <td>1354501.0</td>\n",
       "      <td>2002-2018</td>\n",
       "    </tr>\n",
       "    <tr>\n",
       "      <th>29</th>\n",
       "      <td>1986</td>\n",
       "      <td>1</td>\n",
       "      <td>2</td>\n",
       "      <td>2</td>\n",
       "      <td>0</td>\n",
       "      <td>1390</td>\n",
       "      <td>1642</td>\n",
       "      <td>detached</td>\n",
       "      <td>466</td>\n",
       "      <td>0</td>\n",
       "      <td>...</td>\n",
       "      <td>False</td>\n",
       "      <td>True</td>\n",
       "      <td>True</td>\n",
       "      <td>155</td>\n",
       "      <td>Robin Passage</td>\n",
       "      <td>NaN</td>\n",
       "      <td>West Ann</td>\n",
       "      <td>10748</td>\n",
       "      <td>491401.0</td>\n",
       "      <td>1985-2001</td>\n",
       "    </tr>\n",
       "  </tbody>\n",
       "</table>\n",
       "<p>5 rows × 21 columns</p>\n",
       "</div>"
      ],
      "text/plain": [
       "    year_built  stories  num_bedrooms  full_bathrooms  half_bathrooms  \\\n",
       "24        2007        1             2               2               0   \n",
       "25        2005        1             3               3               0   \n",
       "26        2000        2             2               3               0   \n",
       "28        2003        1             3               2               1   \n",
       "29        1986        1             2               2               0   \n",
       "\n",
       "    livable_sqft  total_sqft garage_type  garage_sqft  carport_sqft  \\\n",
       "24          1311        1694    detached          206             0   \n",
       "25          1703        2111        none            0             0   \n",
       "26          1670        1830        none            0             0   \n",
       "28          4078        5034    detached          925             0   \n",
       "29          1390        1642    detached          466             0   \n",
       "\n",
       "       ...       has_pool  has_central_heating  has_central_cooling  \\\n",
       "24     ...          False                 True                 True   \n",
       "25     ...          False                 True                 True   \n",
       "26     ...          False                 True                 True   \n",
       "28     ...           True                 True                 True   \n",
       "29     ...          False                 True                 True   \n",
       "\n",
       "    house_number       street_name unit_number      city zip_code  sale_price  \\\n",
       "24           397           Cox Way         NaN  West Ann    10748    311217.0   \n",
       "25           819  Chapman Crescent         NaN  West Ann    10748    434697.0   \n",
       "26           313      Jacob Spring         NaN  West Ann    10748   1140298.0   \n",
       "28           967     Anthony Crest         NaN  West Ann    10748   1354501.0   \n",
       "29           155     Robin Passage         NaN  West Ann    10748    491401.0   \n",
       "\n",
       "    Year_levels  \n",
       "24    2002-2018  \n",
       "25    2002-2018  \n",
       "26    1985-2001  \n",
       "28    2002-2018  \n",
       "29    1985-2001  \n",
       "\n",
       "[5 rows x 21 columns]"
      ]
     },
     "execution_count": 456,
     "metadata": {},
     "output_type": "execute_result"
    }
   ],
   "source": [
    "selected_zip_codes.to_csv('best_five_zipcodes.csv')\n",
    "selected_zip_codes.head()"
   ]
  },
  {
   "cell_type": "code",
   "execution_count": 457,
   "metadata": {},
   "outputs": [],
   "source": [
    "#drop cols not needed\n",
    "d_new = d.drop(columns=['house_number','street_name','unit_number','Year_levels'])"
   ]
  },
  {
   "cell_type": "code",
   "execution_count": 458,
   "metadata": {},
   "outputs": [
    {
     "data": {
      "text/plain": [
       "(42703, 65)"
      ]
     },
     "execution_count": 458,
     "metadata": {},
     "output_type": "execute_result"
    }
   ],
   "source": [
    "d_new.shape"
   ]
  },
  {
   "cell_type": "code",
   "execution_count": 459,
   "metadata": {},
   "outputs": [],
   "source": [
    "one = d_new.loc[1]#gettting first row to try out the dot method(Patrick Idea)\n",
    "scores= d_new.dot(one)"
   ]
  },
  {
   "cell_type": "markdown",
   "metadata": {},
   "source": [
    "## THE ML MODEL"
   ]
  },
  {
   "cell_type": "code",
   "execution_count": 460,
   "metadata": {},
   "outputs": [],
   "source": [
    "#call the regresson function and save in variable called reg\n",
    "reg= LinearRegression()\n",
    "#create x and y arrays\n",
    "X = d_new.drop('sale_price',axis =1)\n",
    "Y = d_new['sale_price']"
   ]
  },
  {
   "cell_type": "code",
   "execution_count": 461,
   "metadata": {},
   "outputs": [
    {
     "data": {
      "text/plain": [
       "(array([ 270897.,  302404., 2519996., ...,   98280.,   98278.,  186480.]),\n",
       " array([[1978, 1, 4, ..., 0, 0, 0],\n",
       "        [1958, 1, 3, ..., 0, 0, 0],\n",
       "        [2002, 1, 3, ..., 0, 0, 0],\n",
       "        ...,\n",
       "        [1983, 1, 1, ..., 0, 0, 0],\n",
       "        [1981, 1, 3, ..., 0, 0, 0],\n",
       "        [1980, 1, 3, ..., 0, 0, 0]], dtype=object))"
      ]
     },
     "execution_count": 461,
     "metadata": {},
     "output_type": "execute_result"
    }
   ],
   "source": [
    "#create Arrays for x and y\n",
    "x = X.values\n",
    "y = Y.values\n",
    "y,x"
   ]
  },
  {
   "cell_type": "code",
   "execution_count": 462,
   "metadata": {},
   "outputs": [],
   "source": [
    "#split the data\n",
    "X_train, X_test, y_train, y_test = train_test_split(x,y, test_size =.2, random_state = 0)"
   ]
  },
  {
   "cell_type": "code",
   "execution_count": 463,
   "metadata": {},
   "outputs": [
    {
     "data": {
      "text/plain": [
       "LinearRegression(copy_X=True, fit_intercept=True, n_jobs=None,\n",
       "         normalize=False)"
      ]
     },
     "execution_count": 463,
     "metadata": {},
     "output_type": "execute_result"
    }
   ],
   "source": [
    "reg.fit(X_train,y_train)"
   ]
  },
  {
   "cell_type": "code",
   "execution_count": 464,
   "metadata": {},
   "outputs": [
    {
     "data": {
      "text/plain": [
       "0.4355109831821843"
      ]
     },
     "execution_count": 464,
     "metadata": {},
     "output_type": "execute_result"
    }
   ],
   "source": [
    "reg.score(X_test,y_test)"
   ]
  },
  {
   "cell_type": "code",
   "execution_count": 465,
   "metadata": {},
   "outputs": [
    {
     "name": "stdout",
     "output_type": "stream",
     "text": [
      "Training Set Mean Absolute Error: 47105.5453\n",
      "Test Set Mean Absolute Error: 57759.6316\n"
     ]
    }
   ],
   "source": [
    "# Save the trained model to a file so we can use it in other programs\n",
    "joblib.dump(reg, 'reg_all_model.pkl')\n",
    "\n",
    "# Find the error rate on the training set\n",
    "mse = mean_absolute_error(y_train, model.predict(X_train))\n",
    "print(\"Training Set Mean Absolute Error: %.4f\" % mse)\n",
    "\n",
    "# Find the error rate on the test set\n",
    "mse = mean_absolute_error(y_test, model.predict(X_test))\n",
    "print(\"Test Set Mean Absolute Error: %.4f\" % mse)"
   ]
  },
  {
   "cell_type": "markdown",
   "metadata": {},
   "source": [
    "## MY model pridiction is very low so i have to use gradient Boasting"
   ]
  },
  {
   "cell_type": "code",
   "execution_count": 466,
   "metadata": {},
   "outputs": [],
   "source": [
    "from sklearn import ensemble\n",
    "from sklearn.metrics import mean_absolute_error\n",
    "from sklearn.externals import joblib"
   ]
  },
  {
   "cell_type": "code",
   "execution_count": 467,
   "metadata": {},
   "outputs": [],
   "source": [
    "model2 = ensemble.GradientBoostingRegressor(\n",
    "    n_estimators=400,\n",
    "    learning_rate=0.1,\n",
    "    max_depth=5,\n",
    "    min_samples_leaf=2,\n",
    "    loss='ls'\n",
    ")"
   ]
  },
  {
   "cell_type": "code",
   "execution_count": 468,
   "metadata": {},
   "outputs": [],
   "source": [
    "model = ensemble.GradientBoostingRegressor(\n",
    "    n_estimators=1000,\n",
    "    learning_rate=0.1,\n",
    "    max_depth=6,\n",
    "    min_samples_leaf=9,\n",
    "    max_features=0.1,\n",
    "    loss='huber'\n",
    ")"
   ]
  },
  {
   "cell_type": "code",
   "execution_count": 469,
   "metadata": {},
   "outputs": [
    {
     "data": {
      "text/plain": [
       "GradientBoostingRegressor(alpha=0.9, criterion='friedman_mse', init=None,\n",
       "             learning_rate=0.1, loss='huber', max_depth=6,\n",
       "             max_features=0.1, max_leaf_nodes=None,\n",
       "             min_impurity_decrease=0.0, min_impurity_split=None,\n",
       "             min_samples_leaf=9, min_samples_split=2,\n",
       "             min_weight_fraction_leaf=0.0, n_estimators=1000,\n",
       "             n_iter_no_change=None, presort='auto', random_state=None,\n",
       "             subsample=1.0, tol=0.0001, validation_fraction=0.1, verbose=0,\n",
       "             warm_start=False)"
      ]
     },
     "execution_count": 469,
     "metadata": {},
     "output_type": "execute_result"
    }
   ],
   "source": [
    "model.fit(X_train, y_train)"
   ]
  },
  {
   "cell_type": "code",
   "execution_count": 470,
   "metadata": {},
   "outputs": [
    {
     "data": {
      "text/plain": [
       "GradientBoostingRegressor(alpha=0.9, criterion='friedman_mse', init=None,\n",
       "             learning_rate=0.1, loss='ls', max_depth=5, max_features=None,\n",
       "             max_leaf_nodes=None, min_impurity_decrease=0.0,\n",
       "             min_impurity_split=None, min_samples_leaf=2,\n",
       "             min_samples_split=2, min_weight_fraction_leaf=0.0,\n",
       "             n_estimators=400, n_iter_no_change=None, presort='auto',\n",
       "             random_state=None, subsample=1.0, tol=0.0001,\n",
       "             validation_fraction=0.1, verbose=0, warm_start=False)"
      ]
     },
     "execution_count": 470,
     "metadata": {},
     "output_type": "execute_result"
    }
   ],
   "source": [
    "model2.fit(X_train, y_train)"
   ]
  },
  {
   "cell_type": "code",
   "execution_count": 471,
   "metadata": {},
   "outputs": [
    {
     "data": {
      "text/plain": [
       "0.5490780822066466"
      ]
     },
     "execution_count": 471,
     "metadata": {},
     "output_type": "execute_result"
    }
   ],
   "source": [
    "model.score(X_test ,y_test)"
   ]
  },
  {
   "cell_type": "code",
   "execution_count": 472,
   "metadata": {},
   "outputs": [
    {
     "data": {
      "text/plain": [
       "0.5349354822837007"
      ]
     },
     "execution_count": 472,
     "metadata": {},
     "output_type": "execute_result"
    }
   ],
   "source": [
    "model2.score(X_test ,y_test)"
   ]
  },
  {
   "cell_type": "code",
   "execution_count": 473,
   "metadata": {},
   "outputs": [
    {
     "name": "stdout",
     "output_type": "stream",
     "text": [
      "Training Set Mean Absolute Error: 47426.7932\n",
      "Test Set Mean Absolute Error: 57373.4148\n"
     ]
    }
   ],
   "source": [
    "# Save the trained model to a file so we can use it in other programs\n",
    "joblib.dump(model, 'trained_house_classifier_model.pkl')\n",
    "\n",
    "# Find the error rate on the training set\n",
    "mse = mean_absolute_error(y_train, model.predict(X_train))\n",
    "print(\"Training Set Mean Absolute Error: %.4f\" % mse)\n",
    "\n",
    "# Find the error rate on the test set\n",
    "mse = mean_absolute_error(y_test, model.predict(X_test))\n",
    "print(\"Test Set Mean Absolute Error: %.4f\" % mse)"
   ]
  },
  {
   "cell_type": "code",
   "execution_count": 474,
   "metadata": {},
   "outputs": [
    {
     "data": {
      "text/html": [
       "<div>\n",
       "<style scoped>\n",
       "    .dataframe tbody tr th:only-of-type {\n",
       "        vertical-align: middle;\n",
       "    }\n",
       "\n",
       "    .dataframe tbody tr th {\n",
       "        vertical-align: top;\n",
       "    }\n",
       "\n",
       "    .dataframe thead th {\n",
       "        text-align: right;\n",
       "    }\n",
       "</style>\n",
       "<table border=\"1\" class=\"dataframe\">\n",
       "  <thead>\n",
       "    <tr style=\"text-align: right;\">\n",
       "      <th></th>\n",
       "      <th>year_built</th>\n",
       "      <th>stories</th>\n",
       "      <th>num_bedrooms</th>\n",
       "      <th>full_bathrooms</th>\n",
       "      <th>half_bathrooms</th>\n",
       "      <th>livable_sqft</th>\n",
       "      <th>total_sqft</th>\n",
       "      <th>garage_type</th>\n",
       "      <th>garage_sqft</th>\n",
       "      <th>carport_sqft</th>\n",
       "      <th>...</th>\n",
       "      <th>has_pool</th>\n",
       "      <th>has_central_heating</th>\n",
       "      <th>has_central_cooling</th>\n",
       "      <th>house_number</th>\n",
       "      <th>street_name</th>\n",
       "      <th>unit_number</th>\n",
       "      <th>city</th>\n",
       "      <th>zip_code</th>\n",
       "      <th>sale_price</th>\n",
       "      <th>Year_levels</th>\n",
       "    </tr>\n",
       "  </thead>\n",
       "  <tbody>\n",
       "    <tr>\n",
       "      <th>24</th>\n",
       "      <td>2007</td>\n",
       "      <td>1</td>\n",
       "      <td>2</td>\n",
       "      <td>2</td>\n",
       "      <td>0</td>\n",
       "      <td>1311</td>\n",
       "      <td>1694</td>\n",
       "      <td>detached</td>\n",
       "      <td>206</td>\n",
       "      <td>0</td>\n",
       "      <td>...</td>\n",
       "      <td>False</td>\n",
       "      <td>True</td>\n",
       "      <td>True</td>\n",
       "      <td>397</td>\n",
       "      <td>Cox Way</td>\n",
       "      <td>NaN</td>\n",
       "      <td>West Ann</td>\n",
       "      <td>10748</td>\n",
       "      <td>311217.0</td>\n",
       "      <td>2002-2018</td>\n",
       "    </tr>\n",
       "  </tbody>\n",
       "</table>\n",
       "<p>1 rows × 21 columns</p>\n",
       "</div>"
      ],
      "text/plain": [
       "    year_built  stories  num_bedrooms  full_bathrooms  half_bathrooms  \\\n",
       "24        2007        1             2               2               0   \n",
       "\n",
       "    livable_sqft  total_sqft garage_type  garage_sqft  carport_sqft  \\\n",
       "24          1311        1694    detached          206             0   \n",
       "\n",
       "       ...       has_pool  has_central_heating  has_central_cooling  \\\n",
       "24     ...          False                 True                 True   \n",
       "\n",
       "    house_number  street_name unit_number      city zip_code  sale_price  \\\n",
       "24           397      Cox Way         NaN  West Ann    10748    311217.0   \n",
       "\n",
       "    Year_levels  \n",
       "24    2002-2018  \n",
       "\n",
       "[1 rows x 21 columns]"
      ]
     },
     "execution_count": 474,
     "metadata": {},
     "output_type": "execute_result"
    }
   ],
   "source": [
    "selected_zip_codes.head(1)"
   ]
  },
  {
   "cell_type": "code",
   "execution_count": 475,
   "metadata": {},
   "outputs": [
    {
     "data": {
      "text/plain": [
       "array([[2007, 1, 2, 2, 0, 1311, 1694, 'detached', 206, 0, True, False,\n",
       "        True, True, 397, 'Cox Way', nan, 'West Ann', 10748, 311217.0,\n",
       "        '2002-2018']], dtype=object)"
      ]
     },
     "execution_count": 475,
     "metadata": {},
     "output_type": "execute_result"
    }
   ],
   "source": [
    "selected_zip_codes.head(1).values"
   ]
  },
  {
   "cell_type": "markdown",
   "metadata": {},
   "source": [
    "# KNN  Nearest Neighbor"
   ]
  },
  {
   "cell_type": "code",
   "execution_count": 476,
   "metadata": {},
   "outputs": [],
   "source": [
    "import warnings\n",
    "warnings.filterwarnings('ignore') # To ignore some of seaborn warning msg\n",
    "\n",
    "from scipy import stats\n",
    "\n",
    "from sklearn import linear_model # Scikit learn library that implements generalized linear models\n",
    "from sklearn import neighbors # provides functionality for unsupervised and supervised neighbors-based learning methods\n",
    "from sklearn.metrics import mean_squared_error # Mean squared error regression loss\n",
    "from sklearn import preprocessing # provides functions and classes to change raw feature vectors\n",
    "\n",
    "from math import log"
   ]
  },
  {
   "cell_type": "code",
   "execution_count": 477,
   "metadata": {},
   "outputs": [
    {
     "name": "stdout",
     "output_type": "stream",
     "text": [
      "test error (RMSE) is: 280955.7038757917\n"
     ]
    }
   ],
   "source": [
    "knn = neighbors.KNeighborsRegressor(n_neighbors=10, weights='distance') # initialize the model\n",
    "knn.fit(X_train, y_train )# fit the train data\n",
    "print ('test error (RMSE) is: %s' %mean_squared_error(y_test, \n",
    "                                                      knn.predict(X_test))**0.5) # predict price and test error"
   ]
  },
  {
   "cell_type": "code",
   "execution_count": 478,
   "metadata": {},
   "outputs": [
    {
     "data": {
      "text/plain": [
       "<bound method RegressorMixin.score of KNeighborsRegressor(algorithm='auto', leaf_size=30, metric='minkowski',\n",
       "          metric_params=None, n_jobs=None, n_neighbors=10, p=2,\n",
       "          weights='distance')>"
      ]
     },
     "execution_count": 478,
     "metadata": {},
     "output_type": "execute_result"
    }
   ],
   "source": [
    "knn.score"
   ]
  },
  {
   "cell_type": "code",
   "execution_count": 479,
   "metadata": {},
   "outputs": [
    {
     "data": {
      "text/plain": [
       "0.4621985498761814"
      ]
     },
     "execution_count": 479,
     "metadata": {},
     "output_type": "execute_result"
    }
   ],
   "source": [
    "knn.score(X_test,y_test)"
   ]
  },
  {
   "cell_type": "code",
   "execution_count": null,
   "metadata": {},
   "outputs": [],
   "source": []
  }
 ],
 "metadata": {
  "kernelspec": {
   "display_name": "Python 3",
   "language": "python",
   "name": "python3"
  },
  "language_info": {
   "codemirror_mode": {
    "name": "ipython",
    "version": 3
   },
   "file_extension": ".py",
   "mimetype": "text/x-python",
   "name": "python",
   "nbconvert_exporter": "python",
   "pygments_lexer": "ipython3",
   "version": "3.7.1"
  }
 },
 "nbformat": 4,
 "nbformat_minor": 2
}
