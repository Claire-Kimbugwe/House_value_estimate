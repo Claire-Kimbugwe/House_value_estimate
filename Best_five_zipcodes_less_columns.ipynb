{
 "cells": [
  {
   "cell_type": "code",
   "execution_count": 246,
   "metadata": {},
   "outputs": [],
   "source": [
    "#Removed colums"
   ]
  },
  {
   "cell_type": "code",
   "execution_count": 247,
   "metadata": {},
   "outputs": [],
   "source": [
    "import pandas as pd\n",
    "import numpy as np\n",
    "from pandas import Series, DataFrame\n",
    "\n",
    "from datetime import datetime\n",
    "import statistics as stat\n",
    "from scipy.stats.stats import pearsonr\n",
    "\n",
    "import seaborn as sb\n",
    "import matplotlib.pyplot as plt\n",
    "from matplotlib import rcParams\n",
    "\n",
    "from sklearn.linear_model import LinearRegression\n",
    "from sklearn.model_selection import train_test_split\n",
    "%matplotlib inline\n",
    "\n",
    "rcParams['figure.figsize'] = 6, 4\n",
    "sb.set_style('whitegrid')\n"
   ]
  },
  {
   "cell_type": "code",
   "execution_count": 248,
   "metadata": {},
   "outputs": [],
   "source": [
    "data = pd.read_csv('best_five_zipcodes.csv')"
   ]
  },
  {
   "cell_type": "markdown",
   "metadata": {},
   "source": [
    "## Initial data exploration"
   ]
  },
  {
   "cell_type": "code",
   "execution_count": 249,
   "metadata": {},
   "outputs": [
    {
     "data": {
      "text/plain": [
       "Index(['Unnamed: 0', 'year_built', 'stories', 'num_bedrooms', 'full_bathrooms',\n",
       "       'half_bathrooms', 'livable_sqft', 'total_sqft', 'garage_type',\n",
       "       'garage_sqft', 'has_pool', 'city', 'zip_code', 'sale_price',\n",
       "       'Year_levels'],\n",
       "      dtype='object')"
      ]
     },
     "execution_count": 249,
     "metadata": {},
     "output_type": "execute_result"
    }
   ],
   "source": [
    "data.columns"
   ]
  },
  {
   "cell_type": "code",
   "execution_count": 250,
   "metadata": {},
   "outputs": [
    {
     "data": {
      "text/html": [
       "<div>\n",
       "<style scoped>\n",
       "    .dataframe tbody tr th:only-of-type {\n",
       "        vertical-align: middle;\n",
       "    }\n",
       "\n",
       "    .dataframe tbody tr th {\n",
       "        vertical-align: top;\n",
       "    }\n",
       "\n",
       "    .dataframe thead th {\n",
       "        text-align: right;\n",
       "    }\n",
       "</style>\n",
       "<table border=\"1\" class=\"dataframe\">\n",
       "  <thead>\n",
       "    <tr style=\"text-align: right;\">\n",
       "      <th></th>\n",
       "      <th>Unnamed: 0</th>\n",
       "      <th>year_built</th>\n",
       "      <th>stories</th>\n",
       "      <th>num_bedrooms</th>\n",
       "      <th>full_bathrooms</th>\n",
       "      <th>half_bathrooms</th>\n",
       "      <th>livable_sqft</th>\n",
       "      <th>total_sqft</th>\n",
       "      <th>garage_sqft</th>\n",
       "      <th>zip_code</th>\n",
       "      <th>sale_price</th>\n",
       "    </tr>\n",
       "  </thead>\n",
       "  <tbody>\n",
       "    <tr>\n",
       "      <th>count</th>\n",
       "      <td>8099.000000</td>\n",
       "      <td>8099.000000</td>\n",
       "      <td>8099.000000</td>\n",
       "      <td>8099.000000</td>\n",
       "      <td>8099.000000</td>\n",
       "      <td>8099.000000</td>\n",
       "      <td>8099.000000</td>\n",
       "      <td>8099.000000</td>\n",
       "      <td>8099.000000</td>\n",
       "      <td>8099.000000</td>\n",
       "      <td>8.099000e+03</td>\n",
       "    </tr>\n",
       "    <tr>\n",
       "      <th>mean</th>\n",
       "      <td>4049.000000</td>\n",
       "      <td>2000.751698</td>\n",
       "      <td>1.502531</td>\n",
       "      <td>3.448821</td>\n",
       "      <td>2.195209</td>\n",
       "      <td>0.525003</td>\n",
       "      <td>2288.066058</td>\n",
       "      <td>2418.102852</td>\n",
       "      <td>526.712434</td>\n",
       "      <td>11097.757131</td>\n",
       "      <td>4.863520e+05</td>\n",
       "    </tr>\n",
       "    <tr>\n",
       "      <th>std</th>\n",
       "      <td>2338.124248</td>\n",
       "      <td>12.607344</td>\n",
       "      <td>0.530462</td>\n",
       "      <td>0.998612</td>\n",
       "      <td>0.686494</td>\n",
       "      <td>0.499405</td>\n",
       "      <td>845.970620</td>\n",
       "      <td>939.084904</td>\n",
       "      <td>203.546001</td>\n",
       "      <td>588.225833</td>\n",
       "      <td>3.270866e+05</td>\n",
       "    </tr>\n",
       "    <tr>\n",
       "      <th>min</th>\n",
       "      <td>0.000000</td>\n",
       "      <td>1906.000000</td>\n",
       "      <td>0.000000</td>\n",
       "      <td>1.000000</td>\n",
       "      <td>0.000000</td>\n",
       "      <td>0.000000</td>\n",
       "      <td>-2.000000</td>\n",
       "      <td>6.000000</td>\n",
       "      <td>-4.000000</td>\n",
       "      <td>10250.000000</td>\n",
       "      <td>1.264000e+03</td>\n",
       "    </tr>\n",
       "    <tr>\n",
       "      <th>25%</th>\n",
       "      <td>2024.500000</td>\n",
       "      <td>1994.000000</td>\n",
       "      <td>1.000000</td>\n",
       "      <td>3.000000</td>\n",
       "      <td>2.000000</td>\n",
       "      <td>0.000000</td>\n",
       "      <td>1648.000000</td>\n",
       "      <td>1733.000000</td>\n",
       "      <td>434.000000</td>\n",
       "      <td>10748.000000</td>\n",
       "      <td>3.528000e+05</td>\n",
       "    </tr>\n",
       "    <tr>\n",
       "      <th>50%</th>\n",
       "      <td>4049.000000</td>\n",
       "      <td>2003.000000</td>\n",
       "      <td>1.000000</td>\n",
       "      <td>3.000000</td>\n",
       "      <td>2.000000</td>\n",
       "      <td>1.000000</td>\n",
       "      <td>2149.000000</td>\n",
       "      <td>2271.000000</td>\n",
       "      <td>500.000000</td>\n",
       "      <td>11295.000000</td>\n",
       "      <td>4.284010e+05</td>\n",
       "    </tr>\n",
       "    <tr>\n",
       "      <th>75%</th>\n",
       "      <td>6073.500000</td>\n",
       "      <td>2009.000000</td>\n",
       "      <td>2.000000</td>\n",
       "      <td>4.000000</td>\n",
       "      <td>2.000000</td>\n",
       "      <td>1.000000</td>\n",
       "      <td>2812.000000</td>\n",
       "      <td>2956.000000</td>\n",
       "      <td>632.000000</td>\n",
       "      <td>11510.000000</td>\n",
       "      <td>5.165970e+05</td>\n",
       "    </tr>\n",
       "    <tr>\n",
       "      <th>max</th>\n",
       "      <td>8098.000000</td>\n",
       "      <td>2017.000000</td>\n",
       "      <td>4.000000</td>\n",
       "      <td>11.000000</td>\n",
       "      <td>8.000000</td>\n",
       "      <td>1.000000</td>\n",
       "      <td>9101.000000</td>\n",
       "      <td>11302.000000</td>\n",
       "      <td>4512.000000</td>\n",
       "      <td>11911.000000</td>\n",
       "      <td>5.670002e+06</td>\n",
       "    </tr>\n",
       "  </tbody>\n",
       "</table>\n",
       "</div>"
      ],
      "text/plain": [
       "        Unnamed: 0   year_built      stories  num_bedrooms  full_bathrooms  \\\n",
       "count  8099.000000  8099.000000  8099.000000   8099.000000     8099.000000   \n",
       "mean   4049.000000  2000.751698     1.502531      3.448821        2.195209   \n",
       "std    2338.124248    12.607344     0.530462      0.998612        0.686494   \n",
       "min       0.000000  1906.000000     0.000000      1.000000        0.000000   \n",
       "25%    2024.500000  1994.000000     1.000000      3.000000        2.000000   \n",
       "50%    4049.000000  2003.000000     1.000000      3.000000        2.000000   \n",
       "75%    6073.500000  2009.000000     2.000000      4.000000        2.000000   \n",
       "max    8098.000000  2017.000000     4.000000     11.000000        8.000000   \n",
       "\n",
       "       half_bathrooms  livable_sqft    total_sqft  garage_sqft      zip_code  \\\n",
       "count     8099.000000   8099.000000   8099.000000  8099.000000   8099.000000   \n",
       "mean         0.525003   2288.066058   2418.102852   526.712434  11097.757131   \n",
       "std          0.499405    845.970620    939.084904   203.546001    588.225833   \n",
       "min          0.000000     -2.000000      6.000000    -4.000000  10250.000000   \n",
       "25%          0.000000   1648.000000   1733.000000   434.000000  10748.000000   \n",
       "50%          1.000000   2149.000000   2271.000000   500.000000  11295.000000   \n",
       "75%          1.000000   2812.000000   2956.000000   632.000000  11510.000000   \n",
       "max          1.000000   9101.000000  11302.000000  4512.000000  11911.000000   \n",
       "\n",
       "         sale_price  \n",
       "count  8.099000e+03  \n",
       "mean   4.863520e+05  \n",
       "std    3.270866e+05  \n",
       "min    1.264000e+03  \n",
       "25%    3.528000e+05  \n",
       "50%    4.284010e+05  \n",
       "75%    5.165970e+05  \n",
       "max    5.670002e+06  "
      ]
     },
     "execution_count": 250,
     "metadata": {},
     "output_type": "execute_result"
    }
   ],
   "source": [
    "data.describe()"
   ]
  },
  {
   "cell_type": "code",
   "execution_count": 251,
   "metadata": {},
   "outputs": [
    {
     "name": "stdout",
     "output_type": "stream",
     "text": [
      "<class 'pandas.core.frame.DataFrame'>\n",
      "RangeIndex: 8099 entries, 0 to 8098\n",
      "Data columns (total 15 columns):\n",
      "Unnamed: 0        8099 non-null int64\n",
      "year_built        8099 non-null int64\n",
      "stories           8099 non-null int64\n",
      "num_bedrooms      8099 non-null int64\n",
      "full_bathrooms    8099 non-null int64\n",
      "half_bathrooms    8099 non-null int64\n",
      "livable_sqft      8099 non-null int64\n",
      "total_sqft        8099 non-null int64\n",
      "garage_type       8099 non-null object\n",
      "garage_sqft       8099 non-null int64\n",
      "has_pool          8099 non-null bool\n",
      "city              8099 non-null object\n",
      "zip_code          8099 non-null int64\n",
      "sale_price        8099 non-null float64\n",
      "Year_levels       8099 non-null object\n",
      "dtypes: bool(1), float64(1), int64(10), object(3)\n",
      "memory usage: 893.8+ KB\n"
     ]
    }
   ],
   "source": [
    "data.info()"
   ]
  },
  {
   "cell_type": "code",
   "execution_count": 252,
   "metadata": {},
   "outputs": [
    {
     "data": {
      "text/plain": [
       "Index(['Unnamed: 0', 'year_built', 'stories', 'num_bedrooms', 'full_bathrooms',\n",
       "       'half_bathrooms', 'livable_sqft', 'total_sqft', 'garage_type',\n",
       "       'garage_sqft', 'has_pool', 'city', 'zip_code', 'sale_price',\n",
       "       'Year_levels'],\n",
       "      dtype='object')"
      ]
     },
     "execution_count": 252,
     "metadata": {},
     "output_type": "execute_result"
    }
   ],
   "source": [
    "data.columns"
   ]
  },
  {
   "cell_type": "code",
   "execution_count": 253,
   "metadata": {},
   "outputs": [
    {
     "ename": "KeyError",
     "evalue": "\"['carport_sqft' 'has_fireplace' 'has_central_heating'\\n 'has_central_cooling' 'house_number' 'street_name' 'unit_number'] not found in axis\"",
     "output_type": "error",
     "traceback": [
      "\u001b[0;31m---------------------------------------------------------------------------\u001b[0m",
      "\u001b[0;31mKeyError\u001b[0m                                  Traceback (most recent call last)",
      "\u001b[0;32m<ipython-input-253-e5ab2e841c3d>\u001b[0m in \u001b[0;36m<module>\u001b[0;34m\u001b[0m\n\u001b[1;32m      2\u001b[0m data = data.drop(columns =['Unnamed: 0', 'carport_sqft', 'has_fireplace',\n\u001b[1;32m      3\u001b[0m                   \u001b[0;34m'has_central_heating'\u001b[0m\u001b[0;34m,\u001b[0m \u001b[0;34m'has_central_cooling'\u001b[0m\u001b[0;34m,\u001b[0m\u001b[0;34m\u001b[0m\u001b[0;34m\u001b[0m\u001b[0m\n\u001b[0;32m----> 4\u001b[0;31m        'house_number', 'street_name', 'unit_number', 'Year_levels'])\n\u001b[0m",
      "\u001b[0;32m~/anaconda3/lib/python3.7/site-packages/pandas/core/frame.py\u001b[0m in \u001b[0;36mdrop\u001b[0;34m(self, labels, axis, index, columns, level, inplace, errors)\u001b[0m\n\u001b[1;32m   3695\u001b[0m                                            \u001b[0mindex\u001b[0m\u001b[0;34m=\u001b[0m\u001b[0mindex\u001b[0m\u001b[0;34m,\u001b[0m \u001b[0mcolumns\u001b[0m\u001b[0;34m=\u001b[0m\u001b[0mcolumns\u001b[0m\u001b[0;34m,\u001b[0m\u001b[0;34m\u001b[0m\u001b[0;34m\u001b[0m\u001b[0m\n\u001b[1;32m   3696\u001b[0m                                            \u001b[0mlevel\u001b[0m\u001b[0;34m=\u001b[0m\u001b[0mlevel\u001b[0m\u001b[0;34m,\u001b[0m \u001b[0minplace\u001b[0m\u001b[0;34m=\u001b[0m\u001b[0minplace\u001b[0m\u001b[0;34m,\u001b[0m\u001b[0;34m\u001b[0m\u001b[0;34m\u001b[0m\u001b[0m\n\u001b[0;32m-> 3697\u001b[0;31m                                            errors=errors)\n\u001b[0m\u001b[1;32m   3698\u001b[0m \u001b[0;34m\u001b[0m\u001b[0m\n\u001b[1;32m   3699\u001b[0m     @rewrite_axis_style_signature('mapper', [('copy', True),\n",
      "\u001b[0;32m~/anaconda3/lib/python3.7/site-packages/pandas/core/generic.py\u001b[0m in \u001b[0;36mdrop\u001b[0;34m(self, labels, axis, index, columns, level, inplace, errors)\u001b[0m\n\u001b[1;32m   3109\u001b[0m         \u001b[0;32mfor\u001b[0m \u001b[0maxis\u001b[0m\u001b[0;34m,\u001b[0m \u001b[0mlabels\u001b[0m \u001b[0;32min\u001b[0m \u001b[0maxes\u001b[0m\u001b[0;34m.\u001b[0m\u001b[0mitems\u001b[0m\u001b[0;34m(\u001b[0m\u001b[0;34m)\u001b[0m\u001b[0;34m:\u001b[0m\u001b[0;34m\u001b[0m\u001b[0;34m\u001b[0m\u001b[0m\n\u001b[1;32m   3110\u001b[0m             \u001b[0;32mif\u001b[0m \u001b[0mlabels\u001b[0m \u001b[0;32mis\u001b[0m \u001b[0;32mnot\u001b[0m \u001b[0;32mNone\u001b[0m\u001b[0;34m:\u001b[0m\u001b[0;34m\u001b[0m\u001b[0;34m\u001b[0m\u001b[0m\n\u001b[0;32m-> 3111\u001b[0;31m                 \u001b[0mobj\u001b[0m \u001b[0;34m=\u001b[0m \u001b[0mobj\u001b[0m\u001b[0;34m.\u001b[0m\u001b[0m_drop_axis\u001b[0m\u001b[0;34m(\u001b[0m\u001b[0mlabels\u001b[0m\u001b[0;34m,\u001b[0m \u001b[0maxis\u001b[0m\u001b[0;34m,\u001b[0m \u001b[0mlevel\u001b[0m\u001b[0;34m=\u001b[0m\u001b[0mlevel\u001b[0m\u001b[0;34m,\u001b[0m \u001b[0merrors\u001b[0m\u001b[0;34m=\u001b[0m\u001b[0merrors\u001b[0m\u001b[0;34m)\u001b[0m\u001b[0;34m\u001b[0m\u001b[0;34m\u001b[0m\u001b[0m\n\u001b[0m\u001b[1;32m   3112\u001b[0m \u001b[0;34m\u001b[0m\u001b[0m\n\u001b[1;32m   3113\u001b[0m         \u001b[0;32mif\u001b[0m \u001b[0minplace\u001b[0m\u001b[0;34m:\u001b[0m\u001b[0;34m\u001b[0m\u001b[0;34m\u001b[0m\u001b[0m\n",
      "\u001b[0;32m~/anaconda3/lib/python3.7/site-packages/pandas/core/generic.py\u001b[0m in \u001b[0;36m_drop_axis\u001b[0;34m(self, labels, axis, level, errors)\u001b[0m\n\u001b[1;32m   3141\u001b[0m                 \u001b[0mnew_axis\u001b[0m \u001b[0;34m=\u001b[0m \u001b[0maxis\u001b[0m\u001b[0;34m.\u001b[0m\u001b[0mdrop\u001b[0m\u001b[0;34m(\u001b[0m\u001b[0mlabels\u001b[0m\u001b[0;34m,\u001b[0m \u001b[0mlevel\u001b[0m\u001b[0;34m=\u001b[0m\u001b[0mlevel\u001b[0m\u001b[0;34m,\u001b[0m \u001b[0merrors\u001b[0m\u001b[0;34m=\u001b[0m\u001b[0merrors\u001b[0m\u001b[0;34m)\u001b[0m\u001b[0;34m\u001b[0m\u001b[0;34m\u001b[0m\u001b[0m\n\u001b[1;32m   3142\u001b[0m             \u001b[0;32melse\u001b[0m\u001b[0;34m:\u001b[0m\u001b[0;34m\u001b[0m\u001b[0;34m\u001b[0m\u001b[0m\n\u001b[0;32m-> 3143\u001b[0;31m                 \u001b[0mnew_axis\u001b[0m \u001b[0;34m=\u001b[0m \u001b[0maxis\u001b[0m\u001b[0;34m.\u001b[0m\u001b[0mdrop\u001b[0m\u001b[0;34m(\u001b[0m\u001b[0mlabels\u001b[0m\u001b[0;34m,\u001b[0m \u001b[0merrors\u001b[0m\u001b[0;34m=\u001b[0m\u001b[0merrors\u001b[0m\u001b[0;34m)\u001b[0m\u001b[0;34m\u001b[0m\u001b[0;34m\u001b[0m\u001b[0m\n\u001b[0m\u001b[1;32m   3144\u001b[0m             \u001b[0mresult\u001b[0m \u001b[0;34m=\u001b[0m \u001b[0mself\u001b[0m\u001b[0;34m.\u001b[0m\u001b[0mreindex\u001b[0m\u001b[0;34m(\u001b[0m\u001b[0;34m**\u001b[0m\u001b[0;34m{\u001b[0m\u001b[0maxis_name\u001b[0m\u001b[0;34m:\u001b[0m \u001b[0mnew_axis\u001b[0m\u001b[0;34m}\u001b[0m\u001b[0;34m)\u001b[0m\u001b[0;34m\u001b[0m\u001b[0;34m\u001b[0m\u001b[0m\n\u001b[1;32m   3145\u001b[0m \u001b[0;34m\u001b[0m\u001b[0m\n",
      "\u001b[0;32m~/anaconda3/lib/python3.7/site-packages/pandas/core/indexes/base.py\u001b[0m in \u001b[0;36mdrop\u001b[0;34m(self, labels, errors)\u001b[0m\n\u001b[1;32m   4402\u001b[0m             \u001b[0;32mif\u001b[0m \u001b[0merrors\u001b[0m \u001b[0;34m!=\u001b[0m \u001b[0;34m'ignore'\u001b[0m\u001b[0;34m:\u001b[0m\u001b[0;34m\u001b[0m\u001b[0;34m\u001b[0m\u001b[0m\n\u001b[1;32m   4403\u001b[0m                 raise KeyError(\n\u001b[0;32m-> 4404\u001b[0;31m                     '{} not found in axis'.format(labels[mask]))\n\u001b[0m\u001b[1;32m   4405\u001b[0m             \u001b[0mindexer\u001b[0m \u001b[0;34m=\u001b[0m \u001b[0mindexer\u001b[0m\u001b[0;34m[\u001b[0m\u001b[0;34m~\u001b[0m\u001b[0mmask\u001b[0m\u001b[0;34m]\u001b[0m\u001b[0;34m\u001b[0m\u001b[0;34m\u001b[0m\u001b[0m\n\u001b[1;32m   4406\u001b[0m         \u001b[0;32mreturn\u001b[0m \u001b[0mself\u001b[0m\u001b[0;34m.\u001b[0m\u001b[0mdelete\u001b[0m\u001b[0;34m(\u001b[0m\u001b[0mindexer\u001b[0m\u001b[0;34m)\u001b[0m\u001b[0;34m\u001b[0m\u001b[0;34m\u001b[0m\u001b[0m\n",
      "\u001b[0;31mKeyError\u001b[0m: \"['carport_sqft' 'has_fireplace' 'has_central_heating'\\n 'has_central_cooling' 'house_number' 'street_name' 'unit_number'] not found in axis\""
     ]
    }
   ],
   "source": [
    "#drop columns\n",
    "data = data.drop(columns =['Unnamed: 0', 'carport_sqft', 'has_fireplace',\n",
    "                  'has_central_heating', 'has_central_cooling',\n",
    "       'house_number', 'street_name', 'unit_number', 'Year_levels'])"
   ]
  },
  {
   "cell_type": "code",
   "execution_count": null,
   "metadata": {},
   "outputs": [],
   "source": [
    "data.head()"
   ]
  },
  {
   "cell_type": "code",
   "execution_count": null,
   "metadata": {},
   "outputs": [],
   "source": []
  },
  {
   "cell_type": "markdown",
   "metadata": {},
   "source": [
    "## Number of houses built over time binned into categorical valuables"
   ]
  },
  {
   "cell_type": "code",
   "execution_count": null,
   "metadata": {},
   "outputs": [],
   "source": [
    "bins = np.linspace(1850,2018, num =11)  #create bins => np.linspace(min,max,numberOfBins)\n",
    "data[\"Year_levels\"] = pd.cut(data['year_built'],bins,labels= ['1850- 1866','1867-1883','1884-1900','1901-1917','1918-1934',\n",
    "                                                              '1935-1950','1951-1967','1968-1984','1985-2001','2002-2018'])#divide dataset\n",
    "data.groupby(\"Year_levels\").size(), bins #show bin sises and bins"
   ]
  },
  {
   "cell_type": "code",
   "execution_count": null,
   "metadata": {},
   "outputs": [],
   "source": [
    "sb.catplot('Year_levels', order=['1850- 1866','1867-1883','1884-1900','1901-1917','1918-1934',\n",
    "                            '1935-1950','1951-1967','1968-1984','1985-2001','2002-2018'], data= data, kind='count',\n",
    "          height = 4, aspect =2)"
   ]
  },
  {
   "cell_type": "markdown",
   "metadata": {},
   "source": [
    "## popularity of houses based on number of bedrooms"
   ]
  },
  {
   "cell_type": "code",
   "execution_count": null,
   "metadata": {},
   "outputs": [],
   "source": [
    "data['num_bedrooms'].value_counts().plot(kind = 'bar')\n",
    "plt.title('Popularity of Number of bed rooms')\n",
    "plt.xlabel(\"No of benrooms in a house\")\n",
    "plt.ylabel('Count of Houses')\n",
    "sb.despine"
   ]
  },
  {
   "cell_type": "markdown",
   "metadata": {},
   "source": [
    "## popularity of cities based on number of houses"
   ]
  },
  {
   "cell_type": "code",
   "execution_count": null,
   "metadata": {},
   "outputs": [],
   "source": [
    "data['city'].value_counts().plot(kind = 'bar')\n",
    "plt.title('Popularity of Cities based on Number of houses')\n",
    "plt.xlabel(\"No of House\")\n",
    "plt.ylabel('Cities')\n",
    "sb.despine"
   ]
  },
  {
   "cell_type": "markdown",
   "metadata": {},
   "source": [
    "## How are other variables affecting the price. (Correlation between  sell price and other variables)."
   ]
  },
  {
   "cell_type": "code",
   "execution_count": null,
   "metadata": {},
   "outputs": [],
   "source": [
    "#correlation btwn year bilt and house\n",
    "data['year_built'].corr(data['sale_price'])"
   ]
  },
  {
   "cell_type": "code",
   "execution_count": null,
   "metadata": {},
   "outputs": [],
   "source": [
    "plt.scatter(data.sale_price,data.year_built)\n",
    "plt.title('Year_built vs Price')\n",
    "plt.xlabel('PRICE')\n",
    "plt.ylabel('YEAR BUILT')"
   ]
  },
  {
   "cell_type": "code",
   "execution_count": null,
   "metadata": {},
   "outputs": [],
   "source": [
    "data['full_bathrooms'].corr(data['sale_price']) , min(data['full_bathrooms']), max(data['full_bathrooms'])"
   ]
  },
  {
   "cell_type": "code",
   "execution_count": null,
   "metadata": {},
   "outputs": [],
   "source": [
    "plt.scatter(data.sale_price,data.full_bathrooms)\n",
    "plt.title('full_bathrooms vs Price')\n",
    "plt.xlabel('PRICE')\n",
    "plt.ylabel('BATH ROOMs')"
   ]
  },
  {
   "cell_type": "code",
   "execution_count": null,
   "metadata": {},
   "outputs": [],
   "source": [
    "data['total_sqft'].corr(data['sale_price']) , min(data['total_sqft']), max(data['total_sqft'])"
   ]
  },
  {
   "cell_type": "code",
   "execution_count": null,
   "metadata": {},
   "outputs": [],
   "source": [
    "plt.scatter(data.sale_price,data.total_sqft)\n",
    "plt.title('total_sqfts vs Price')\n",
    "plt.xlabel('PRICE')\n",
    "plt.ylabel('TOTAl SQRFT')"
   ]
  },
  {
   "cell_type": "code",
   "execution_count": null,
   "metadata": {},
   "outputs": [],
   "source": [
    "plt.scatter(data.sale_price,data.zip_code)\n",
    "plt.title('Zipcode vs Price')\n",
    "plt.xlabel('PRICE')\n",
    "plt.ylabel('ZIPCODE')"
   ]
  },
  {
   "cell_type": "code",
   "execution_count": null,
   "metadata": {},
   "outputs": [],
   "source": [
    "data['half_bathrooms'].corr(data['sale_price']) , min(data['half_bathrooms']), max(data['half_bathrooms'])"
   ]
  },
  {
   "cell_type": "code",
   "execution_count": null,
   "metadata": {},
   "outputs": [],
   "source": [
    "data['num_bedrooms'].corr(data['sale_price']) , min(data['num_bedrooms']), max(data['num_bedrooms'])"
   ]
  },
  {
   "cell_type": "code",
   "execution_count": null,
   "metadata": {},
   "outputs": [],
   "source": [
    "plt.scatter(data.sale_price,data.num_bedrooms)\n",
    "plt.title('num_bedrooms vs Price')\n",
    "plt.xlabel('PRICE')\n",
    "plt.ylabel('num_bedrooms')"
   ]
  },
  {
   "cell_type": "code",
   "execution_count": null,
   "metadata": {},
   "outputs": [],
   "source": [
    "#data['carport_sqft'].corr(data['sale_price']) , min(data['carport_sqft']), max(data['carport_sqft'])"
   ]
  },
  {
   "cell_type": "markdown",
   "metadata": {},
   "source": [
    "plt.scatter(data.sale_price,data.has_fireplace)\n",
    "plt.title('hcarport_sqft vs Price')\n",
    "plt.xlabel('PRICE')\n",
    "plt.ylabel('carport_sqft')"
   ]
  },
  {
   "cell_type": "markdown",
   "metadata": {},
   "source": [
    "data['has_fireplace'].corr(data['sale_price']) , min(data['has_fireplace']), max(data['has_fireplace'])"
   ]
  },
  {
   "cell_type": "markdown",
   "metadata": {},
   "source": [
    "plt.scatter(data.sale_price,data.has_fireplace)\n",
    "plt.title('has_fireplace vs Price')\n",
    "plt.xlabel('PRICE')\n",
    "plt.ylabel('has_fireplace')"
   ]
  },
  {
   "cell_type": "code",
   "execution_count": null,
   "metadata": {},
   "outputs": [],
   "source": [
    "data['has_pool'].corr(data['sale_price']) , min(data['has_pool']), max(data['has_pool'])"
   ]
  },
  {
   "cell_type": "code",
   "execution_count": null,
   "metadata": {},
   "outputs": [],
   "source": [
    "plt.scatter(data.sale_price,data.has_pool)\n",
    "plt.title('has_pool vs Price')\n",
    "plt.xlabel('PRICE')\n",
    "plt.ylabel('has_pool')"
   ]
  },
  {
   "cell_type": "markdown",
   "metadata": {},
   "source": [
    "data['has_central_heating'].corr(data['sale_price']) , min(data['has_central_heating']), max(data['has_central_heating'])"
   ]
  },
  {
   "cell_type": "markdown",
   "metadata": {},
   "source": [
    "data['has_central_cooling'].corr(data['sale_price']) , min(data['has_central_cooling']), max(data['has_central_cooling'])"
   ]
  },
  {
   "cell_type": "markdown",
   "metadata": {},
   "source": [
    "## Mnnnnn I got some negative values "
   ]
  },
  {
   "cell_type": "code",
   "execution_count": null,
   "metadata": {},
   "outputs": [],
   "source": [
    "data['garage_sqft'].corr(data['sale_price']) , min(data['garage_sqft']), max(data['garage_sqft'])"
   ]
  },
  {
   "cell_type": "code",
   "execution_count": null,
   "metadata": {},
   "outputs": [],
   "source": [
    "plt.scatter(data.sale_price,data.garage_sqft)\n",
    "plt.title('garage_sqft vs Price')\n",
    "plt.xlabel('PRICE')\n",
    "plt.ylabel('garage_sqft')"
   ]
  },
  {
   "cell_type": "code",
   "execution_count": null,
   "metadata": {},
   "outputs": [],
   "source": [
    "data['livable_sqft'].corr(data['sale_price']) , min(data['livable_sqft']), max(data['livable_sqft'])"
   ]
  },
  {
   "cell_type": "code",
   "execution_count": null,
   "metadata": {},
   "outputs": [],
   "source": [
    "plt.scatter(data.sale_price,data.livable_sqft)\n",
    "plt.title('livable_sqft vs Price')\n",
    "plt.xlabel('PRICE')\n",
    "plt.ylabel('livable_sqft')"
   ]
  },
  {
   "cell_type": "code",
   "execution_count": null,
   "metadata": {},
   "outputs": [],
   "source": [
    "len(data[data['garage_sqft']< 0]) # negative values "
   ]
  },
  {
   "cell_type": "code",
   "execution_count": null,
   "metadata": {},
   "outputs": [],
   "source": [
    "data[data['garage_sqft']< 0] "
   ]
  },
  {
   "cell_type": "code",
   "execution_count": null,
   "metadata": {},
   "outputs": [],
   "source": [
    "data[data['livable_sqft']< 0]"
   ]
  },
  {
   "cell_type": "code",
   "execution_count": null,
   "metadata": {},
   "outputs": [],
   "source": [
    "oldyear = data[data['year_built'] < 2000].groupby('year_built').size()\n",
    "oldyear.sort_values(ascending = False).head()"
   ]
  },
  {
   "cell_type": "code",
   "execution_count": null,
   "metadata": {},
   "outputs": [],
   "source": [
    "year = data[data['year_built'] >= 2000].groupby('year_built').size()\n",
    "year.head()"
   ]
  },
  {
   "cell_type": "code",
   "execution_count": null,
   "metadata": {},
   "outputs": [],
   "source": [
    "data.groupby('city').size().sort_values(ascending = False).head()"
   ]
  },
  {
   "cell_type": "code",
   "execution_count": null,
   "metadata": {},
   "outputs": [],
   "source": []
  },
  {
   "cell_type": "markdown",
   "metadata": {},
   "source": [
    "## Data Wrangling\n",
    "change garage type to \n",
    "### Replace categorical data with one-hot encoded data\n",
    "data = pd.get_dummies(data, columns=['garage_type', 'city']\n"
   ]
  },
  {
   "cell_type": "code",
   "execution_count": null,
   "metadata": {},
   "outputs": [],
   "source": [
    "d = pd.get_dummies(data, columns=['garage_type', 'city','zip_code'])\n",
    "d.columns                      "
   ]
  },
  {
   "cell_type": "code",
   "execution_count": null,
   "metadata": {},
   "outputs": [],
   "source": [
    "d.head()"
   ]
  },
  {
   "cell_type": "code",
   "execution_count": null,
   "metadata": {},
   "outputs": [],
   "source": [
    "data.groupby('zip_code').size().sort_values(ascending = False).head()"
   ]
  },
  {
   "cell_type": "code",
   "execution_count": null,
   "metadata": {},
   "outputs": [],
   "source": [
    "selected_zip_codes = data[data['zip_code'].isin ([10250,11295 ,11510,10748,11911])]\n",
    "selected_zip_codes.shape"
   ]
  },
  {
   "cell_type": "code",
   "execution_count": null,
   "metadata": {},
   "outputs": [],
   "source": [
    "selected_zip_codes.to_csv('best_five_zipcodes.csv')\n",
    "selected_zip_codes.head()"
   ]
  },
  {
   "cell_type": "code",
   "execution_count": null,
   "metadata": {},
   "outputs": [],
   "source": [
    "#drop cols not needed\n",
    "d = d.drop('Year_levels',axis= 1)"
   ]
  },
  {
   "cell_type": "code",
   "execution_count": null,
   "metadata": {},
   "outputs": [],
   "source": [
    "#d_new.shape"
   ]
  },
  {
   "cell_type": "code",
   "execution_count": null,
   "metadata": {},
   "outputs": [],
   "source": []
  },
  {
   "cell_type": "markdown",
   "metadata": {},
   "source": [
    "## THE ML MODEL"
   ]
  },
  {
   "cell_type": "code",
   "execution_count": null,
   "metadata": {},
   "outputs": [],
   "source": [
    "#call the regresson function and save in variable called reg\n",
    "reg= LinearRegression()\n",
    "#create x and y arrays\n",
    "X = d.drop('sale_price',axis =1)\n",
    "Y = d['sale_price']"
   ]
  },
  {
   "cell_type": "code",
   "execution_count": null,
   "metadata": {},
   "outputs": [],
   "source": [
    "#create Arrays for x and y\n",
    "x = X.values\n",
    "y = Y.values\n",
    "y,x"
   ]
  },
  {
   "cell_type": "code",
   "execution_count": null,
   "metadata": {},
   "outputs": [],
   "source": [
    "#split the data\n",
    "X_train, X_test, y_train, y_test = train_test_split(x,y, test_size =.2, random_state = 0)"
   ]
  },
  {
   "cell_type": "code",
   "execution_count": null,
   "metadata": {},
   "outputs": [],
   "source": [
    "reg.fit(X_train,y_train)"
   ]
  },
  {
   "cell_type": "code",
   "execution_count": null,
   "metadata": {},
   "outputs": [],
   "source": [
    "reg.score(X_test,y_test)"
   ]
  },
  {
   "cell_type": "markdown",
   "metadata": {},
   "source": [
    "## MY model pridiction is very low so i have to use gradient Boasting"
   ]
  },
  {
   "cell_type": "code",
   "execution_count": null,
   "metadata": {},
   "outputs": [],
   "source": [
    "from sklearn import ensemble\n",
    "from sklearn.metrics import mean_absolute_error\n",
    "from sklearn.externals import joblib"
   ]
  },
  {
   "cell_type": "code",
   "execution_count": null,
   "metadata": {},
   "outputs": [],
   "source": [
    "model2 = ensemble.GradientBoostingRegressor(\n",
    "    n_estimators=400,\n",
    "    learning_rate=0.1,\n",
    "    max_depth=5,\n",
    "    min_samples_leaf=2,\n",
    "    loss='ls'\n",
    ")"
   ]
  },
  {
   "cell_type": "code",
   "execution_count": null,
   "metadata": {},
   "outputs": [],
   "source": [
    "model = ensemble.GradientBoostingRegressor(\n",
    "    n_estimators=1000,\n",
    "    learning_rate=0.1,\n",
    "    max_depth=6,\n",
    "    min_samples_leaf=9,\n",
    "    max_features=0.1,\n",
    "    loss='huber'\n",
    ")"
   ]
  },
  {
   "cell_type": "code",
   "execution_count": null,
   "metadata": {},
   "outputs": [],
   "source": [
    "model.fit(X_train, y_train)"
   ]
  },
  {
   "cell_type": "code",
   "execution_count": null,
   "metadata": {},
   "outputs": [],
   "source": [
    "model2.fit(X_train, y_train)"
   ]
  },
  {
   "cell_type": "code",
   "execution_count": null,
   "metadata": {},
   "outputs": [],
   "source": [
    "model.score(X_test ,y_test)"
   ]
  },
  {
   "cell_type": "code",
   "execution_count": null,
   "metadata": {},
   "outputs": [],
   "source": [
    "model2.score(X_test ,y_test)"
   ]
  },
  {
   "cell_type": "code",
   "execution_count": null,
   "metadata": {},
   "outputs": [],
   "source": [
    "# Save the trained model to a file so we can use it in other programs\n",
    "joblib.dump(model, 'trained_house_classifier_model.pkl')\n",
    "\n",
    "# Find the error rate on the training set\n",
    "mse = mean_absolute_error(y_train, model.predict(X_train))\n",
    "print(\"Training Set Mean Absolute Error: %.4f\" % mse)\n",
    "\n",
    "# Find the error rate on the test set\n",
    "mse = mean_absolute_error(y_test, model.predict(X_test))\n",
    "print(\"Test Set Mean Absolute Error: %.4f\" % mse)"
   ]
  },
  {
   "cell_type": "code",
   "execution_count": null,
   "metadata": {},
   "outputs": [],
   "source": []
  }
 ],
 "metadata": {
  "kernelspec": {
   "display_name": "Python 3",
   "language": "python",
   "name": "python3"
  },
  "language_info": {
   "codemirror_mode": {
    "name": "ipython",
    "version": 3
   },
   "file_extension": ".py",
   "mimetype": "text/x-python",
   "name": "python",
   "nbconvert_exporter": "python",
   "pygments_lexer": "ipython3",
   "version": "3.7.1"
  }
 },
 "nbformat": 4,
 "nbformat_minor": 2
}
